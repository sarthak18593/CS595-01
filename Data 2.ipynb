{
 "cells": [
  {
   "cell_type": "markdown",
   "metadata": {},
   "source": [
    "# CS 595 Data 2\n",
    "\n",
    "### Student: Sarthak Anand (A20389087)\n",
    "\n",
    "### Dataset : Mushroom Dataset from UCI\n",
    "\n",
    "This dataset includes descriptions of hypothetical samples corresponding to 23 species of gilled mushrooms in the Agaricus and Lepiota Family Mushroom drawn from The Audubon Society Field Guide to North American Mushrooms (1981). Each species is identified as definitely edible, definitely poisonous, or of unknown edibility and not recommended. This latter class was combined with the poisonous one.\n",
    "\n",
    "The objective of classification on this dataset is to classify mushrooms as edible or poisonous based the attributes given below.\n",
    "\n",
    "**Target -> class**: edible=e, poisonous=p\n",
    "#### Attribute information:\n",
    "1. **cap-shape**:                bell=b, conical=c, convex=x, flat=f, knobbed=k, sunken=s\n",
    "2. **cap-surface**:              fibrous=f, grooves=g, scaly=y, smooth=s\n",
    "3. **cap-color**:                brown=n, buff=b, cinnamon=c, gray=g, green=r, pink=p, purple=u, red=e, white=w, yellow=y\n",
    "4. **bruises**:                  bruises=t, no=f\n",
    "5. **odor**:                     almond=a, anise=l, creosote=c, fishy=y, foul=f, musty=m, none=n, pungent=p, spicy=s\n",
    "6. **gill-attachment**:          attached=a, descending=d, free=f, notched=n\n",
    "7. **gill-spacing**:             close=c, crowded=w, distant=d\n",
    "8. **gill-size**:                broad=b, narrow=n\n",
    "9. **gill-color**:               black=k, brown=n, buff=b, chocolate=h, gray=g, green=r, orange=o, pink=p, purple=u, red=e, white=w, yellow=y\n",
    "10. **stalk-shape**:              enlarging=e, tapering=t\n",
    "11. **stalk-root**:               bulbous=b, club=c, cup=u, equal=e, rhizomorphs=z, rooted=r, missing=?\n",
    "12. **stalk-surface-above-ring**: fibrous=f, scaly=y, silky=k, smooth=s\n",
    "13. **stalk-surface-below-ring**: fibrous=f, scaly=y, silky=k, smooth=s\n",
    "14. **stalk-color-above-ring**:   brown=n, buff=b, cinnamon=c, gray=g, orange=o, pink=p, red=e, white=w, yellow=y\n",
    "15. **stalk-color-below-ring**:   brown=n, buff=b, cinnamon=c, gray=g, orange=o, pink=p, red=e, white=w, yellow=y\n",
    "16. **veil-type**:                partial=p, universal=u\n",
    "17. **veil-color**:               brown=n, orange=o, white=w, yellow=y\n",
    "18. **ring-number**:              none=n, one=o, two=t\n",
    "19. **ring-type**:                cobwebby=c, evanescent=e, flaring=f, large=l, none=n, pendant=p, sheathing=s, zone=z\n",
    "20. **spore-print-color**:        black=k, brown=n, buff=b, chocolate=h, green=r, orange=o, purple=u, white=w, yellow=y\n",
    "21. **population**:               abundant=a, clustered=c, numerous=n, scattered=s, several=v, solitary=y\n",
    "22. **habitat**:                  grasses=g, leaves=l, meadows=m, paths=p, urban=u, waste=w, woods=d\n"
   ]
  },
  {
   "cell_type": "code",
   "execution_count": 1,
   "metadata": {
    "collapsed": true
   },
   "outputs": [],
   "source": [
    "import numpy as np\n",
    "import pandas as pd\n",
    "from sklearn.model_selection import train_test_split\n",
    "from sklearn.naive_bayes import BernoulliNB \n",
    "from sklearn import metrics"
   ]
  },
  {
   "cell_type": "code",
   "execution_count": 2,
   "metadata": {},
   "outputs": [
    {
     "name": "stdout",
     "output_type": "stream",
     "text": [
      "Original Data Shape =  (8124, 23)\n",
      "Data Shape after dropping objects with missing values =  (5644, 23)\n"
     ]
    },
    {
     "data": {
      "text/html": [
       "<div>\n",
       "<style>\n",
       "    .dataframe thead tr:only-child th {\n",
       "        text-align: right;\n",
       "    }\n",
       "\n",
       "    .dataframe thead th {\n",
       "        text-align: left;\n",
       "    }\n",
       "\n",
       "    .dataframe tbody tr th {\n",
       "        vertical-align: top;\n",
       "    }\n",
       "</style>\n",
       "<table border=\"1\" class=\"dataframe\">\n",
       "  <thead>\n",
       "    <tr style=\"text-align: right;\">\n",
       "      <th></th>\n",
       "      <th>class</th>\n",
       "      <th>cap-shape</th>\n",
       "      <th>cap-surface</th>\n",
       "      <th>cap-color</th>\n",
       "      <th>bruises</th>\n",
       "      <th>odor</th>\n",
       "      <th>gill-attachment</th>\n",
       "      <th>gill-spacing</th>\n",
       "      <th>gill-size</th>\n",
       "      <th>gill-color</th>\n",
       "      <th>...</th>\n",
       "      <th>stalk-surface-below-ring</th>\n",
       "      <th>stalk-color-above-ring</th>\n",
       "      <th>stalk-color-below-ring</th>\n",
       "      <th>veil-type</th>\n",
       "      <th>veil-color</th>\n",
       "      <th>ring-number</th>\n",
       "      <th>ring-type</th>\n",
       "      <th>spore-print-color</th>\n",
       "      <th>population</th>\n",
       "      <th>habitat</th>\n",
       "    </tr>\n",
       "  </thead>\n",
       "  <tbody>\n",
       "    <tr>\n",
       "      <th>0</th>\n",
       "      <td>p</td>\n",
       "      <td>x</td>\n",
       "      <td>s</td>\n",
       "      <td>n</td>\n",
       "      <td>t</td>\n",
       "      <td>p</td>\n",
       "      <td>f</td>\n",
       "      <td>c</td>\n",
       "      <td>n</td>\n",
       "      <td>k</td>\n",
       "      <td>...</td>\n",
       "      <td>s</td>\n",
       "      <td>w</td>\n",
       "      <td>w</td>\n",
       "      <td>p</td>\n",
       "      <td>w</td>\n",
       "      <td>o</td>\n",
       "      <td>p</td>\n",
       "      <td>k</td>\n",
       "      <td>s</td>\n",
       "      <td>u</td>\n",
       "    </tr>\n",
       "    <tr>\n",
       "      <th>1</th>\n",
       "      <td>e</td>\n",
       "      <td>x</td>\n",
       "      <td>s</td>\n",
       "      <td>y</td>\n",
       "      <td>t</td>\n",
       "      <td>a</td>\n",
       "      <td>f</td>\n",
       "      <td>c</td>\n",
       "      <td>b</td>\n",
       "      <td>k</td>\n",
       "      <td>...</td>\n",
       "      <td>s</td>\n",
       "      <td>w</td>\n",
       "      <td>w</td>\n",
       "      <td>p</td>\n",
       "      <td>w</td>\n",
       "      <td>o</td>\n",
       "      <td>p</td>\n",
       "      <td>n</td>\n",
       "      <td>n</td>\n",
       "      <td>g</td>\n",
       "    </tr>\n",
       "  </tbody>\n",
       "</table>\n",
       "<p>2 rows × 23 columns</p>\n",
       "</div>"
      ],
      "text/plain": [
       "  class cap-shape cap-surface cap-color bruises odor gill-attachment  \\\n",
       "0     p         x           s         n       t    p               f   \n",
       "1     e         x           s         y       t    a               f   \n",
       "\n",
       "  gill-spacing gill-size gill-color   ...   stalk-surface-below-ring  \\\n",
       "0            c         n          k   ...                          s   \n",
       "1            c         b          k   ...                          s   \n",
       "\n",
       "  stalk-color-above-ring stalk-color-below-ring veil-type veil-color  \\\n",
       "0                      w                      w         p          w   \n",
       "1                      w                      w         p          w   \n",
       "\n",
       "  ring-number ring-type spore-print-color population habitat  \n",
       "0           o         p                 k          s       u  \n",
       "1           o         p                 n          n       g  \n",
       "\n",
       "[2 rows x 23 columns]"
      ]
     },
     "execution_count": 2,
     "metadata": {},
     "output_type": "execute_result"
    }
   ],
   "source": [
    "df = pd.read_csv(\"mushrooms.csv\")\n",
    "print(\"Original Data Shape = \",df.shape)\n",
    "df = df[df['stalk-root'] != '?']#Stalk root contains some rows with '?' values, so we remove them \n",
    "print(\"Data Shape after dropping objects with missing values = \",df.shape)\n",
    "df.head(2)"
   ]
  },
  {
   "cell_type": "code",
   "execution_count": 3,
   "metadata": {},
   "outputs": [
    {
     "name": "stdout",
     "output_type": "stream",
     "text": [
      "Data Shape after One-hot encoding =  (5644, 99)\n",
      "\n",
      "Data after One-hot Encoding:\n"
     ]
    },
    {
     "data": {
      "text/html": [
       "<div>\n",
       "<style>\n",
       "    .dataframe thead tr:only-child th {\n",
       "        text-align: right;\n",
       "    }\n",
       "\n",
       "    .dataframe thead th {\n",
       "        text-align: left;\n",
       "    }\n",
       "\n",
       "    .dataframe tbody tr th {\n",
       "        vertical-align: top;\n",
       "    }\n",
       "</style>\n",
       "<table border=\"1\" class=\"dataframe\">\n",
       "  <thead>\n",
       "    <tr style=\"text-align: right;\">\n",
       "      <th></th>\n",
       "      <th>class</th>\n",
       "      <th>cap-shape_b</th>\n",
       "      <th>cap-shape_c</th>\n",
       "      <th>cap-shape_f</th>\n",
       "      <th>cap-shape_k</th>\n",
       "      <th>cap-shape_s</th>\n",
       "      <th>cap-shape_x</th>\n",
       "      <th>cap-surface_f</th>\n",
       "      <th>cap-surface_g</th>\n",
       "      <th>cap-surface_s</th>\n",
       "      <th>...</th>\n",
       "      <th>population_n</th>\n",
       "      <th>population_s</th>\n",
       "      <th>population_v</th>\n",
       "      <th>population_y</th>\n",
       "      <th>habitat_d</th>\n",
       "      <th>habitat_g</th>\n",
       "      <th>habitat_l</th>\n",
       "      <th>habitat_m</th>\n",
       "      <th>habitat_p</th>\n",
       "      <th>habitat_u</th>\n",
       "    </tr>\n",
       "  </thead>\n",
       "  <tbody>\n",
       "    <tr>\n",
       "      <th>0</th>\n",
       "      <td>0</td>\n",
       "      <td>0</td>\n",
       "      <td>0</td>\n",
       "      <td>0</td>\n",
       "      <td>0</td>\n",
       "      <td>0</td>\n",
       "      <td>1</td>\n",
       "      <td>0</td>\n",
       "      <td>0</td>\n",
       "      <td>1</td>\n",
       "      <td>...</td>\n",
       "      <td>0</td>\n",
       "      <td>1</td>\n",
       "      <td>0</td>\n",
       "      <td>0</td>\n",
       "      <td>0</td>\n",
       "      <td>0</td>\n",
       "      <td>0</td>\n",
       "      <td>0</td>\n",
       "      <td>0</td>\n",
       "      <td>1</td>\n",
       "    </tr>\n",
       "    <tr>\n",
       "      <th>1</th>\n",
       "      <td>1</td>\n",
       "      <td>0</td>\n",
       "      <td>0</td>\n",
       "      <td>0</td>\n",
       "      <td>0</td>\n",
       "      <td>0</td>\n",
       "      <td>1</td>\n",
       "      <td>0</td>\n",
       "      <td>0</td>\n",
       "      <td>1</td>\n",
       "      <td>...</td>\n",
       "      <td>1</td>\n",
       "      <td>0</td>\n",
       "      <td>0</td>\n",
       "      <td>0</td>\n",
       "      <td>0</td>\n",
       "      <td>1</td>\n",
       "      <td>0</td>\n",
       "      <td>0</td>\n",
       "      <td>0</td>\n",
       "      <td>0</td>\n",
       "    </tr>\n",
       "  </tbody>\n",
       "</table>\n",
       "<p>2 rows × 99 columns</p>\n",
       "</div>"
      ],
      "text/plain": [
       "   class  cap-shape_b  cap-shape_c  cap-shape_f  cap-shape_k  cap-shape_s  \\\n",
       "0      0            0            0            0            0            0   \n",
       "1      1            0            0            0            0            0   \n",
       "\n",
       "   cap-shape_x  cap-surface_f  cap-surface_g  cap-surface_s    ...      \\\n",
       "0            1              0              0              1    ...       \n",
       "1            1              0              0              1    ...       \n",
       "\n",
       "   population_n  population_s  population_v  population_y  habitat_d  \\\n",
       "0             0             1             0             0          0   \n",
       "1             1             0             0             0          0   \n",
       "\n",
       "   habitat_g  habitat_l  habitat_m  habitat_p  habitat_u  \n",
       "0          0          0          0          0          1  \n",
       "1          1          0          0          0          0  \n",
       "\n",
       "[2 rows x 99 columns]"
      ]
     },
     "execution_count": 3,
     "metadata": {},
     "output_type": "execute_result"
    }
   ],
   "source": [
    "# Since the features are categorical, I do one-hot encoding for the 22 features \n",
    "# The get_dummies pandas function automatically does one-hot encoding \n",
    "\n",
    "for col in df.drop('class',axis=1).columns:\n",
    "    one_hot = pd.get_dummies(df[col],prefix=col) # prefix is set to orginal col name + feature value so the column name is understandable \n",
    "    df.drop(col,axis=1,inplace=True) #drop the column that has been one-hot encoded\n",
    "    df = df.join(one_hot) # add the new columns to the original frame \n",
    "    \n",
    "# Mapping the values of target class from {p,e} to {0,1}\n",
    "df['class'] = df['class'].map(lambda x:0 if x == 'p' else 1)\n",
    "print(\"Data Shape after One-hot encoding = \",df.shape)\n",
    "print(\"\\nData after One-hot Encoding:\")\n",
    "df.head(2)"
   ]
  },
  {
   "cell_type": "code",
   "execution_count": 4,
   "metadata": {
    "collapsed": true
   },
   "outputs": [],
   "source": [
    "#Creating Train-Test split with a 2/3 train and 1/3 test split \n",
    "X_train, X_test, y_train, y_test = train_test_split(df.drop('class',axis=1), df['class'], test_size=0.33, random_state=43)"
   ]
  },
  {
   "cell_type": "code",
   "execution_count": 5,
   "metadata": {},
   "outputs": [
    {
     "name": "stdout",
     "output_type": "stream",
     "text": [
      "Test Accuracy = 0.939345142244\n",
      "Train Accuracy =  0.9370536895\n"
     ]
    }
   ],
   "source": [
    "#Training BernoulliNB classifiers with default parameters\n",
    "clf = BernoulliNB(fit_prior=True)\n",
    "clf.fit(X_train, y_train)\n",
    "print(\"Test Accuracy =\",metrics.accuracy_score(y_test,clf.predict(X_test)))\n",
    "print(\"Train Accuracy = \",metrics.accuracy_score(y_train,clf.predict(X_train)))"
   ]
  },
  {
   "cell_type": "code",
   "execution_count": 6,
   "metadata": {
    "collapsed": true
   },
   "outputs": [],
   "source": [
    "#probablities of the test objects\n",
    "probabilities = clf.predict_proba(X_test)"
   ]
  },
  {
   "cell_type": "code",
   "execution_count": 49,
   "metadata": {},
   "outputs": [],
   "source": [
    "# calculating the Total positive and total negative evidences for all objects \n",
    "\n",
    "reverse_log_prob = np.log(1 - np.exp(clf.feature_log_prob_)) #calculating log prob for negative dataset \n",
    "\n",
    "reverse_X_test = 1 - X_test # the negative of the original dataset ,since we dont know feature values for feature probabilites we use this\n",
    "\n",
    "log_ratios = clf.feature_log_prob_[1] - clf.feature_log_prob_[0] # log ratios\n",
    "reverse_log_ratios = reverse_log_prob[1] - reverse_log_prob[0]\n",
    "\n",
    "for i in range(0,X_test.shape[1]): \n",
    "    if log_ratios[i]<0:\n",
    "        neg_log_ratios[i] = log_ratios[i]  # if log ratio is less than 1 , we keep it for negative log evidence \n",
    "    else:\n",
    "        pos_log_ratios[i] = log_ratios[i] # if log ratio is more than 1, we keep it for positive log evidence \n",
    "\n",
    "for i in range(0,X_test.shape[1]): # same for negative dataset\n",
    "    if reverse_log_ratios[i]<0:\n",
    "        reverse_neg_log_ratios[i] = reverse_log_ratios[i]\n",
    "    else:\n",
    "        reverse_pos_log_ratios[i] = reverse_log_ratios[i]\n",
    "\n",
    "total_positive_evidence = np.dot(X_test,pos_log_ratios) + np.dot(reverse_X_test,reverse_pos_log_ratios) # add all positive log ratios\n",
    "total_negative_evidence = np.dot(X_test,neg_log_ratios) + np.dot(reverse_X_test,reverse_neg_log_ratios) # add all negative log ratios\n",
    "\n",
    "#to compensate for imbalance in the classes, we add the difference of log_prior to postive evidence if it is greater than 0\n",
    "# or to the negative evidence if it is less than zero \n",
    "\n",
    "if clf.class_log_prior_[0] - clf.class_log_prior_[1] >0:\n",
    "    total_positive_evidence+=(clf.class_log_prior_[0] - clf.class_log_prior_[1])\n",
    "else:\n",
    "    total_negative_evidence+=(clf.class_log_prior_[0] - clf.class_log_prior_[1])"
   ]
  },
  {
   "cell_type": "code",
   "execution_count": 40,
   "metadata": {
    "collapsed": true
   },
   "outputs": [],
   "source": [
    "def get_top_features(row, clf):\n",
    "    reverse_row = 1 - row\n",
    "    \n",
    "    #using multiply allows us to use evidences for each feature in an object\n",
    "    total_positive_evidence_row = np.add(np.multiply(row,pos_log_ratios),np.dot(reverse_row,reverse_pos_log_ratios))\n",
    "    total_negative_evidence_row = np.add(np.multiply(row,neg_log_ratios),np.dot(reverse_row,reverse_neg_log_ratios))\n",
    "    \n",
    "    top3_pos_ft_ids = total_positive_evidence_row.sort_values()[::-1][:3]\n",
    "    top3_neg_ft_ids = total_negative_evidence_row.sort_values()[:3]\n",
    "    \n",
    "    print(\"\\nd) Top 3 feature values that contribute to postive evidence: \")\n",
    "    for index,val in top3_pos_ft_ids.iteritems():\n",
    "        print(\"Feature: %s = %i                Feature Evidence: %f\"%(index, row[index], val))\n",
    "    print(\"\\ne) Top 3 feature values that contribute to negative evidence: \")\n",
    "    for index,val in top3_neg_ft_ids.iteritems():\n",
    "        print(\"Feature: %s = %i                Feature Evidence: %f\"%(index, row[index], val))"
   ]
  },
  {
   "cell_type": "markdown",
   "metadata": {},
   "source": [
    "### 1. Most Positive object in terms of probablity"
   ]
  },
  {
   "cell_type": "code",
   "execution_count": 41,
   "metadata": {},
   "outputs": [
    {
     "name": "stdout",
     "output_type": "stream",
     "text": [
      "a) Total Positive log Evidence =  37.4324336361\n",
      "b) Total Negative log Evidence =  -5.3688829504\n",
      "c) Probability Distribution =  [  4.75526809e-15   1.00000000e+00]\n",
      "\n",
      "d) Top 3 feature values that contribute to postive evidence: \n",
      "Feature: stalk-color-below-ring_g = 1                Feature Evidence: 16.923246\n",
      "Feature: stalk-color-above-ring_g = 1                Feature Evidence: 16.915423\n",
      "Feature: cap-color_e = 1                Feature Evidence: 14.958986\n",
      "\n",
      "e) Top 3 feature values that contribute to negative evidence: \n",
      "Feature: stalk-root_b = 1                Feature Evidence: -4.556393\n",
      "Feature: gill-spacing_c = 1                Feature Evidence: -4.344146\n",
      "Feature: cap-shape_f = 1                Feature Evidence: -4.216045\n"
     ]
    }
   ],
   "source": [
    "id_most_pos = np.argmax(probabilities[:,1])\n",
    "print(\"a) Total Positive log Evidence = \",total_positive_evidence[id_most_pos])\n",
    "print(\"b) Total Negative log Evidence = \", total_negative_evidence[id_most_pos])\n",
    "print(\"c) Probability Distribution = \", probabilities[id_most_pos])\n",
    "get_top_features(X_test.iloc[id_most_pos],clf)"
   ]
  },
  {
   "cell_type": "markdown",
   "metadata": {},
   "source": [
    "### 2. Most Negative object in terms of probablity"
   ]
  },
  {
   "cell_type": "code",
   "execution_count": 30,
   "metadata": {},
   "outputs": [
    {
     "name": "stdout",
     "output_type": "stream",
     "text": [
      "a) Total Positive log Evidence =  2.54953949578\n",
      "b) Total Negative log Evidence =  -64.0885646645\n",
      "c) Probability Distribution =  [  1.00000000e+00   4.69615917e-27]\n",
      "\n",
      "d) Top 3 feature values that contribute to postive evidence: \n",
      "Feature: gill-size_b = 1    Feature Evidence: 2.363646\n",
      "Feature: cap-surface_f = 1    Feature Evidence: 2.327093\n",
      "Feature: ring-number_o = 1    Feature Evidence: 2.214022\n",
      "\n",
      "e) Top 3 feature values that contribute to negative evidence: \n",
      "Feature: odor_f = 1    Feature Evidence: -20.740597\n",
      "Feature: spore-print-color_h = 1    Feature Evidence: -20.740597\n",
      "Feature: stalk-surface-above-ring_k = 1    Feature Evidence: -20.558647\n"
     ]
    }
   ],
   "source": [
    "id_most_neg = np.argmax(probabilities[:,0])\n",
    "\n",
    "print(\"a) Total Positive log Evidence = \",total_positive_evidence[id_most_neg])\n",
    "print(\"b) Total Negative log Evidence = \", total_negative_evidence[id_most_neg])\n",
    "print(\"c) Probability Distribution = \", probabilities[id_most_neg])\n",
    "get_top_features(X_test.iloc[id_most_neg],clf)"
   ]
  },
  {
   "cell_type": "markdown",
   "metadata": {},
   "source": [
    "### 3. Object that has highest Postive evidence "
   ]
  },
  {
   "cell_type": "code",
   "execution_count": 31,
   "metadata": {},
   "outputs": [
    {
     "name": "stdout",
     "output_type": "stream",
     "text": [
      "a) Total Positive log Evidence =  38.1977740213\n",
      "b) Total Negative log Evidence =  -5.40564703881\n",
      "c) Probability Distribution =  [  2.29487133e-15   1.00000000e+00]\n",
      "\n",
      "d) Top 3 feature values that contribute to postive evidence: \n",
      "Feature: stalk-color-below-ring_g = 1    Feature Evidence: 16.923246\n",
      "Feature: stalk-color-above-ring_g = 1    Feature Evidence: 16.915423\n",
      "Feature: cap-color_e = 1    Feature Evidence: 14.958986\n",
      "\n",
      "e) Top 3 feature values that contribute to negative evidence: \n",
      "Feature: stalk-root_b = 1    Feature Evidence: -4.593157\n",
      "Feature: gill-spacing_c = 1    Feature Evidence: -4.380910\n",
      "Feature: cap-shape_f = 1    Feature Evidence: -4.252809\n"
     ]
    }
   ],
   "source": [
    "id_most_pos_evi = np.argmax(total_positive_evidence)\n",
    "\n",
    "print(\"a) Total Positive log Evidence = \",total_positive_evidence[id_most_pos_evi])\n",
    "print(\"b) Total Negative log Evidence = \", total_negative_evidence[id_most_pos_evi])\n",
    "print(\"c) Probability Distribution = \", probabilities[id_most_pos_evi])\n",
    "get_top_features(X_test.iloc[id_most_pos_evi],clf)"
   ]
  },
  {
   "cell_type": "markdown",
   "metadata": {},
   "source": [
    "### 4. Object that has highest Negative evidence"
   ]
  },
  {
   "cell_type": "code",
   "execution_count": 32,
   "metadata": {},
   "outputs": [
    {
     "name": "stdout",
     "output_type": "stream",
     "text": [
      "a) Total Positive log Evidence =  2.33107629003\n",
      "b) Total Negative log Evidence =  -70.2487735903\n",
      "c) Probability Distribution =  [  1.00000000e+00   7.97114482e-30]\n",
      "\n",
      "d) Top 3 feature values that contribute to postive evidence: \n",
      "Feature: gill-size_b = 1    Feature Evidence: 2.145183\n",
      "Feature: cap-surface_f = 1    Feature Evidence: 2.108630\n",
      "Feature: ring-number_o = 1    Feature Evidence: 1.995559\n",
      "\n",
      "e) Top 3 feature values that contribute to negative evidence: \n",
      "Feature: odor_f = 1    Feature Evidence: -20.740597\n",
      "Feature: spore-print-color_h = 1    Feature Evidence: -20.740597\n",
      "Feature: stalk-surface-above-ring_k = 1    Feature Evidence: -20.558647\n"
     ]
    }
   ],
   "source": [
    "id_most_neg_evi = np.argmin(total_negative_evidence)\n",
    "\n",
    "print(\"a) Total Positive log Evidence = \",total_positive_evidence[id_most_neg_evi])\n",
    "print(\"b) Total Negative log Evidence = \", total_negative_evidence[id_most_neg_evi])\n",
    "print(\"c) Probability Distribution = \", probabilities[id_most_neg_evi])\n",
    "get_top_features(X_test.iloc[id_most_neg_evi],clf)"
   ]
  },
  {
   "cell_type": "markdown",
   "metadata": {},
   "source": [
    "### 5. Most Uncertain object"
   ]
  },
  {
   "cell_type": "code",
   "execution_count": 33,
   "metadata": {},
   "outputs": [
    {
     "name": "stdout",
     "output_type": "stream",
     "text": [
      "a) Total Positive log Evidence =  17.5677025156\n",
      "b) Total Negative log Evidence =  -18.489436257\n",
      "c) Probability Distribution =  [ 0.50144027  0.49855973]\n",
      "\n",
      "d) Top 3 feature values that contribute to postive evidence: \n",
      "Feature: spore-print-color_n = 1    Feature Evidence: 11.839002\n",
      "Feature: stalk-surface-above-ring_s = 1    Feature Evidence: 11.383251\n",
      "Feature: stalk-surface-below-ring_s = 1    Feature Evidence: 11.329455\n",
      "\n",
      "e) Top 3 feature values that contribute to negative evidence: \n",
      "Feature: odor_p = 1    Feature Evidence: -13.190534\n",
      "Feature: habitat_u = 1    Feature Evidence: -9.147483\n",
      "Feature: gill-size_n = 1    Feature Evidence: -8.770101\n"
     ]
    }
   ],
   "source": [
    "id_most_neutral = np.argmin(np.absolute(np.subtract(probabilities[:,0], probabilities[:,1])))\n",
    "\n",
    "print(\"a) Total Positive log Evidence = \",total_positive_evidence[id_most_neutral])\n",
    "print(\"b) Total Negative log Evidence = \", total_negative_evidence[id_most_neutral])\n",
    "print(\"c) Probability Distribution = \", probabilities[id_most_neutral])\n",
    "get_top_features(X_test.iloc[id_most_neutral],clf)"
   ]
  }
 ],
 "metadata": {
  "kernelspec": {
   "display_name": "Python [Root]",
   "language": "python",
   "name": "Python [Root]"
  },
  "language_info": {
   "codemirror_mode": {
    "name": "ipython",
    "version": 3
   },
   "file_extension": ".py",
   "mimetype": "text/x-python",
   "name": "python",
   "nbconvert_exporter": "python",
   "pygments_lexer": "ipython3",
   "version": "3.5.3"
  }
 },
 "nbformat": 4,
 "nbformat_minor": 2
}
