{
 "cells": [
  {
   "cell_type": "markdown",
   "metadata": {},
   "source": [
    "# CS 595 Data 3\n",
    "\n",
    "### Student: Sarthak Anand (A20389087)\n",
    "\n",
    "### Dataset : Mushroom Dataset from UCI\n",
    "\n",
    "This dataset includes descriptions of hypothetical samples corresponding to 23 species of gilled mushrooms in the Agaricus and Lepiota Family Mushroom drawn from The Audubon Society Field Guide to North American Mushrooms (1981). Each species is identified as definitely edible, definitely poisonous, or of unknown edibility and not recommended. This latter class was combined with the poisonous one.\n",
    "\n",
    "The objective of classification on this dataset is to classify mushrooms as edible or poisonous based the attributes given below.\n",
    "\n",
    "**Target -> class**: edible=e, poisonous=p\n",
    "#### Attribute information:\n",
    "1. **cap-shape**:                bell=b, conical=c, convex=x, flat=f, knobbed=k, sunken=s\n",
    "2. **cap-surface**:              fibrous=f, grooves=g, scaly=y, smooth=s\n",
    "3. **cap-color**:                brown=n, buff=b, cinnamon=c, gray=g, green=r, pink=p, purple=u, red=e, white=w, yellow=y\n",
    "4. **bruises**:                  bruises=t, no=f\n",
    "5. **odor**:                     almond=a, anise=l, creosote=c, fishy=y, foul=f, musty=m, none=n, pungent=p, spicy=s\n",
    "6. **gill-attachment**:          attached=a, descending=d, free=f, notched=n\n",
    "7. **gill-spacing**:             close=c, crowded=w, distant=d\n",
    "8. **gill-size**:                broad=b, narrow=n\n",
    "9. **gill-color**:               black=k, brown=n, buff=b, chocolate=h, gray=g, green=r, orange=o, pink=p, purple=u, red=e, white=w, yellow=y\n",
    "10. **stalk-shape**:              enlarging=e, tapering=t\n",
    "11. **stalk-root**:               bulbous=b, club=c, cup=u, equal=e, rhizomorphs=z, rooted=r, missing=?\n",
    "12. **stalk-surface-above-ring**: fibrous=f, scaly=y, silky=k, smooth=s\n",
    "13. **stalk-surface-below-ring**: fibrous=f, scaly=y, silky=k, smooth=s\n",
    "14. **stalk-color-above-ring**:   brown=n, buff=b, cinnamon=c, gray=g, orange=o, pink=p, red=e, white=w, yellow=y\n",
    "15. **stalk-color-below-ring**:   brown=n, buff=b, cinnamon=c, gray=g, orange=o, pink=p, red=e, white=w, yellow=y\n",
    "16. **veil-type**:                partial=p, universal=u\n",
    "17. **veil-color**:               brown=n, orange=o, white=w, yellow=y\n",
    "18. **ring-number**:              none=n, one=o, two=t\n",
    "19. **ring-type**:                cobwebby=c, evanescent=e, flaring=f, large=l, none=n, pendant=p, sheathing=s, zone=z\n",
    "20. **spore-print-color**:        black=k, brown=n, buff=b, chocolate=h, green=r, orange=o, purple=u, white=w, yellow=y\n",
    "21. **population**:               abundant=a, clustered=c, numerous=n, scattered=s, several=v, solitary=y\n",
    "22. **habitat**:                  grasses=g, leaves=l, meadows=m, paths=p, urban=u, waste=w, woods=d\n",
    "\n"
   ]
  },
  {
   "cell_type": "code",
   "execution_count": 32,
   "metadata": {
    "collapsed": true
   },
   "outputs": [],
   "source": [
    "import pandas as pd\n",
    "import numpy as np\n",
    "from sklearn.linear_model import LogisticRegression\n",
    "from sklearn.model_selection import train_test_split\n",
    "from sklearn import metrics\n",
    "from sklearn.tree import DecisionTreeClassifier\n",
    "from sklearn import tree\n",
    "import graphviz\n",
    "from sklearn.preprocessing import StandardScaler"
   ]
  },
  {
   "cell_type": "markdown",
   "metadata": {},
   "source": [
    "### Load Data"
   ]
  },
  {
   "cell_type": "code",
   "execution_count": 33,
   "metadata": {},
   "outputs": [
    {
     "name": "stdout",
     "output_type": "stream",
     "text": [
      "Original Data Shape =  (8124, 23)\n",
      "Data Shape after dropping objects with missing values =  (5644, 23)\n"
     ]
    },
    {
     "data": {
      "text/html": [
       "<div>\n",
       "<style>\n",
       "    .dataframe thead tr:only-child th {\n",
       "        text-align: right;\n",
       "    }\n",
       "\n",
       "    .dataframe thead th {\n",
       "        text-align: left;\n",
       "    }\n",
       "\n",
       "    .dataframe tbody tr th {\n",
       "        vertical-align: top;\n",
       "    }\n",
       "</style>\n",
       "<table border=\"1\" class=\"dataframe\">\n",
       "  <thead>\n",
       "    <tr style=\"text-align: right;\">\n",
       "      <th></th>\n",
       "      <th>class</th>\n",
       "      <th>cap-shape</th>\n",
       "      <th>cap-surface</th>\n",
       "      <th>cap-color</th>\n",
       "      <th>bruises</th>\n",
       "      <th>odor</th>\n",
       "      <th>gill-attachment</th>\n",
       "      <th>gill-spacing</th>\n",
       "      <th>gill-size</th>\n",
       "      <th>gill-color</th>\n",
       "      <th>...</th>\n",
       "      <th>stalk-surface-below-ring</th>\n",
       "      <th>stalk-color-above-ring</th>\n",
       "      <th>stalk-color-below-ring</th>\n",
       "      <th>veil-type</th>\n",
       "      <th>veil-color</th>\n",
       "      <th>ring-number</th>\n",
       "      <th>ring-type</th>\n",
       "      <th>spore-print-color</th>\n",
       "      <th>population</th>\n",
       "      <th>habitat</th>\n",
       "    </tr>\n",
       "  </thead>\n",
       "  <tbody>\n",
       "    <tr>\n",
       "      <th>0</th>\n",
       "      <td>p</td>\n",
       "      <td>x</td>\n",
       "      <td>s</td>\n",
       "      <td>n</td>\n",
       "      <td>t</td>\n",
       "      <td>p</td>\n",
       "      <td>f</td>\n",
       "      <td>c</td>\n",
       "      <td>n</td>\n",
       "      <td>k</td>\n",
       "      <td>...</td>\n",
       "      <td>s</td>\n",
       "      <td>w</td>\n",
       "      <td>w</td>\n",
       "      <td>p</td>\n",
       "      <td>w</td>\n",
       "      <td>o</td>\n",
       "      <td>p</td>\n",
       "      <td>k</td>\n",
       "      <td>s</td>\n",
       "      <td>u</td>\n",
       "    </tr>\n",
       "    <tr>\n",
       "      <th>1</th>\n",
       "      <td>e</td>\n",
       "      <td>x</td>\n",
       "      <td>s</td>\n",
       "      <td>y</td>\n",
       "      <td>t</td>\n",
       "      <td>a</td>\n",
       "      <td>f</td>\n",
       "      <td>c</td>\n",
       "      <td>b</td>\n",
       "      <td>k</td>\n",
       "      <td>...</td>\n",
       "      <td>s</td>\n",
       "      <td>w</td>\n",
       "      <td>w</td>\n",
       "      <td>p</td>\n",
       "      <td>w</td>\n",
       "      <td>o</td>\n",
       "      <td>p</td>\n",
       "      <td>n</td>\n",
       "      <td>n</td>\n",
       "      <td>g</td>\n",
       "    </tr>\n",
       "  </tbody>\n",
       "</table>\n",
       "<p>2 rows × 23 columns</p>\n",
       "</div>"
      ],
      "text/plain": [
       "  class cap-shape cap-surface cap-color bruises odor gill-attachment  \\\n",
       "0     p         x           s         n       t    p               f   \n",
       "1     e         x           s         y       t    a               f   \n",
       "\n",
       "  gill-spacing gill-size gill-color   ...   stalk-surface-below-ring  \\\n",
       "0            c         n          k   ...                          s   \n",
       "1            c         b          k   ...                          s   \n",
       "\n",
       "  stalk-color-above-ring stalk-color-below-ring veil-type veil-color  \\\n",
       "0                      w                      w         p          w   \n",
       "1                      w                      w         p          w   \n",
       "\n",
       "  ring-number ring-type spore-print-color population habitat  \n",
       "0           o         p                 k          s       u  \n",
       "1           o         p                 n          n       g  \n",
       "\n",
       "[2 rows x 23 columns]"
      ]
     },
     "execution_count": 33,
     "metadata": {},
     "output_type": "execute_result"
    }
   ],
   "source": [
    "df = pd.read_csv(\"mushrooms.csv\")\n",
    "print(\"Original Data Shape = \",df.shape)\n",
    "df = df[df['stalk-root'] != '?']#Stalk root contains some rows with '?' values, so we remove them \n",
    "print(\"Data Shape after dropping objects with missing values = \",df.shape)\n",
    "df.head(2)"
   ]
  },
  {
   "cell_type": "markdown",
   "metadata": {},
   "source": [
    "### One-hot Encoding"
   ]
  },
  {
   "cell_type": "code",
   "execution_count": 34,
   "metadata": {},
   "outputs": [
    {
     "name": "stdout",
     "output_type": "stream",
     "text": [
      "Data Shape after One-hot encoding =  (5644, 99)\n",
      "\n",
      "Data after One-hot Encoding:\n"
     ]
    },
    {
     "data": {
      "text/html": [
       "<div>\n",
       "<style>\n",
       "    .dataframe thead tr:only-child th {\n",
       "        text-align: right;\n",
       "    }\n",
       "\n",
       "    .dataframe thead th {\n",
       "        text-align: left;\n",
       "    }\n",
       "\n",
       "    .dataframe tbody tr th {\n",
       "        vertical-align: top;\n",
       "    }\n",
       "</style>\n",
       "<table border=\"1\" class=\"dataframe\">\n",
       "  <thead>\n",
       "    <tr style=\"text-align: right;\">\n",
       "      <th></th>\n",
       "      <th>class</th>\n",
       "      <th>cap-shape_b</th>\n",
       "      <th>cap-shape_c</th>\n",
       "      <th>cap-shape_f</th>\n",
       "      <th>cap-shape_k</th>\n",
       "      <th>cap-shape_s</th>\n",
       "      <th>cap-shape_x</th>\n",
       "      <th>cap-surface_f</th>\n",
       "      <th>cap-surface_g</th>\n",
       "      <th>cap-surface_s</th>\n",
       "      <th>...</th>\n",
       "      <th>population_n</th>\n",
       "      <th>population_s</th>\n",
       "      <th>population_v</th>\n",
       "      <th>population_y</th>\n",
       "      <th>habitat_d</th>\n",
       "      <th>habitat_g</th>\n",
       "      <th>habitat_l</th>\n",
       "      <th>habitat_m</th>\n",
       "      <th>habitat_p</th>\n",
       "      <th>habitat_u</th>\n",
       "    </tr>\n",
       "  </thead>\n",
       "  <tbody>\n",
       "    <tr>\n",
       "      <th>0</th>\n",
       "      <td>0</td>\n",
       "      <td>0</td>\n",
       "      <td>0</td>\n",
       "      <td>0</td>\n",
       "      <td>0</td>\n",
       "      <td>0</td>\n",
       "      <td>1</td>\n",
       "      <td>0</td>\n",
       "      <td>0</td>\n",
       "      <td>1</td>\n",
       "      <td>...</td>\n",
       "      <td>0</td>\n",
       "      <td>1</td>\n",
       "      <td>0</td>\n",
       "      <td>0</td>\n",
       "      <td>0</td>\n",
       "      <td>0</td>\n",
       "      <td>0</td>\n",
       "      <td>0</td>\n",
       "      <td>0</td>\n",
       "      <td>1</td>\n",
       "    </tr>\n",
       "    <tr>\n",
       "      <th>1</th>\n",
       "      <td>1</td>\n",
       "      <td>0</td>\n",
       "      <td>0</td>\n",
       "      <td>0</td>\n",
       "      <td>0</td>\n",
       "      <td>0</td>\n",
       "      <td>1</td>\n",
       "      <td>0</td>\n",
       "      <td>0</td>\n",
       "      <td>1</td>\n",
       "      <td>...</td>\n",
       "      <td>1</td>\n",
       "      <td>0</td>\n",
       "      <td>0</td>\n",
       "      <td>0</td>\n",
       "      <td>0</td>\n",
       "      <td>1</td>\n",
       "      <td>0</td>\n",
       "      <td>0</td>\n",
       "      <td>0</td>\n",
       "      <td>0</td>\n",
       "    </tr>\n",
       "  </tbody>\n",
       "</table>\n",
       "<p>2 rows × 99 columns</p>\n",
       "</div>"
      ],
      "text/plain": [
       "   class  cap-shape_b  cap-shape_c  cap-shape_f  cap-shape_k  cap-shape_s  \\\n",
       "0      0            0            0            0            0            0   \n",
       "1      1            0            0            0            0            0   \n",
       "\n",
       "   cap-shape_x  cap-surface_f  cap-surface_g  cap-surface_s    ...      \\\n",
       "0            1              0              0              1    ...       \n",
       "1            1              0              0              1    ...       \n",
       "\n",
       "   population_n  population_s  population_v  population_y  habitat_d  \\\n",
       "0             0             1             0             0          0   \n",
       "1             1             0             0             0          0   \n",
       "\n",
       "   habitat_g  habitat_l  habitat_m  habitat_p  habitat_u  \n",
       "0          0          0          0          0          1  \n",
       "1          1          0          0          0          0  \n",
       "\n",
       "[2 rows x 99 columns]"
      ]
     },
     "execution_count": 34,
     "metadata": {},
     "output_type": "execute_result"
    }
   ],
   "source": [
    "# Since the features are categorical, I do one-hot encoding for the 22 features \n",
    "# The get_dummies pandas function automatically does one-hot encoding \n",
    "\n",
    "for col in df.drop('class',axis=1).columns:\n",
    "    one_hot = pd.get_dummies(df[col],prefix=col) # prefix is set to orginal col name + feature value so the column name is understandable \n",
    "    df.drop(col,axis=1,inplace=True) #drop the column that has been one-hot encoded\n",
    "    df = df.join(one_hot) # add the new columns to the original frame \n",
    "    \n",
    "# Mapping the values of target class from {p,e} to {0,1}\n",
    "df['class'] = df['class'].map(lambda x:0 if x == 'p' else 1)\n",
    "print(\"Data Shape after One-hot encoding = \",df.shape)\n",
    "print(\"\\nData after One-hot Encoding:\")\n",
    "df.head(2)"
   ]
  },
  {
   "cell_type": "code",
   "execution_count": 64,
   "metadata": {
    "collapsed": true
   },
   "outputs": [],
   "source": [
    "#Creating Train-Test split with a 2/3 train and 1/3 test split \n",
    "X_train, X_test, y_train, y_test = train_test_split(df.drop('class',axis=1), df['class'], test_size=0.33, random_state=42)"
   ]
  },
  {
   "cell_type": "code",
   "execution_count": 65,
   "metadata": {},
   "outputs": [
    {
     "data": {
      "text/plain": [
       "LogisticRegression(C=1.0, class_weight=None, dual=False, fit_intercept=True,\n",
       "          intercept_scaling=1, max_iter=100, multi_class='ovr', n_jobs=1,\n",
       "          penalty='l2', random_state=None, solver='liblinear', tol=0.0001,\n",
       "          verbose=0, warm_start=False)"
      ]
     },
     "execution_count": 65,
     "metadata": {},
     "output_type": "execute_result"
    }
   ],
   "source": [
    "#Training Logistic Regresiion classifiers with penalty= 'l2'\n",
    "LRL2 = LogisticRegression(penalty='l2')\n",
    "LRL2.fit(X_train, y_train)"
   ]
  },
  {
   "cell_type": "code",
   "execution_count": 66,
   "metadata": {},
   "outputs": [
    {
     "data": {
      "text/plain": [
       "LogisticRegression(C=1.0, class_weight=None, dual=False, fit_intercept=True,\n",
       "          intercept_scaling=1, max_iter=100, multi_class='ovr', n_jobs=1,\n",
       "          penalty='l1', random_state=None, solver='liblinear', tol=0.0001,\n",
       "          verbose=0, warm_start=False)"
      ]
     },
     "execution_count": 66,
     "metadata": {},
     "output_type": "execute_result"
    }
   ],
   "source": [
    "#Training Logistic Regresiion classifiers with penalty= 'l1'\n",
    "LRL1 = LogisticRegression(penalty='l1')\n",
    "LRL1.fit(X_train, y_train)"
   ]
  },
  {
   "cell_type": "markdown",
   "metadata": {},
   "source": [
    "### Top 10 Features for Logistic Regression with L2 penalty with original data"
   ]
  },
  {
   "cell_type": "code",
   "execution_count": 67,
   "metadata": {},
   "outputs": [
    {
     "name": "stdout",
     "output_type": "stream",
     "text": [
      "Logistic Regression L2 penalty Top 10 Features \n",
      "\n",
      " 1) odor_m \t\t weight: 2.694704\n",
      " 2) odor_n \t\t weight: -2.658317\n",
      " 3) odor_c \t\t weight: -2.358381\n",
      " 4) ring-type_p \t\t weight: -2.358381\n",
      " 5) bruises_t \t\t weight: 2.341907\n",
      " 6) odor_f \t\t weight: 2.340586\n",
      " 7) odor_a \t\t weight: -2.157740\n",
      " 8) spore-print-color_n \t\t weight: -2.144303\n",
      " 9) stalk-shape_t \t\t weight: -1.892655\n",
      " 10) population_a \t\t weight: -1.878381\n"
     ]
    }
   ],
   "source": [
    "top10L2 = np.argsort(np.absolute(LRL2.coef_[0]))[::-1]\n",
    "print(\"Logistic Regression L2 penalty Top 10 Features \\n\")\n",
    "for x in range(0,10):\n",
    "    print(\" %i) %s \\t\\t weight: %f\"%(x+1,df.columns[top10L2[x]],LRL2.coef_[0][top10L2[x]]))"
   ]
  },
  {
   "cell_type": "markdown",
   "metadata": {},
   "source": [
    "### Top 10 Features for Logistic Regression with L1 penalty with original data"
   ]
  },
  {
   "cell_type": "code",
   "execution_count": 68,
   "metadata": {},
   "outputs": [
    {
     "name": "stdout",
     "output_type": "stream",
     "text": [
      "Logistic Regression L1 penalty Top 10 Features \n",
      "\n",
      " 1) spore-print-color_n \t\t weight: -9.039568\n",
      " 2) population_a \t\t weight: -6.397499\n",
      " 3) ring-type_p \t\t weight: -4.842634\n",
      " 4) odor_m \t\t weight: 4.823935\n",
      " 5) odor_f \t\t weight: 4.631490\n",
      " 6) bruises_t \t\t weight: 4.607351\n",
      " 7) odor_n \t\t weight: -4.317890\n",
      " 8) odor_a \t\t weight: -3.520975\n",
      " 9) odor_c \t\t weight: -3.154035\n",
      " 10) stalk-shape_e \t\t weight: 1.813463\n"
     ]
    }
   ],
   "source": [
    "top10L1 = np.argsort(np.absolute(LRL1.coef_[0]))[::-1]\n",
    "print(\"Logistic Regression L1 penalty Top 10 Features \\n\")\n",
    "for x in range(0,10):\n",
    "    print(\" %i) %s \\t\\t weight: %f\"%(x+1,df.columns[top10L1[x]],LRL1.coef_[0][top10L1[x]]))"
   ]
  },
  {
   "cell_type": "markdown",
   "metadata": {},
   "source": [
    "### Decision Tree with original data"
   ]
  },
  {
   "cell_type": "code",
   "execution_count": 69,
   "metadata": {},
   "outputs": [
    {
     "data": {
      "image/svg+xml": [
       "<?xml version=\"1.0\" encoding=\"UTF-8\" standalone=\"no\"?>\n",
       "<!DOCTYPE svg PUBLIC \"-//W3C//DTD SVG 1.1//EN\"\n",
       " \"http://www.w3.org/Graphics/SVG/1.1/DTD/svg11.dtd\">\n",
       "<!-- Generated by graphviz version 2.38.0 (20140413.2041)\n",
       " -->\n",
       "<!-- Title: Tree Pages: 1 -->\n",
       "<svg width=\"753pt\" height=\"458pt\"\n",
       " viewBox=\"0.00 0.00 753.02 458.00\" xmlns=\"http://www.w3.org/2000/svg\" xmlns:xlink=\"http://www.w3.org/1999/xlink\">\n",
       "<g id=\"graph0\" class=\"graph\" transform=\"scale(1 1) rotate(0) translate(4 454)\">\n",
       "<title>Tree</title>\n",
       "<polygon fill=\"white\" stroke=\"none\" points=\"-4,4 -4,-454 749.02,-454 749.02,4 -4,4\"/>\n",
       "<!-- 0 -->\n",
       "<g id=\"node1\" class=\"node\"><title>0</title>\n",
       "<path fill=\"#399de5\" fill-opacity=\"0.372549\" stroke=\"black\" d=\"M589.835,-450C589.835,-450 470.292,-450 470.292,-450 464.292,-450 458.292,-444 458.292,-438 458.292,-438 458.292,-398 458.292,-398 458.292,-392 464.292,-386 470.292,-386 470.292,-386 589.835,-386 589.835,-386 595.835,-386 601.835,-392 601.835,-398 601.835,-398 601.835,-438 601.835,-438 601.835,-444 595.835,-450 589.835,-450\"/>\n",
       "<text text-anchor=\"middle\" x=\"530.063\" y=\"-434.8\" font-family=\"Helvetica,sans-Serif\" font-size=\"14.00\">odor_f &lt;= 0.5</text>\n",
       "<text text-anchor=\"middle\" x=\"530.063\" y=\"-420.8\" font-family=\"Helvetica,sans-Serif\" font-size=\"14.00\">gini = 0.474</text>\n",
       "<text text-anchor=\"middle\" x=\"530.063\" y=\"-406.8\" font-family=\"Helvetica,sans-Serif\" font-size=\"14.00\">samples = 3781</text>\n",
       "<text text-anchor=\"middle\" x=\"530.063\" y=\"-392.8\" font-family=\"Helvetica,sans-Serif\" font-size=\"14.00\">value = [1459, 2322]</text>\n",
       "</g>\n",
       "<!-- 1 -->\n",
       "<g id=\"node2\" class=\"node\"><title>1</title>\n",
       "<path fill=\"#399de5\" fill-opacity=\"0.839216\" stroke=\"black\" d=\"M513.05,-350C513.05,-350 401.077,-350 401.077,-350 395.077,-350 389.077,-344 389.077,-338 389.077,-338 389.077,-298 389.077,-298 389.077,-292 395.077,-286 401.077,-286 401.077,-286 513.05,-286 513.05,-286 519.05,-286 525.05,-292 525.05,-298 525.05,-298 525.05,-338 525.05,-338 525.05,-344 519.05,-350 513.05,-350\"/>\n",
       "<text text-anchor=\"middle\" x=\"457.063\" y=\"-334.8\" font-family=\"Helvetica,sans-Serif\" font-size=\"14.00\">gill&#45;size_b &lt;= 0.5</text>\n",
       "<text text-anchor=\"middle\" x=\"457.063\" y=\"-320.8\" font-family=\"Helvetica,sans-Serif\" font-size=\"14.00\">gini = 0.239</text>\n",
       "<text text-anchor=\"middle\" x=\"457.063\" y=\"-306.8\" font-family=\"Helvetica,sans-Serif\" font-size=\"14.00\">samples = 2697</text>\n",
       "<text text-anchor=\"middle\" x=\"457.063\" y=\"-292.8\" font-family=\"Helvetica,sans-Serif\" font-size=\"14.00\">value = [375, 2322]</text>\n",
       "</g>\n",
       "<!-- 0&#45;&gt;1 -->\n",
       "<g id=\"edge1\" class=\"edge\"><title>0&#45;&gt;1</title>\n",
       "<path fill=\"none\" stroke=\"black\" d=\"M506.966,-385.992C500.442,-377.234 493.254,-367.585 486.415,-358.404\"/>\n",
       "<polygon fill=\"black\" stroke=\"black\" points=\"489.042,-356.071 480.261,-350.142 483.428,-360.253 489.042,-356.071\"/>\n",
       "<text text-anchor=\"middle\" x=\"476.645\" y=\"-370.679\" font-family=\"Helvetica,sans-Serif\" font-size=\"14.00\">True</text>\n",
       "</g>\n",
       "<!-- 14 -->\n",
       "<g id=\"node15\" class=\"node\"><title>14</title>\n",
       "<path fill=\"#e58139\" stroke=\"black\" d=\"M650.977,-343C650.977,-343 555.15,-343 555.15,-343 549.15,-343 543.15,-337 543.15,-331 543.15,-331 543.15,-305 543.15,-305 543.15,-299 549.15,-293 555.15,-293 555.15,-293 650.977,-293 650.977,-293 656.977,-293 662.977,-299 662.977,-305 662.977,-305 662.977,-331 662.977,-331 662.977,-337 656.977,-343 650.977,-343\"/>\n",
       "<text text-anchor=\"middle\" x=\"603.063\" y=\"-327.8\" font-family=\"Helvetica,sans-Serif\" font-size=\"14.00\">gini = 0.0</text>\n",
       "<text text-anchor=\"middle\" x=\"603.063\" y=\"-313.8\" font-family=\"Helvetica,sans-Serif\" font-size=\"14.00\">samples = 1084</text>\n",
       "<text text-anchor=\"middle\" x=\"603.063\" y=\"-299.8\" font-family=\"Helvetica,sans-Serif\" font-size=\"14.00\">value = [1084, 0]</text>\n",
       "</g>\n",
       "<!-- 0&#45;&gt;14 -->\n",
       "<g id=\"edge14\" class=\"edge\"><title>0&#45;&gt;14</title>\n",
       "<path fill=\"none\" stroke=\"black\" d=\"M553.161,-385.992C561.35,-375 570.583,-362.604 578.861,-351.491\"/>\n",
       "<polygon fill=\"black\" stroke=\"black\" points=\"581.805,-353.398 584.972,-343.288 576.191,-349.216 581.805,-353.398\"/>\n",
       "<text text-anchor=\"middle\" x=\"588.588\" y=\"-363.825\" font-family=\"Helvetica,sans-Serif\" font-size=\"14.00\">False</text>\n",
       "</g>\n",
       "<!-- 2 -->\n",
       "<g id=\"node3\" class=\"node\"><title>2</title>\n",
       "<path fill=\"#e58139\" fill-opacity=\"0.509804\" stroke=\"black\" d=\"M417.763,-250C417.763,-250 314.364,-250 314.364,-250 308.364,-250 302.364,-244 302.364,-238 302.364,-238 302.364,-198 302.364,-198 302.364,-192 308.364,-186 314.364,-186 314.364,-186 417.763,-186 417.763,-186 423.763,-186 429.763,-192 429.763,-198 429.763,-198 429.763,-238 429.763,-238 429.763,-244 423.763,-250 417.763,-250\"/>\n",
       "<text text-anchor=\"middle\" x=\"366.063\" y=\"-234.8\" font-family=\"Helvetica,sans-Serif\" font-size=\"14.00\">odor_n &lt;= 0.5</text>\n",
       "<text text-anchor=\"middle\" x=\"366.063\" y=\"-220.8\" font-family=\"Helvetica,sans-Serif\" font-size=\"14.00\">gini = 0.442</text>\n",
       "<text text-anchor=\"middle\" x=\"366.063\" y=\"-206.8\" font-family=\"Helvetica,sans-Serif\" font-size=\"14.00\">samples = 440</text>\n",
       "<text text-anchor=\"middle\" x=\"366.063\" y=\"-192.8\" font-family=\"Helvetica,sans-Serif\" font-size=\"14.00\">value = [295, 145]</text>\n",
       "</g>\n",
       "<!-- 1&#45;&gt;2 -->\n",
       "<g id=\"edge2\" class=\"edge\"><title>1&#45;&gt;2</title>\n",
       "<path fill=\"none\" stroke=\"black\" d=\"M428.271,-285.992C419.889,-276.966 410.629,-266.993 401.871,-257.562\"/>\n",
       "<polygon fill=\"black\" stroke=\"black\" points=\"404.351,-255.089 394.981,-250.142 399.221,-259.852 404.351,-255.089\"/>\n",
       "</g>\n",
       "<!-- 9 -->\n",
       "<g id=\"node10\" class=\"node\"><title>9</title>\n",
       "<path fill=\"#399de5\" fill-opacity=\"0.964706\" stroke=\"black\" d=\"M611.205,-250C611.205,-250 484.922,-250 484.922,-250 478.922,-250 472.922,-244 472.922,-238 472.922,-238 472.922,-198 472.922,-198 472.922,-192 478.922,-186 484.922,-186 484.922,-186 611.205,-186 611.205,-186 617.205,-186 623.205,-192 623.205,-198 623.205,-198 623.205,-238 623.205,-238 623.205,-244 617.205,-250 611.205,-250\"/>\n",
       "<text text-anchor=\"middle\" x=\"548.063\" y=\"-234.8\" font-family=\"Helvetica,sans-Serif\" font-size=\"14.00\">ring&#45;number_o &lt;= 0.5</text>\n",
       "<text text-anchor=\"middle\" x=\"548.063\" y=\"-220.8\" font-family=\"Helvetica,sans-Serif\" font-size=\"14.00\">gini = 0.068</text>\n",
       "<text text-anchor=\"middle\" x=\"548.063\" y=\"-206.8\" font-family=\"Helvetica,sans-Serif\" font-size=\"14.00\">samples = 2257</text>\n",
       "<text text-anchor=\"middle\" x=\"548.063\" y=\"-192.8\" font-family=\"Helvetica,sans-Serif\" font-size=\"14.00\">value = [80, 2177]</text>\n",
       "</g>\n",
       "<!-- 1&#45;&gt;9 -->\n",
       "<g id=\"edge9\" class=\"edge\"><title>1&#45;&gt;9</title>\n",
       "<path fill=\"none\" stroke=\"black\" d=\"M485.856,-285.992C494.238,-276.966 503.498,-266.993 512.256,-257.562\"/>\n",
       "<polygon fill=\"black\" stroke=\"black\" points=\"514.906,-259.852 519.145,-250.142 509.776,-255.089 514.906,-259.852\"/>\n",
       "</g>\n",
       "<!-- 3 -->\n",
       "<g id=\"node4\" class=\"node\"><title>3</title>\n",
       "<path fill=\"#e58139\" fill-opacity=\"0.784314\" stroke=\"black\" d=\"M241.425,-150C241.425,-150 122.702,-150 122.702,-150 116.702,-150 110.702,-144 110.702,-138 110.702,-138 110.702,-98 110.702,-98 110.702,-92 116.702,-86 122.702,-86 122.702,-86 241.425,-86 241.425,-86 247.425,-86 253.425,-92 253.425,-98 253.425,-98 253.425,-138 253.425,-138 253.425,-144 247.425,-150 241.425,-150\"/>\n",
       "<text text-anchor=\"middle\" x=\"182.063\" y=\"-134.8\" font-family=\"Helvetica,sans-Serif\" font-size=\"14.00\">stalk&#45;shape_t &lt;= 0.5</text>\n",
       "<text text-anchor=\"middle\" x=\"182.063\" y=\"-120.8\" font-family=\"Helvetica,sans-Serif\" font-size=\"14.00\">gini = 0.292</text>\n",
       "<text text-anchor=\"middle\" x=\"182.063\" y=\"-106.8\" font-family=\"Helvetica,sans-Serif\" font-size=\"14.00\">samples = 343</text>\n",
       "<text text-anchor=\"middle\" x=\"182.063\" y=\"-92.8\" font-family=\"Helvetica,sans-Serif\" font-size=\"14.00\">value = [282, 61]</text>\n",
       "</g>\n",
       "<!-- 2&#45;&gt;3 -->\n",
       "<g id=\"edge3\" class=\"edge\"><title>2&#45;&gt;3</title>\n",
       "<path fill=\"none\" stroke=\"black\" d=\"M307.845,-185.992C289.303,-176.117 268.635,-165.109 249.498,-154.916\"/>\n",
       "<polygon fill=\"black\" stroke=\"black\" points=\"251.007,-151.754 240.535,-150.142 247.716,-157.933 251.007,-151.754\"/>\n",
       "</g>\n",
       "<!-- 6 -->\n",
       "<g id=\"node7\" class=\"node\"><title>6</title>\n",
       "<path fill=\"#399de5\" fill-opacity=\"0.847059\" stroke=\"black\" d=\"M423.556,-150C423.556,-150 308.571,-150 308.571,-150 302.571,-150 296.571,-144 296.571,-138 296.571,-138 296.571,-98 296.571,-98 296.571,-92 302.571,-86 308.571,-86 308.571,-86 423.556,-86 423.556,-86 429.556,-86 435.556,-92 435.556,-98 435.556,-98 435.556,-138 435.556,-138 435.556,-144 429.556,-150 423.556,-150\"/>\n",
       "<text text-anchor=\"middle\" x=\"366.063\" y=\"-134.8\" font-family=\"Helvetica,sans-Serif\" font-size=\"14.00\">population_c &lt;= 0.5</text>\n",
       "<text text-anchor=\"middle\" x=\"366.063\" y=\"-120.8\" font-family=\"Helvetica,sans-Serif\" font-size=\"14.00\">gini = 0.232</text>\n",
       "<text text-anchor=\"middle\" x=\"366.063\" y=\"-106.8\" font-family=\"Helvetica,sans-Serif\" font-size=\"14.00\">samples = 97</text>\n",
       "<text text-anchor=\"middle\" x=\"366.063\" y=\"-92.8\" font-family=\"Helvetica,sans-Serif\" font-size=\"14.00\">value = [13, 84]</text>\n",
       "</g>\n",
       "<!-- 2&#45;&gt;6 -->\n",
       "<g id=\"edge6\" class=\"edge\"><title>2&#45;&gt;6</title>\n",
       "<path fill=\"none\" stroke=\"black\" d=\"M366.063,-185.992C366.063,-177.859 366.063,-168.959 366.063,-160.378\"/>\n",
       "<polygon fill=\"black\" stroke=\"black\" points=\"369.564,-160.142 366.063,-150.142 362.564,-160.142 369.564,-160.142\"/>\n",
       "</g>\n",
       "<!-- 4 -->\n",
       "<g id=\"node5\" class=\"node\"><title>4</title>\n",
       "<path fill=\"#e58139\" stroke=\"black\" d=\"M100.191,-50C100.191,-50 11.9365,-50 11.9365,-50 5.93645,-50 -0.0635485,-44 -0.0635485,-38 -0.0635485,-38 -0.0635485,-12 -0.0635485,-12 -0.0635485,-6 5.93645,-0 11.9365,-0 11.9365,-0 100.191,-0 100.191,-0 106.191,-0 112.191,-6 112.191,-12 112.191,-12 112.191,-38 112.191,-38 112.191,-44 106.191,-50 100.191,-50\"/>\n",
       "<text text-anchor=\"middle\" x=\"56.0635\" y=\"-34.8\" font-family=\"Helvetica,sans-Serif\" font-size=\"14.00\">gini = 0.0</text>\n",
       "<text text-anchor=\"middle\" x=\"56.0635\" y=\"-20.8\" font-family=\"Helvetica,sans-Serif\" font-size=\"14.00\">samples = 282</text>\n",
       "<text text-anchor=\"middle\" x=\"56.0635\" y=\"-6.8\" font-family=\"Helvetica,sans-Serif\" font-size=\"14.00\">value = [282, 0]</text>\n",
       "</g>\n",
       "<!-- 3&#45;&gt;4 -->\n",
       "<g id=\"edge4\" class=\"edge\"><title>3&#45;&gt;4</title>\n",
       "<path fill=\"none\" stroke=\"black\" d=\"M139.054,-85.9375C125.72,-76.3076 111.054,-65.7151 97.8073,-56.1483\"/>\n",
       "<polygon fill=\"black\" stroke=\"black\" points=\"99.4919,-53.0476 89.3359,-50.0301 95.3935,-58.7224 99.4919,-53.0476\"/>\n",
       "</g>\n",
       "<!-- 5 -->\n",
       "<g id=\"node6\" class=\"node\"><title>5</title>\n",
       "<path fill=\"#399de5\" stroke=\"black\" d=\"M222.405,-50C222.405,-50 141.722,-50 141.722,-50 135.722,-50 129.722,-44 129.722,-38 129.722,-38 129.722,-12 129.722,-12 129.722,-6 135.722,-0 141.722,-0 141.722,-0 222.405,-0 222.405,-0 228.405,-0 234.405,-6 234.405,-12 234.405,-12 234.405,-38 234.405,-38 234.405,-44 228.405,-50 222.405,-50\"/>\n",
       "<text text-anchor=\"middle\" x=\"182.063\" y=\"-34.8\" font-family=\"Helvetica,sans-Serif\" font-size=\"14.00\">gini = 0.0</text>\n",
       "<text text-anchor=\"middle\" x=\"182.063\" y=\"-20.8\" font-family=\"Helvetica,sans-Serif\" font-size=\"14.00\">samples = 61</text>\n",
       "<text text-anchor=\"middle\" x=\"182.063\" y=\"-6.8\" font-family=\"Helvetica,sans-Serif\" font-size=\"14.00\">value = [0, 61]</text>\n",
       "</g>\n",
       "<!-- 3&#45;&gt;5 -->\n",
       "<g id=\"edge5\" class=\"edge\"><title>3&#45;&gt;5</title>\n",
       "<path fill=\"none\" stroke=\"black\" d=\"M182.063,-85.9375C182.063,-77.6833 182.063,-68.7219 182.063,-60.3053\"/>\n",
       "<polygon fill=\"black\" stroke=\"black\" points=\"185.564,-60.03 182.063,-50.0301 178.564,-60.0301 185.564,-60.03\"/>\n",
       "</g>\n",
       "<!-- 7 -->\n",
       "<g id=\"node8\" class=\"node\"><title>7</title>\n",
       "<path fill=\"#399de5\" stroke=\"black\" d=\"M344.405,-50C344.405,-50 263.722,-50 263.722,-50 257.722,-50 251.722,-44 251.722,-38 251.722,-38 251.722,-12 251.722,-12 251.722,-6 257.722,-0 263.722,-0 263.722,-0 344.405,-0 344.405,-0 350.405,-0 356.405,-6 356.405,-12 356.405,-12 356.405,-38 356.405,-38 356.405,-44 350.405,-50 344.405,-50\"/>\n",
       "<text text-anchor=\"middle\" x=\"304.063\" y=\"-34.8\" font-family=\"Helvetica,sans-Serif\" font-size=\"14.00\">gini = 0.0</text>\n",
       "<text text-anchor=\"middle\" x=\"304.063\" y=\"-20.8\" font-family=\"Helvetica,sans-Serif\" font-size=\"14.00\">samples = 84</text>\n",
       "<text text-anchor=\"middle\" x=\"304.063\" y=\"-6.8\" font-family=\"Helvetica,sans-Serif\" font-size=\"14.00\">value = [0, 84]</text>\n",
       "</g>\n",
       "<!-- 6&#45;&gt;7 -->\n",
       "<g id=\"edge7\" class=\"edge\"><title>6&#45;&gt;7</title>\n",
       "<path fill=\"none\" stroke=\"black\" d=\"M344.9,-85.9375C338.839,-77.0413 332.218,-67.3236 326.105,-58.352\"/>\n",
       "<polygon fill=\"black\" stroke=\"black\" points=\"328.959,-56.3236 320.436,-50.0301 323.174,-60.265 328.959,-56.3236\"/>\n",
       "</g>\n",
       "<!-- 8 -->\n",
       "<g id=\"node9\" class=\"node\"><title>8</title>\n",
       "<path fill=\"#e58139\" stroke=\"black\" d=\"M466.405,-50C466.405,-50 385.722,-50 385.722,-50 379.722,-50 373.722,-44 373.722,-38 373.722,-38 373.722,-12 373.722,-12 373.722,-6 379.722,-0 385.722,-0 385.722,-0 466.405,-0 466.405,-0 472.405,-0 478.405,-6 478.405,-12 478.405,-12 478.405,-38 478.405,-38 478.405,-44 472.405,-50 466.405,-50\"/>\n",
       "<text text-anchor=\"middle\" x=\"426.063\" y=\"-34.8\" font-family=\"Helvetica,sans-Serif\" font-size=\"14.00\">gini = 0.0</text>\n",
       "<text text-anchor=\"middle\" x=\"426.063\" y=\"-20.8\" font-family=\"Helvetica,sans-Serif\" font-size=\"14.00\">samples = 13</text>\n",
       "<text text-anchor=\"middle\" x=\"426.063\" y=\"-6.8\" font-family=\"Helvetica,sans-Serif\" font-size=\"14.00\">value = [13, 0]</text>\n",
       "</g>\n",
       "<!-- 6&#45;&gt;8 -->\n",
       "<g id=\"edge8\" class=\"edge\"><title>6&#45;&gt;8</title>\n",
       "<path fill=\"none\" stroke=\"black\" d=\"M386.544,-85.9375C392.349,-77.133 398.685,-67.5239 404.549,-58.6297\"/>\n",
       "<polygon fill=\"black\" stroke=\"black\" points=\"407.637,-60.3053 410.219,-50.0301 401.793,-56.4521 407.637,-60.3053\"/>\n",
       "</g>\n",
       "<!-- 10 -->\n",
       "<g id=\"node11\" class=\"node\"><title>10</title>\n",
       "<path fill=\"#e58139\" fill-opacity=\"0.525490\" stroke=\"black\" d=\"M594.763,-150C594.763,-150 501.364,-150 501.364,-150 495.364,-150 489.364,-144 489.364,-138 489.364,-138 489.364,-98 489.364,-98 489.364,-92 495.364,-86 501.364,-86 501.364,-86 594.763,-86 594.763,-86 600.763,-86 606.763,-92 606.763,-98 606.763,-98 606.763,-138 606.763,-138 606.763,-144 600.763,-150 594.763,-150\"/>\n",
       "<text text-anchor=\"middle\" x=\"548.063\" y=\"-134.8\" font-family=\"Helvetica,sans-Serif\" font-size=\"14.00\">habitat_p &lt;= 0.5</text>\n",
       "<text text-anchor=\"middle\" x=\"548.063\" y=\"-120.8\" font-family=\"Helvetica,sans-Serif\" font-size=\"14.00\">gini = 0.437</text>\n",
       "<text text-anchor=\"middle\" x=\"548.063\" y=\"-106.8\" font-family=\"Helvetica,sans-Serif\" font-size=\"14.00\">samples = 118</text>\n",
       "<text text-anchor=\"middle\" x=\"548.063\" y=\"-92.8\" font-family=\"Helvetica,sans-Serif\" font-size=\"14.00\">value = [80, 38]</text>\n",
       "</g>\n",
       "<!-- 9&#45;&gt;10 -->\n",
       "<g id=\"edge10\" class=\"edge\"><title>9&#45;&gt;10</title>\n",
       "<path fill=\"none\" stroke=\"black\" d=\"M548.063,-185.992C548.063,-177.859 548.063,-168.959 548.063,-160.378\"/>\n",
       "<polygon fill=\"black\" stroke=\"black\" points=\"551.564,-160.142 548.063,-150.142 544.564,-160.142 551.564,-160.142\"/>\n",
       "</g>\n",
       "<!-- 13 -->\n",
       "<g id=\"node14\" class=\"node\"><title>13</title>\n",
       "<path fill=\"#399de5\" stroke=\"black\" d=\"M732.977,-143C732.977,-143 637.15,-143 637.15,-143 631.15,-143 625.15,-137 625.15,-131 625.15,-131 625.15,-105 625.15,-105 625.15,-99 631.15,-93 637.15,-93 637.15,-93 732.977,-93 732.977,-93 738.977,-93 744.977,-99 744.977,-105 744.977,-105 744.977,-131 744.977,-131 744.977,-137 738.977,-143 732.977,-143\"/>\n",
       "<text text-anchor=\"middle\" x=\"685.063\" y=\"-127.8\" font-family=\"Helvetica,sans-Serif\" font-size=\"14.00\">gini = 0.0</text>\n",
       "<text text-anchor=\"middle\" x=\"685.063\" y=\"-113.8\" font-family=\"Helvetica,sans-Serif\" font-size=\"14.00\">samples = 2139</text>\n",
       "<text text-anchor=\"middle\" x=\"685.063\" y=\"-99.8\" font-family=\"Helvetica,sans-Serif\" font-size=\"14.00\">value = [0, 2139]</text>\n",
       "</g>\n",
       "<!-- 9&#45;&gt;13 -->\n",
       "<g id=\"edge13\" class=\"edge\"><title>9&#45;&gt;13</title>\n",
       "<path fill=\"none\" stroke=\"black\" d=\"M591.411,-185.992C607.833,-174.245 626.495,-160.896 642.814,-149.222\"/>\n",
       "<polygon fill=\"black\" stroke=\"black\" points=\"645.013,-151.952 651.11,-143.288 640.941,-146.259 645.013,-151.952\"/>\n",
       "</g>\n",
       "<!-- 11 -->\n",
       "<g id=\"node12\" class=\"node\"><title>11</title>\n",
       "<path fill=\"#e58139\" fill-opacity=\"0.901961\" stroke=\"black\" d=\"M588.405,-50C588.405,-50 507.722,-50 507.722,-50 501.722,-50 495.722,-44 495.722,-38 495.722,-38 495.722,-12 495.722,-12 495.722,-6 501.722,-0 507.722,-0 507.722,-0 588.405,-0 588.405,-0 594.405,-0 600.405,-6 600.405,-12 600.405,-12 600.405,-38 600.405,-38 600.405,-44 594.405,-50 588.405,-50\"/>\n",
       "<text text-anchor=\"middle\" x=\"548.063\" y=\"-34.8\" font-family=\"Helvetica,sans-Serif\" font-size=\"14.00\">gini = 0.165</text>\n",
       "<text text-anchor=\"middle\" x=\"548.063\" y=\"-20.8\" font-family=\"Helvetica,sans-Serif\" font-size=\"14.00\">samples = 88</text>\n",
       "<text text-anchor=\"middle\" x=\"548.063\" y=\"-6.8\" font-family=\"Helvetica,sans-Serif\" font-size=\"14.00\">value = [80, 8]</text>\n",
       "</g>\n",
       "<!-- 10&#45;&gt;11 -->\n",
       "<g id=\"edge11\" class=\"edge\"><title>10&#45;&gt;11</title>\n",
       "<path fill=\"none\" stroke=\"black\" d=\"M548.063,-85.9375C548.063,-77.6833 548.063,-68.7219 548.063,-60.3053\"/>\n",
       "<polygon fill=\"black\" stroke=\"black\" points=\"551.564,-60.03 548.063,-50.0301 544.564,-60.0301 551.564,-60.03\"/>\n",
       "</g>\n",
       "<!-- 12 -->\n",
       "<g id=\"node13\" class=\"node\"><title>12</title>\n",
       "<path fill=\"#399de5\" stroke=\"black\" d=\"M710.405,-50C710.405,-50 629.722,-50 629.722,-50 623.722,-50 617.722,-44 617.722,-38 617.722,-38 617.722,-12 617.722,-12 617.722,-6 623.722,-0 629.722,-0 629.722,-0 710.405,-0 710.405,-0 716.405,-0 722.405,-6 722.405,-12 722.405,-12 722.405,-38 722.405,-38 722.405,-44 716.405,-50 710.405,-50\"/>\n",
       "<text text-anchor=\"middle\" x=\"670.063\" y=\"-34.8\" font-family=\"Helvetica,sans-Serif\" font-size=\"14.00\">gini = 0.0</text>\n",
       "<text text-anchor=\"middle\" x=\"670.063\" y=\"-20.8\" font-family=\"Helvetica,sans-Serif\" font-size=\"14.00\">samples = 30</text>\n",
       "<text text-anchor=\"middle\" x=\"670.063\" y=\"-6.8\" font-family=\"Helvetica,sans-Serif\" font-size=\"14.00\">value = [0, 30]</text>\n",
       "</g>\n",
       "<!-- 10&#45;&gt;12 -->\n",
       "<g id=\"edge12\" class=\"edge\"><title>10&#45;&gt;12</title>\n",
       "<path fill=\"none\" stroke=\"black\" d=\"M589.708,-85.9375C602.618,-76.3076 616.819,-65.7151 629.645,-56.1483\"/>\n",
       "<polygon fill=\"black\" stroke=\"black\" points=\"631.924,-58.8146 637.847,-50.0301 627.739,-53.2036 631.924,-58.8146\"/>\n",
       "</g>\n",
       "</g>\n",
       "</svg>\n"
      ],
      "text/plain": [
       "<graphviz.files.Source at 0x114135358>"
      ]
     },
     "execution_count": 69,
     "metadata": {},
     "output_type": "execute_result"
    }
   ],
   "source": [
    "DT = DecisionTreeClassifier(max_depth=6, min_impurity_decrease=0.005)\n",
    "DT.fit(X_train,y_train)\n",
    "pred1 = DT.predict(X_test)\n",
    "\n",
    "dot_data = tree.export_graphviz(DT, out_file=None,feature_names = df.drop('class',axis=1).columns,rounded=True,filled=True) \n",
    "graph = graphviz.Source(dot_data) \n",
    "graph"
   ]
  },
  {
   "cell_type": "markdown",
   "metadata": {},
   "source": [
    "## Discussion\n",
    "\n",
    "With the original data, L2, L1 and DT behave very differently. According to L2, odor_m offers the most value , while according to L1,spore_print_color_n offers the most value. This is compeltely different from DT, where according to it, odor_f offers most information gain while odor_m and spore_print_color_n doesnt even appear in the tree. One aspect that is clear however is that odor_f does seem to be important as it appears in the top 10 features for both L2 and L1 as well as DT. \n"
   ]
  },
  {
   "cell_type": "markdown",
   "metadata": {},
   "source": [
    "### Z-Score the Data"
   ]
  },
  {
   "cell_type": "code",
   "execution_count": 70,
   "metadata": {},
   "outputs": [
    {
     "name": "stdout",
     "output_type": "stream",
     "text": [
      "Data is now Z-Scored\n"
     ]
    }
   ],
   "source": [
    "scaler = StandardScaler(copy=False)\n",
    "X_trainZ = scaler.fit_transform(X_train)\n",
    "X_testZ = scaler.transform(X_test)\n",
    "print(\"Data is now Z-Scored\")"
   ]
  },
  {
   "cell_type": "code",
   "execution_count": 71,
   "metadata": {},
   "outputs": [
    {
     "data": {
      "text/plain": [
       "LogisticRegression(C=1.0, class_weight=None, dual=False, fit_intercept=True,\n",
       "          intercept_scaling=1, max_iter=100, multi_class='ovr', n_jobs=1,\n",
       "          penalty='l2', random_state=None, solver='liblinear', tol=0.0001,\n",
       "          verbose=0, warm_start=False)"
      ]
     },
     "execution_count": 71,
     "metadata": {},
     "output_type": "execute_result"
    }
   ],
   "source": [
    "#Training BernoulliNB classifiers with default parameters\n",
    "LRL2Z = LogisticRegression(penalty='l2')\n",
    "LRL2Z.fit(X_trainZ, y_train)"
   ]
  },
  {
   "cell_type": "code",
   "execution_count": 72,
   "metadata": {},
   "outputs": [
    {
     "data": {
      "text/plain": [
       "LogisticRegression(C=1.0, class_weight=None, dual=False, fit_intercept=True,\n",
       "          intercept_scaling=1, max_iter=100, multi_class='ovr', n_jobs=1,\n",
       "          penalty='l1', random_state=None, solver='liblinear', tol=0.0001,\n",
       "          verbose=0, warm_start=False)"
      ]
     },
     "execution_count": 72,
     "metadata": {},
     "output_type": "execute_result"
    }
   ],
   "source": [
    "#Training Logistic Regresiion classifiers with penalty= 'l1'\n",
    "LRL1Z = LogisticRegression(penalty='l1')\n",
    "LRL1Z.fit(X_trainZ, y_train)"
   ]
  },
  {
   "cell_type": "markdown",
   "metadata": {},
   "source": [
    "### Top 10 Features for Logistic Regression with L2 penalty with Z-Scored data"
   ]
  },
  {
   "cell_type": "code",
   "execution_count": 73,
   "metadata": {},
   "outputs": [
    {
     "name": "stdout",
     "output_type": "stream",
     "text": [
      "Logistic Regression L2 penalty Top 10 Features \n",
      "\n",
      " 1) odor_n \t\t weight: -1.443200\n",
      " 2) odor_m \t\t weight: 1.389477\n",
      " 3) odor_c \t\t weight: -1.227086\n",
      " 4) ring-type_p \t\t weight: -1.227086\n",
      " 5) odor_a \t\t weight: -1.198998\n",
      " 6) spore-print-color_n \t\t weight: -0.814856\n",
      " 7) population_a \t\t weight: -0.771802\n",
      " 8) odor_f \t\t weight: 0.750569\n",
      " 9) bruises_t \t\t weight: 0.742520\n",
      " 10) stalk-shape_t \t\t weight: -0.693988\n"
     ]
    }
   ],
   "source": [
    "top10L2Z = np.argsort(np.absolute(LRL2Z.coef_[0]))[::-1]\n",
    "print(\"Logistic Regression L2 penalty Top 10 Features \\n\")\n",
    "for x in range(0,10):\n",
    "    print(\" %i) %s \\t\\t weight: %f\"%(x+1,df.columns[top10L2Z[x]],LRL2Z.coef_[0][top10L2Z[x]]))"
   ]
  },
  {
   "cell_type": "markdown",
   "metadata": {},
   "source": [
    "### Top 10 Features for Logistic Regression with L1 penalty with Z-Scored data"
   ]
  },
  {
   "cell_type": "code",
   "execution_count": 74,
   "metadata": {},
   "outputs": [
    {
     "name": "stdout",
     "output_type": "stream",
     "text": [
      "Logistic Regression L1 penalty Top 10 Features \n",
      "\n",
      " 1) odor_c \t\t weight: -3.579328\n",
      " 2) ring-type_p \t\t weight: -2.312230\n",
      " 3) odor_n \t\t weight: -2.145486\n",
      " 4) odor_a \t\t weight: -1.867868\n",
      " 5) spore-print-color_n \t\t weight: -1.507397\n",
      " 6) odor_m \t\t weight: 1.282434\n",
      " 7) population_a \t\t weight: -1.180792\n",
      " 8) odor_f \t\t weight: 0.622844\n",
      " 9) bruises_t \t\t weight: 0.583535\n",
      " 10) gill-color_y \t\t weight: -0.302429\n"
     ]
    }
   ],
   "source": [
    "top10L1Z = np.argsort(np.absolute(LRL1Z.coef_[0]))[::-1]\n",
    "print(\"Logistic Regression L1 penalty Top 10 Features \\n\")\n",
    "for x in range(0,10):\n",
    "    print(\" %i) %s \\t\\t weight: %f\"%(x+1,df.columns[top10L1Z[x]],LRL1Z.coef_[0][top10L1Z[x]]))"
   ]
  },
  {
   "cell_type": "markdown",
   "metadata": {},
   "source": [
    "### Decision Tree with Z-Scored data"
   ]
  },
  {
   "cell_type": "code",
   "execution_count": 75,
   "metadata": {},
   "outputs": [
    {
     "data": {
      "image/svg+xml": [
       "<?xml version=\"1.0\" encoding=\"UTF-8\" standalone=\"no\"?>\n",
       "<!DOCTYPE svg PUBLIC \"-//W3C//DTD SVG 1.1//EN\"\n",
       " \"http://www.w3.org/Graphics/SVG/1.1/DTD/svg11.dtd\">\n",
       "<!-- Generated by graphviz version 2.38.0 (20140413.2041)\n",
       " -->\n",
       "<!-- Title: Tree Pages: 1 -->\n",
       "<svg width=\"760pt\" height=\"458pt\"\n",
       " viewBox=\"0.00 0.00 760.13 458.00\" xmlns=\"http://www.w3.org/2000/svg\" xmlns:xlink=\"http://www.w3.org/1999/xlink\">\n",
       "<g id=\"graph0\" class=\"graph\" transform=\"scale(1 1) rotate(0) translate(4 454)\">\n",
       "<title>Tree</title>\n",
       "<polygon fill=\"white\" stroke=\"none\" points=\"-4,4 -4,-454 756.127,-454 756.127,4 -4,4\"/>\n",
       "<!-- 0 -->\n",
       "<g id=\"node1\" class=\"node\"><title>0</title>\n",
       "<path fill=\"#399de5\" fill-opacity=\"0.372549\" stroke=\"black\" d=\"M616.332,-450C616.332,-450 448.009,-450 448.009,-450 442.009,-450 436.009,-444 436.009,-438 436.009,-438 436.009,-398 436.009,-398 436.009,-392 442.009,-386 448.009,-386 448.009,-386 616.332,-386 616.332,-386 622.332,-386 628.332,-392 628.332,-398 628.332,-398 628.332,-438 628.332,-438 628.332,-444 622.332,-450 616.332,-450\"/>\n",
       "<text text-anchor=\"middle\" x=\"532.17\" y=\"-434.8\" font-family=\"Helvetica,sans-Serif\" font-size=\"14.00\">spore&#45;print&#45;color_h &lt;= 0.472</text>\n",
       "<text text-anchor=\"middle\" x=\"532.17\" y=\"-420.8\" font-family=\"Helvetica,sans-Serif\" font-size=\"14.00\">gini = 0.474</text>\n",
       "<text text-anchor=\"middle\" x=\"532.17\" y=\"-406.8\" font-family=\"Helvetica,sans-Serif\" font-size=\"14.00\">samples = 3781</text>\n",
       "<text text-anchor=\"middle\" x=\"532.17\" y=\"-392.8\" font-family=\"Helvetica,sans-Serif\" font-size=\"14.00\">value = [1459, 2322]</text>\n",
       "</g>\n",
       "<!-- 1 -->\n",
       "<g id=\"node2\" class=\"node\"><title>1</title>\n",
       "<path fill=\"#399de5\" fill-opacity=\"0.839216\" stroke=\"black\" d=\"M517.246,-350C517.246,-350 399.095,-350 399.095,-350 393.095,-350 387.095,-344 387.095,-338 387.095,-338 387.095,-298 387.095,-298 387.095,-292 393.095,-286 399.095,-286 399.095,-286 517.246,-286 517.246,-286 523.246,-286 529.246,-292 529.246,-298 529.246,-298 529.246,-338 529.246,-338 529.246,-344 523.246,-350 517.246,-350\"/>\n",
       "<text text-anchor=\"middle\" x=\"458.17\" y=\"-334.8\" font-family=\"Helvetica,sans-Serif\" font-size=\"14.00\">gill&#45;size_b &lt;= &#45;1.196</text>\n",
       "<text text-anchor=\"middle\" x=\"458.17\" y=\"-320.8\" font-family=\"Helvetica,sans-Serif\" font-size=\"14.00\">gini = 0.239</text>\n",
       "<text text-anchor=\"middle\" x=\"458.17\" y=\"-306.8\" font-family=\"Helvetica,sans-Serif\" font-size=\"14.00\">samples = 2697</text>\n",
       "<text text-anchor=\"middle\" x=\"458.17\" y=\"-292.8\" font-family=\"Helvetica,sans-Serif\" font-size=\"14.00\">value = [375, 2322]</text>\n",
       "</g>\n",
       "<!-- 0&#45;&gt;1 -->\n",
       "<g id=\"edge1\" class=\"edge\"><title>0&#45;&gt;1</title>\n",
       "<path fill=\"none\" stroke=\"black\" d=\"M508.756,-385.992C502.143,-377.234 494.857,-367.585 487.924,-358.404\"/>\n",
       "<polygon fill=\"black\" stroke=\"black\" points=\"490.505,-356.014 481.686,-350.142 484.919,-360.232 490.505,-356.014\"/>\n",
       "<text text-anchor=\"middle\" x=\"478.231\" y=\"-370.703\" font-family=\"Helvetica,sans-Serif\" font-size=\"14.00\">True</text>\n",
       "</g>\n",
       "<!-- 14 -->\n",
       "<g id=\"node15\" class=\"node\"><title>14</title>\n",
       "<path fill=\"#e58139\" stroke=\"black\" d=\"M655.084,-343C655.084,-343 559.257,-343 559.257,-343 553.257,-343 547.257,-337 547.257,-331 547.257,-331 547.257,-305 547.257,-305 547.257,-299 553.257,-293 559.257,-293 559.257,-293 655.084,-293 655.084,-293 661.084,-293 667.084,-299 667.084,-305 667.084,-305 667.084,-331 667.084,-331 667.084,-337 661.084,-343 655.084,-343\"/>\n",
       "<text text-anchor=\"middle\" x=\"607.17\" y=\"-327.8\" font-family=\"Helvetica,sans-Serif\" font-size=\"14.00\">gini = 0.0</text>\n",
       "<text text-anchor=\"middle\" x=\"607.17\" y=\"-313.8\" font-family=\"Helvetica,sans-Serif\" font-size=\"14.00\">samples = 1084</text>\n",
       "<text text-anchor=\"middle\" x=\"607.17\" y=\"-299.8\" font-family=\"Helvetica,sans-Serif\" font-size=\"14.00\">value = [1084, 0]</text>\n",
       "</g>\n",
       "<!-- 0&#45;&gt;14 -->\n",
       "<g id=\"edge14\" class=\"edge\"><title>0&#45;&gt;14</title>\n",
       "<path fill=\"none\" stroke=\"black\" d=\"M555.901,-385.992C564.314,-375 573.8,-362.604 582.305,-351.491\"/>\n",
       "<polygon fill=\"black\" stroke=\"black\" points=\"585.285,-353.356 588.583,-343.288 579.726,-349.102 585.285,-353.356\"/>\n",
       "<text text-anchor=\"middle\" x=\"591.878\" y=\"-363.87\" font-family=\"Helvetica,sans-Serif\" font-size=\"14.00\">False</text>\n",
       "</g>\n",
       "<!-- 2 -->\n",
       "<g id=\"node3\" class=\"node\"><title>2</title>\n",
       "<path fill=\"#e58139\" fill-opacity=\"0.509804\" stroke=\"black\" d=\"M419.87,-250C419.87,-250 316.471,-250 316.471,-250 310.471,-250 304.471,-244 304.471,-238 304.471,-238 304.471,-198 304.471,-198 304.471,-192 310.471,-186 316.471,-186 316.471,-186 419.87,-186 419.87,-186 425.87,-186 431.87,-192 431.87,-198 431.87,-198 431.87,-238 431.87,-238 431.87,-244 425.87,-250 419.87,-250\"/>\n",
       "<text text-anchor=\"middle\" x=\"368.17\" y=\"-234.8\" font-family=\"Helvetica,sans-Serif\" font-size=\"14.00\">odor_n &lt;= 0.004</text>\n",
       "<text text-anchor=\"middle\" x=\"368.17\" y=\"-220.8\" font-family=\"Helvetica,sans-Serif\" font-size=\"14.00\">gini = 0.442</text>\n",
       "<text text-anchor=\"middle\" x=\"368.17\" y=\"-206.8\" font-family=\"Helvetica,sans-Serif\" font-size=\"14.00\">samples = 440</text>\n",
       "<text text-anchor=\"middle\" x=\"368.17\" y=\"-192.8\" font-family=\"Helvetica,sans-Serif\" font-size=\"14.00\">value = [295, 145]</text>\n",
       "</g>\n",
       "<!-- 1&#45;&gt;2 -->\n",
       "<g id=\"edge2\" class=\"edge\"><title>1&#45;&gt;2</title>\n",
       "<path fill=\"none\" stroke=\"black\" d=\"M429.694,-285.992C421.404,-276.966 412.246,-266.993 403.584,-257.562\"/>\n",
       "<polygon fill=\"black\" stroke=\"black\" points=\"406.113,-255.14 396.771,-250.142 400.957,-259.875 406.113,-255.14\"/>\n",
       "</g>\n",
       "<!-- 9 -->\n",
       "<g id=\"node10\" class=\"node\"><title>9</title>\n",
       "<path fill=\"#399de5\" fill-opacity=\"0.964706\" stroke=\"black\" d=\"M621.545,-250C621.545,-250 474.795,-250 474.795,-250 468.795,-250 462.795,-244 462.795,-238 462.795,-238 462.795,-198 462.795,-198 462.795,-192 468.795,-186 474.795,-186 474.795,-186 621.545,-186 621.545,-186 627.545,-186 633.545,-192 633.545,-198 633.545,-198 633.545,-238 633.545,-238 633.545,-244 627.545,-250 621.545,-250\"/>\n",
       "<text text-anchor=\"middle\" x=\"548.17\" y=\"-234.8\" font-family=\"Helvetica,sans-Serif\" font-size=\"14.00\">ring&#45;number_o &lt;= &#45;2.696</text>\n",
       "<text text-anchor=\"middle\" x=\"548.17\" y=\"-220.8\" font-family=\"Helvetica,sans-Serif\" font-size=\"14.00\">gini = 0.068</text>\n",
       "<text text-anchor=\"middle\" x=\"548.17\" y=\"-206.8\" font-family=\"Helvetica,sans-Serif\" font-size=\"14.00\">samples = 2257</text>\n",
       "<text text-anchor=\"middle\" x=\"548.17\" y=\"-192.8\" font-family=\"Helvetica,sans-Serif\" font-size=\"14.00\">value = [80, 2177]</text>\n",
       "</g>\n",
       "<!-- 1&#45;&gt;9 -->\n",
       "<g id=\"edge9\" class=\"edge\"><title>1&#45;&gt;9</title>\n",
       "<path fill=\"none\" stroke=\"black\" d=\"M486.647,-285.992C494.937,-276.966 504.095,-266.993 512.756,-257.562\"/>\n",
       "<polygon fill=\"black\" stroke=\"black\" points=\"515.384,-259.875 519.57,-250.142 510.228,-255.14 515.384,-259.875\"/>\n",
       "</g>\n",
       "<!-- 3 -->\n",
       "<g id=\"node4\" class=\"node\"><title>3</title>\n",
       "<path fill=\"#e58139\" fill-opacity=\"0.784314\" stroke=\"black\" d=\"M247.501,-150C247.501,-150 108.84,-150 108.84,-150 102.84,-150 96.84,-144 96.84,-138 96.84,-138 96.84,-98 96.84,-98 96.84,-92 102.84,-86 108.84,-86 108.84,-86 247.501,-86 247.501,-86 253.501,-86 259.501,-92 259.501,-98 259.501,-98 259.501,-138 259.501,-138 259.501,-144 253.501,-150 247.501,-150\"/>\n",
       "<text text-anchor=\"middle\" x=\"178.17\" y=\"-134.8\" font-family=\"Helvetica,sans-Serif\" font-size=\"14.00\">stalk&#45;shape_e &lt;= 0.033</text>\n",
       "<text text-anchor=\"middle\" x=\"178.17\" y=\"-120.8\" font-family=\"Helvetica,sans-Serif\" font-size=\"14.00\">gini = 0.292</text>\n",
       "<text text-anchor=\"middle\" x=\"178.17\" y=\"-106.8\" font-family=\"Helvetica,sans-Serif\" font-size=\"14.00\">samples = 343</text>\n",
       "<text text-anchor=\"middle\" x=\"178.17\" y=\"-92.8\" font-family=\"Helvetica,sans-Serif\" font-size=\"14.00\">value = [282, 61]</text>\n",
       "</g>\n",
       "<!-- 2&#45;&gt;3 -->\n",
       "<g id=\"edge3\" class=\"edge\"><title>2&#45;&gt;3</title>\n",
       "<path fill=\"none\" stroke=\"black\" d=\"M308.053,-185.992C288.82,-176.072 267.372,-165.009 247.536,-154.778\"/>\n",
       "<polygon fill=\"black\" stroke=\"black\" points=\"249.041,-151.616 238.549,-150.142 245.832,-157.837 249.041,-151.616\"/>\n",
       "</g>\n",
       "<!-- 6 -->\n",
       "<g id=\"node7\" class=\"node\"><title>6</title>\n",
       "<path fill=\"#399de5\" fill-opacity=\"0.847059\" stroke=\"black\" d=\"M433.235,-150C433.235,-150 303.105,-150 303.105,-150 297.105,-150 291.105,-144 291.105,-138 291.105,-138 291.105,-98 291.105,-98 291.105,-92 297.105,-86 303.105,-86 303.105,-86 433.235,-86 433.235,-86 439.235,-86 445.235,-92 445.235,-98 445.235,-98 445.235,-138 445.235,-138 445.235,-144 439.235,-150 433.235,-150\"/>\n",
       "<text text-anchor=\"middle\" x=\"368.17\" y=\"-134.8\" font-family=\"Helvetica,sans-Serif\" font-size=\"14.00\">population_c &lt;= 4.723</text>\n",
       "<text text-anchor=\"middle\" x=\"368.17\" y=\"-120.8\" font-family=\"Helvetica,sans-Serif\" font-size=\"14.00\">gini = 0.232</text>\n",
       "<text text-anchor=\"middle\" x=\"368.17\" y=\"-106.8\" font-family=\"Helvetica,sans-Serif\" font-size=\"14.00\">samples = 97</text>\n",
       "<text text-anchor=\"middle\" x=\"368.17\" y=\"-92.8\" font-family=\"Helvetica,sans-Serif\" font-size=\"14.00\">value = [13, 84]</text>\n",
       "</g>\n",
       "<!-- 2&#45;&gt;6 -->\n",
       "<g id=\"edge6\" class=\"edge\"><title>2&#45;&gt;6</title>\n",
       "<path fill=\"none\" stroke=\"black\" d=\"M368.17,-185.992C368.17,-177.859 368.17,-168.959 368.17,-160.378\"/>\n",
       "<polygon fill=\"black\" stroke=\"black\" points=\"371.671,-160.142 368.17,-150.142 364.671,-160.142 371.671,-160.142\"/>\n",
       "</g>\n",
       "<!-- 4 -->\n",
       "<g id=\"node5\" class=\"node\"><title>4</title>\n",
       "<path fill=\"#399de5\" stroke=\"black\" d=\"M92.5118,-50C92.5118,-50 11.829,-50 11.829,-50 5.82903,-50 -0.170969,-44 -0.170969,-38 -0.170969,-38 -0.170969,-12 -0.170969,-12 -0.170969,-6 5.82903,-0 11.829,-0 11.829,-0 92.5118,-0 92.5118,-0 98.5118,-0 104.512,-6 104.512,-12 104.512,-12 104.512,-38 104.512,-38 104.512,-44 98.5118,-50 92.5118,-50\"/>\n",
       "<text text-anchor=\"middle\" x=\"52.1704\" y=\"-34.8\" font-family=\"Helvetica,sans-Serif\" font-size=\"14.00\">gini = 0.0</text>\n",
       "<text text-anchor=\"middle\" x=\"52.1704\" y=\"-20.8\" font-family=\"Helvetica,sans-Serif\" font-size=\"14.00\">samples = 61</text>\n",
       "<text text-anchor=\"middle\" x=\"52.1704\" y=\"-6.8\" font-family=\"Helvetica,sans-Serif\" font-size=\"14.00\">value = [0, 61]</text>\n",
       "</g>\n",
       "<!-- 3&#45;&gt;4 -->\n",
       "<g id=\"edge4\" class=\"edge\"><title>3&#45;&gt;4</title>\n",
       "<path fill=\"none\" stroke=\"black\" d=\"M135.161,-85.9375C121.827,-76.3076 107.161,-65.7151 93.9142,-56.1483\"/>\n",
       "<polygon fill=\"black\" stroke=\"black\" points=\"95.5989,-53.0476 85.4428,-50.0301 91.5004,-58.7224 95.5989,-53.0476\"/>\n",
       "</g>\n",
       "<!-- 5 -->\n",
       "<g id=\"node6\" class=\"node\"><title>5</title>\n",
       "<path fill=\"#e58139\" stroke=\"black\" d=\"M222.297,-50C222.297,-50 134.043,-50 134.043,-50 128.043,-50 122.043,-44 122.043,-38 122.043,-38 122.043,-12 122.043,-12 122.043,-6 128.043,-0 134.043,-0 134.043,-0 222.297,-0 222.297,-0 228.297,-0 234.297,-6 234.297,-12 234.297,-12 234.297,-38 234.297,-38 234.297,-44 228.297,-50 222.297,-50\"/>\n",
       "<text text-anchor=\"middle\" x=\"178.17\" y=\"-34.8\" font-family=\"Helvetica,sans-Serif\" font-size=\"14.00\">gini = 0.0</text>\n",
       "<text text-anchor=\"middle\" x=\"178.17\" y=\"-20.8\" font-family=\"Helvetica,sans-Serif\" font-size=\"14.00\">samples = 282</text>\n",
       "<text text-anchor=\"middle\" x=\"178.17\" y=\"-6.8\" font-family=\"Helvetica,sans-Serif\" font-size=\"14.00\">value = [282, 0]</text>\n",
       "</g>\n",
       "<!-- 3&#45;&gt;5 -->\n",
       "<g id=\"edge5\" class=\"edge\"><title>3&#45;&gt;5</title>\n",
       "<path fill=\"none\" stroke=\"black\" d=\"M178.17,-85.9375C178.17,-77.6833 178.17,-68.7219 178.17,-60.3053\"/>\n",
       "<polygon fill=\"black\" stroke=\"black\" points=\"181.671,-60.03 178.17,-50.0301 174.671,-60.0301 181.671,-60.03\"/>\n",
       "</g>\n",
       "<!-- 7 -->\n",
       "<g id=\"node8\" class=\"node\"><title>7</title>\n",
       "<path fill=\"#399de5\" stroke=\"black\" d=\"M344.512,-50C344.512,-50 263.829,-50 263.829,-50 257.829,-50 251.829,-44 251.829,-38 251.829,-38 251.829,-12 251.829,-12 251.829,-6 257.829,-0 263.829,-0 263.829,-0 344.512,-0 344.512,-0 350.512,-0 356.512,-6 356.512,-12 356.512,-12 356.512,-38 356.512,-38 356.512,-44 350.512,-50 344.512,-50\"/>\n",
       "<text text-anchor=\"middle\" x=\"304.17\" y=\"-34.8\" font-family=\"Helvetica,sans-Serif\" font-size=\"14.00\">gini = 0.0</text>\n",
       "<text text-anchor=\"middle\" x=\"304.17\" y=\"-20.8\" font-family=\"Helvetica,sans-Serif\" font-size=\"14.00\">samples = 84</text>\n",
       "<text text-anchor=\"middle\" x=\"304.17\" y=\"-6.8\" font-family=\"Helvetica,sans-Serif\" font-size=\"14.00\">value = [0, 84]</text>\n",
       "</g>\n",
       "<!-- 6&#45;&gt;7 -->\n",
       "<g id=\"edge7\" class=\"edge\"><title>6&#45;&gt;7</title>\n",
       "<path fill=\"none\" stroke=\"black\" d=\"M346.324,-85.9375C340.068,-77.0413 333.233,-67.3236 326.923,-58.352\"/>\n",
       "<polygon fill=\"black\" stroke=\"black\" points=\"329.686,-56.1963 321.071,-50.0301 323.961,-60.2232 329.686,-56.1963\"/>\n",
       "</g>\n",
       "<!-- 8 -->\n",
       "<g id=\"node9\" class=\"node\"><title>8</title>\n",
       "<path fill=\"#e58139\" stroke=\"black\" d=\"M466.512,-50C466.512,-50 385.829,-50 385.829,-50 379.829,-50 373.829,-44 373.829,-38 373.829,-38 373.829,-12 373.829,-12 373.829,-6 379.829,-0 385.829,-0 385.829,-0 466.512,-0 466.512,-0 472.512,-0 478.512,-6 478.512,-12 478.512,-12 478.512,-38 478.512,-38 478.512,-44 472.512,-50 466.512,-50\"/>\n",
       "<text text-anchor=\"middle\" x=\"426.17\" y=\"-34.8\" font-family=\"Helvetica,sans-Serif\" font-size=\"14.00\">gini = 0.0</text>\n",
       "<text text-anchor=\"middle\" x=\"426.17\" y=\"-20.8\" font-family=\"Helvetica,sans-Serif\" font-size=\"14.00\">samples = 13</text>\n",
       "<text text-anchor=\"middle\" x=\"426.17\" y=\"-6.8\" font-family=\"Helvetica,sans-Serif\" font-size=\"14.00\">value = [13, 0]</text>\n",
       "</g>\n",
       "<!-- 6&#45;&gt;8 -->\n",
       "<g id=\"edge8\" class=\"edge\"><title>6&#45;&gt;8</title>\n",
       "<path fill=\"none\" stroke=\"black\" d=\"M387.968,-85.9375C393.58,-77.133 399.705,-67.5239 405.373,-58.6297\"/>\n",
       "<polygon fill=\"black\" stroke=\"black\" points=\"408.431,-60.3441 410.855,-50.0301 402.528,-56.5817 408.431,-60.3441\"/>\n",
       "</g>\n",
       "<!-- 10 -->\n",
       "<g id=\"node11\" class=\"node\"><title>10</title>\n",
       "<path fill=\"#e58139\" fill-opacity=\"0.525490\" stroke=\"black\" d=\"M602.442,-150C602.442,-150 493.899,-150 493.899,-150 487.899,-150 481.899,-144 481.899,-138 481.899,-138 481.899,-98 481.899,-98 481.899,-92 487.899,-86 493.899,-86 493.899,-86 602.442,-86 602.442,-86 608.442,-86 614.442,-92 614.442,-98 614.442,-98 614.442,-138 614.442,-138 614.442,-144 608.442,-150 602.442,-150\"/>\n",
       "<text text-anchor=\"middle\" x=\"548.17\" y=\"-134.8\" font-family=\"Helvetica,sans-Serif\" font-size=\"14.00\">habitat_p &lt;= 1.307</text>\n",
       "<text text-anchor=\"middle\" x=\"548.17\" y=\"-120.8\" font-family=\"Helvetica,sans-Serif\" font-size=\"14.00\">gini = 0.437</text>\n",
       "<text text-anchor=\"middle\" x=\"548.17\" y=\"-106.8\" font-family=\"Helvetica,sans-Serif\" font-size=\"14.00\">samples = 118</text>\n",
       "<text text-anchor=\"middle\" x=\"548.17\" y=\"-92.8\" font-family=\"Helvetica,sans-Serif\" font-size=\"14.00\">value = [80, 38]</text>\n",
       "</g>\n",
       "<!-- 9&#45;&gt;10 -->\n",
       "<g id=\"edge10\" class=\"edge\"><title>9&#45;&gt;10</title>\n",
       "<path fill=\"none\" stroke=\"black\" d=\"M548.17,-185.992C548.17,-177.859 548.17,-168.959 548.17,-160.378\"/>\n",
       "<polygon fill=\"black\" stroke=\"black\" points=\"551.671,-160.142 548.17,-150.142 544.671,-160.142 551.671,-160.142\"/>\n",
       "</g>\n",
       "<!-- 13 -->\n",
       "<g id=\"node14\" class=\"node\"><title>13</title>\n",
       "<path fill=\"#399de5\" stroke=\"black\" d=\"M740.084,-143C740.084,-143 644.257,-143 644.257,-143 638.257,-143 632.257,-137 632.257,-131 632.257,-131 632.257,-105 632.257,-105 632.257,-99 638.257,-93 644.257,-93 644.257,-93 740.084,-93 740.084,-93 746.084,-93 752.084,-99 752.084,-105 752.084,-105 752.084,-131 752.084,-131 752.084,-137 746.084,-143 740.084,-143\"/>\n",
       "<text text-anchor=\"middle\" x=\"692.17\" y=\"-127.8\" font-family=\"Helvetica,sans-Serif\" font-size=\"14.00\">gini = 0.0</text>\n",
       "<text text-anchor=\"middle\" x=\"692.17\" y=\"-113.8\" font-family=\"Helvetica,sans-Serif\" font-size=\"14.00\">samples = 2139</text>\n",
       "<text text-anchor=\"middle\" x=\"692.17\" y=\"-99.8\" font-family=\"Helvetica,sans-Serif\" font-size=\"14.00\">value = [0, 2139]</text>\n",
       "</g>\n",
       "<!-- 9&#45;&gt;13 -->\n",
       "<g id=\"edge13\" class=\"edge\"><title>9&#45;&gt;13</title>\n",
       "<path fill=\"none\" stroke=\"black\" d=\"M593.733,-185.992C610.994,-174.245 630.609,-160.896 647.762,-149.222\"/>\n",
       "<polygon fill=\"black\" stroke=\"black\" points=\"650.184,-151.807 656.482,-143.288 646.246,-146.02 650.184,-151.807\"/>\n",
       "</g>\n",
       "<!-- 11 -->\n",
       "<g id=\"node12\" class=\"node\"><title>11</title>\n",
       "<path fill=\"#e58139\" fill-opacity=\"0.901961\" stroke=\"black\" d=\"M588.512,-50C588.512,-50 507.829,-50 507.829,-50 501.829,-50 495.829,-44 495.829,-38 495.829,-38 495.829,-12 495.829,-12 495.829,-6 501.829,-0 507.829,-0 507.829,-0 588.512,-0 588.512,-0 594.512,-0 600.512,-6 600.512,-12 600.512,-12 600.512,-38 600.512,-38 600.512,-44 594.512,-50 588.512,-50\"/>\n",
       "<text text-anchor=\"middle\" x=\"548.17\" y=\"-34.8\" font-family=\"Helvetica,sans-Serif\" font-size=\"14.00\">gini = 0.165</text>\n",
       "<text text-anchor=\"middle\" x=\"548.17\" y=\"-20.8\" font-family=\"Helvetica,sans-Serif\" font-size=\"14.00\">samples = 88</text>\n",
       "<text text-anchor=\"middle\" x=\"548.17\" y=\"-6.8\" font-family=\"Helvetica,sans-Serif\" font-size=\"14.00\">value = [80, 8]</text>\n",
       "</g>\n",
       "<!-- 10&#45;&gt;11 -->\n",
       "<g id=\"edge11\" class=\"edge\"><title>10&#45;&gt;11</title>\n",
       "<path fill=\"none\" stroke=\"black\" d=\"M548.17,-85.9375C548.17,-77.6833 548.17,-68.7219 548.17,-60.3053\"/>\n",
       "<polygon fill=\"black\" stroke=\"black\" points=\"551.671,-60.03 548.17,-50.0301 544.671,-60.0301 551.671,-60.03\"/>\n",
       "</g>\n",
       "<!-- 12 -->\n",
       "<g id=\"node13\" class=\"node\"><title>12</title>\n",
       "<path fill=\"#399de5\" stroke=\"black\" d=\"M710.512,-50C710.512,-50 629.829,-50 629.829,-50 623.829,-50 617.829,-44 617.829,-38 617.829,-38 617.829,-12 617.829,-12 617.829,-6 623.829,-0 629.829,-0 629.829,-0 710.512,-0 710.512,-0 716.512,-0 722.512,-6 722.512,-12 722.512,-12 722.512,-38 722.512,-38 722.512,-44 716.512,-50 710.512,-50\"/>\n",
       "<text text-anchor=\"middle\" x=\"670.17\" y=\"-34.8\" font-family=\"Helvetica,sans-Serif\" font-size=\"14.00\">gini = 0.0</text>\n",
       "<text text-anchor=\"middle\" x=\"670.17\" y=\"-20.8\" font-family=\"Helvetica,sans-Serif\" font-size=\"14.00\">samples = 30</text>\n",
       "<text text-anchor=\"middle\" x=\"670.17\" y=\"-6.8\" font-family=\"Helvetica,sans-Serif\" font-size=\"14.00\">value = [0, 30]</text>\n",
       "</g>\n",
       "<!-- 10&#45;&gt;12 -->\n",
       "<g id=\"edge12\" class=\"edge\"><title>10&#45;&gt;12</title>\n",
       "<path fill=\"none\" stroke=\"black\" d=\"M589.815,-85.9375C602.725,-76.3076 616.926,-65.7151 629.752,-56.1483\"/>\n",
       "<polygon fill=\"black\" stroke=\"black\" points=\"632.031,-58.8146 637.954,-50.0301 627.846,-53.2036 632.031,-58.8146\"/>\n",
       "</g>\n",
       "</g>\n",
       "</svg>\n"
      ],
      "text/plain": [
       "<graphviz.files.Source at 0x113831d68>"
      ]
     },
     "execution_count": 75,
     "metadata": {},
     "output_type": "execute_result"
    }
   ],
   "source": [
    "DTZ = DecisionTreeClassifier(max_depth=6, min_impurity_decrease=0.005)\n",
    "DTZ.fit(X_trainZ,y_train)\n",
    "pred1 = DT.predict(X_testZ)\n",
    "\n",
    "dot_data = tree.export_graphviz(DTZ, out_file=None,feature_names = df.drop('class',axis=1).columns,rounded=True,filled=True) \n",
    "graph = graphviz.Source(dot_data) \n",
    "graph"
   ]
  },
  {
   "cell_type": "markdown",
   "metadata": {},
   "source": [
    "## Discussion\n",
    "\n",
    "After Z-Scoring the data L2 and L1 seem to be a lot closer in terms of feature weights. The weights themselves have dropped significantly in terms of value which improves transparency and prevents Logistic Regression from giving high weights to features that do not really make sense. DT however is still very different from L2 and L1. "
   ]
  },
  {
   "cell_type": "code",
   "execution_count": 56,
   "metadata": {
    "collapsed": true
   },
   "outputs": [],
   "source": [
    "probabilities = LRL2Z.predict_proba(X_testZ)"
   ]
  },
  {
   "cell_type": "code",
   "execution_count": 57,
   "metadata": {
    "collapsed": true
   },
   "outputs": [],
   "source": [
    "wi_xi =np.multiply(X_testZ,LRL2Z.coef_[0])\n",
    "\n",
    "total_pos_evi = []\n",
    "total_neg_evi = []\n",
    "\n",
    "for r in range(0,X_test.shape[0]):\n",
    "    \n",
    "    total_pos_evi.append(np.add(LRL2Z.intercept_[0],np.sum(x for x in wi_xi[r] if x >0)))\n",
    "    total_neg_evi.append(np.add(LRL2Z.intercept_[0],np.sum(x for x in wi_xi[r] if x <0)))\n"
   ]
  },
  {
   "cell_type": "code",
   "execution_count": 58,
   "metadata": {
    "collapsed": true
   },
   "outputs": [],
   "source": [
    "def get_top_features(row, LRL2Z, row_id):\n",
    "    wi_xi_row=np.multiply(row,LRL2Z.coef_[0])\n",
    "     \n",
    "    top3_pos_ft_ids = np.argsort(wi_xi_row)[::-1][:3] # top 3 positive feature IDs \n",
    "    top3_neg_ft_ids = np.argsort(wi_xi_row)[:3]\n",
    "    \n",
    "    print(\"\\nd) Top 3 feature values that contribute to postive evidence: \")\n",
    "    \n",
    "    for index in top3_pos_ft_ids:\n",
    "        print(\"Feature: %s = %f                Feature Evidence: %f\"%(X_test.columns[index],row[index],wi_xi_row[index]))\n",
    "        \n",
    "    print(\"\\ne) Top 3 feature values that contribute to negative evidence: \")\n",
    "    \n",
    "    for index in top3_neg_ft_ids:\n",
    "        print(\"Feature: %s = %f                Feature Evidence: %f\"%(X_test.columns[index],row[index],wi_xi_row[index]))"
   ]
  },
  {
   "cell_type": "markdown",
   "metadata": {},
   "source": [
    "### 1. Most Positive object in terms of probablity"
   ]
  },
  {
   "cell_type": "code",
   "execution_count": 59,
   "metadata": {},
   "outputs": [
    {
     "name": "stdout",
     "output_type": "stream",
     "text": [
      "a) Total Positive Evidence =  13.6222019341\n",
      "b) Total Negative Evidence =  -1.83438754611\n",
      "c) Probability Distribution =  [  1.90935898e-05   9.99980906e-01]\n",
      "\n",
      "d) Top 3 feature values that contribute to postive evidence: \n",
      "Feature: odor_n = 1.034173                Feature Evidence: 1.472683\n",
      "Feature: ring-type_e = 2.441960                Feature Evidence: 1.083279\n",
      "Feature: stalk-root_b = -1.429784                Feature Evidence: 0.996314\n",
      "\n",
      "e) Top 3 feature values that contribute to negative evidence: \n",
      "Feature: habitat_g = 1.437534                Feature Evidence: -0.397002\n",
      "Feature: spore-print-color_k = -0.703183                Feature Evidence: -0.379689\n",
      "Feature: habitat_d = -0.888958                Feature Evidence: -0.252881\n"
     ]
    }
   ],
   "source": [
    "id_most_pos = np.argmax(probabilities[:,1])\n",
    "print(\"a) Total Positive Evidence = \",total_pos_evi[id_most_pos])\n",
    "print(\"b) Total Negative Evidence = \", total_neg_evi[id_most_pos])\n",
    "print(\"c) Probability Distribution = \", probabilities[id_most_pos])\n",
    "get_top_features(X_testZ[id_most_pos],LRL2Z,id_most_pos)"
   ]
  },
  {
   "cell_type": "markdown",
   "metadata": {},
   "source": [
    "### 2. Most Negative object in terms of probablity"
   ]
  },
  {
   "cell_type": "code",
   "execution_count": 60,
   "metadata": {},
   "outputs": [
    {
     "name": "stdout",
     "output_type": "stream",
     "text": [
      "a) Total Positive log Evidence =  2.52053787247\n",
      "b) Total Negative log Evidence =  -16.0179763962\n",
      "c) Probability Distribution =  [  9.99999453e-01   5.46837222e-07]\n",
      "\n",
      "d) Top 3 feature values that contribute to postive evidence: \n",
      "Feature: odor_p = -0.216976                Feature Evidence: 0.319017\n",
      "Feature: odor_c = -0.198261                Feature Evidence: 0.250041\n",
      "Feature: cap-surface_s = -0.538928                Feature Evidence: 0.142782\n",
      "\n",
      "e) Top 3 feature values that contribute to negative evidence: \n",
      "Feature: odor_f = 1.586572                Feature Evidence: -1.950623\n",
      "Feature: spore-print-color_h = 1.586572                Feature Evidence: -1.950623\n",
      "Feature: odor_n = -0.966957                Feature Evidence: -1.376966\n"
     ]
    }
   ],
   "source": [
    "id_most_neg = np.argmax(probabilities[:,0])\n",
    "print(\"a) Total Positive log Evidence = \",total_pos_evi[id_most_neg])\n",
    "print(\"b) Total Negative log Evidence = \", total_neg_evi[id_most_neg])\n",
    "print(\"c) Probability Distribution = \", probabilities[id_most_neg])\n",
    "get_top_features(X_testZ[id_most_neg],LRL2Z,id_most_neg)"
   ]
  },
  {
   "cell_type": "markdown",
   "metadata": {},
   "source": [
    "### 3. Object that has highest Postive evidence "
   ]
  },
  {
   "cell_type": "code",
   "execution_count": 61,
   "metadata": {},
   "outputs": [
    {
     "name": "stdout",
     "output_type": "stream",
     "text": [
      "a) Total Positive Evidence =  17.7439058013\n",
      "b) Total Negative Evidence =  -22.921984544\n",
      "c) Probability Distribution =  [ 0.9977616  0.0022384]\n",
      "\n",
      "d) Top 3 feature values that contribute to postive evidence: \n",
      "Feature: spore-print-color_w = 5.859731                Feature Evidence: 2.793550\n",
      "Feature: stalk-root_c = 2.996040                Feature Evidence: 1.897184\n",
      "Feature: odor_n = 1.034173                Feature Evidence: 1.472683\n",
      "\n",
      "e) Top 3 feature values that contribute to negative evidence: \n",
      "Feature: population_c = 10.497899                Feature Evidence: -7.940240\n",
      "Feature: stalk-color-below-ring_y = 27.480902                Feature Evidence: -2.340539\n",
      "Feature: veil-color_y = 27.480902                Feature Evidence: -2.340539\n"
     ]
    }
   ],
   "source": [
    "id_most_pos_evi = np.argmax(total_pos_evi)\n",
    "print(\"a) Total Positive Evidence = \",total_pos_evi[id_most_pos_evi])\n",
    "print(\"b) Total Negative Evidence = \", total_neg_evi[id_most_pos_evi])\n",
    "print(\"c) Probability Distribution = \", probabilities[id_most_pos_evi])\n",
    "get_top_features(X_testZ[id_most_pos_evi],LRL2Z,id_most_pos_evi)"
   ]
  },
  {
   "cell_type": "markdown",
   "metadata": {},
   "source": [
    "### 4. Object that has highest Negative evidence"
   ]
  },
  {
   "cell_type": "code",
   "execution_count": 62,
   "metadata": {},
   "outputs": [
    {
     "name": "stdout",
     "output_type": "stream",
     "text": [
      "a) Total Positive Evidence =  17.6130086186\n",
      "b) Total Negative Evidence =  -24.1734364979\n",
      "c) Probability Distribution =  [  9.99437245e-01   5.62754892e-04]\n",
      "\n",
      "d) Top 3 feature values that contribute to postive evidence: \n",
      "Feature: spore-print-color_w = 5.859731                Feature Evidence: 2.793550\n",
      "Feature: stalk-root_c = 2.996040                Feature Evidence: 1.897184\n",
      "Feature: odor_n = 1.034173                Feature Evidence: 1.472683\n",
      "\n",
      "e) Top 3 feature values that contribute to negative evidence: \n",
      "Feature: population_c = 10.497899                Feature Evidence: -7.940240\n",
      "Feature: stalk-color-above-ring_y = 27.480902                Feature Evidence: -2.340539\n",
      "Feature: stalk-color-below-ring_y = 27.480902                Feature Evidence: -2.340539\n"
     ]
    }
   ],
   "source": [
    "id_most_neg_evi = np.argmin(total_neg_evi)\n",
    "print(\"a) Total Positive Evidence = \",total_pos_evi[id_most_neg_evi])\n",
    "print(\"b) Total Negative Evidence = \", total_neg_evi[id_most_neg_evi])\n",
    "print(\"c) Probability Distribution = \", probabilities[id_most_neg_evi])\n",
    "get_top_features(X_testZ[id_most_neg_evi],LRL2Z,id_most_neg_evi)"
   ]
  },
  {
   "cell_type": "markdown",
   "metadata": {},
   "source": [
    "### 5. Most Uncertain object"
   ]
  },
  {
   "cell_type": "code",
   "execution_count": 63,
   "metadata": {},
   "outputs": [
    {
     "name": "stdout",
     "output_type": "stream",
     "text": [
      "a) Total Positive Evidence =  11.8432497436\n",
      "b) Total Negative Evidence =  -13.7276576557\n",
      "c) Probability Distribution =  [ 0.94300368  0.05699632]\n",
      "\n",
      "d) Top 3 feature values that contribute to postive evidence: \n",
      "Feature: spore-print-color_w = 5.859731                Feature Evidence: 2.793550\n",
      "Feature: odor_n = 1.034173                Feature Evidence: 1.472683\n",
      "Feature: cap-shape_k = 12.782461                Feature Evidence: 0.836658\n",
      "\n",
      "e) Top 3 feature values that contribute to negative evidence: \n",
      "Feature: population_c = 10.497899                Feature Evidence: -7.940240\n",
      "Feature: gill-size_b = -2.619295                Feature Evidence: -0.785069\n",
      "Feature: gill-size_n = 2.619295                Feature Evidence: -0.785069\n"
     ]
    }
   ],
   "source": [
    "id_most_neutral = np.argmin(np.absolute(np.subtract(probabilities[:,0], probabilities[:,1])))\n",
    "print(\"a) Total Positive Evidence = \",total_pos_evi[id_most_neutral])\n",
    "print(\"b) Total Negative Evidence = \", total_neg_evi[id_most_neutral])\n",
    "print(\"c) Probability Distribution = \", probabilities[id_most_neutral])\n",
    "get_top_features(X_testZ[id_most_neutral],LRL2Z,id_most_neutral)"
   ]
  },
  {
   "cell_type": "code",
   "execution_count": null,
   "metadata": {
    "collapsed": true
   },
   "outputs": [],
   "source": []
  },
  {
   "cell_type": "code",
   "execution_count": null,
   "metadata": {
    "collapsed": true
   },
   "outputs": [],
   "source": []
  }
 ],
 "metadata": {
  "kernelspec": {
   "display_name": "Python [Root]",
   "language": "python",
   "name": "Python [Root]"
  },
  "language_info": {
   "codemirror_mode": {
    "name": "ipython",
    "version": 3
   },
   "file_extension": ".py",
   "mimetype": "text/x-python",
   "name": "python",
   "nbconvert_exporter": "python",
   "pygments_lexer": "ipython3",
   "version": "3.5.3"
  }
 },
 "nbformat": 4,
 "nbformat_minor": 2
}
