{
 "cells": [
  {
   "cell_type": "markdown",
   "metadata": {},
   "source": [
    "# CS 595 Data 3\n",
    "\n",
    "### Student: Sarthak Anand (A20389087)\n",
    "\n",
    "### Dataset : Mushroom Dataset from UCI\n",
    "\n",
    "This dataset includes descriptions of hypothetical samples corresponding to 23 species of gilled mushrooms in the Agaricus and Lepiota Family Mushroom drawn from The Audubon Society Field Guide to North American Mushrooms (1981). Each species is identified as definitely edible, definitely poisonous, or of unknown edibility and not recommended. This latter class was combined with the poisonous one.\n",
    "\n",
    "The objective of classification on this dataset is to classify mushrooms as edible or poisonous based the attributes given below.\n",
    "\n",
    "**Target -> class**: edible=e, poisonous=p\n",
    "#### Attribute information:\n",
    "1. **cap-shape**:                bell=b, conical=c, convex=x, flat=f, knobbed=k, sunken=s\n",
    "2. **cap-surface**:              fibrous=f, grooves=g, scaly=y, smooth=s\n",
    "3. **cap-color**:                brown=n, buff=b, cinnamon=c, gray=g, green=r, pink=p, purple=u, red=e, white=w, yellow=y\n",
    "4. **bruises**:                  bruises=t, no=f\n",
    "5. **odor**:                     almond=a, anise=l, creosote=c, fishy=y, foul=f, musty=m, none=n, pungent=p, spicy=s\n",
    "6. **gill-attachment**:          attached=a, descending=d, free=f, notched=n\n",
    "7. **gill-spacing**:             close=c, crowded=w, distant=d\n",
    "8. **gill-size**:                broad=b, narrow=n\n",
    "9. **gill-color**:               black=k, brown=n, buff=b, chocolate=h, gray=g, green=r, orange=o, pink=p, purple=u, red=e, white=w, yellow=y\n",
    "10. **stalk-shape**:              enlarging=e, tapering=t\n",
    "11. **stalk-root**:               bulbous=b, club=c, cup=u, equal=e, rhizomorphs=z, rooted=r, missing=?\n",
    "12. **stalk-surface-above-ring**: fibrous=f, scaly=y, silky=k, smooth=s\n",
    "13. **stalk-surface-below-ring**: fibrous=f, scaly=y, silky=k, smooth=s\n",
    "14. **stalk-color-above-ring**:   brown=n, buff=b, cinnamon=c, gray=g, orange=o, pink=p, red=e, white=w, yellow=y\n",
    "15. **stalk-color-below-ring**:   brown=n, buff=b, cinnamon=c, gray=g, orange=o, pink=p, red=e, white=w, yellow=y\n",
    "16. **veil-type**:                partial=p, universal=u\n",
    "17. **veil-color**:               brown=n, orange=o, white=w, yellow=y\n",
    "18. **ring-number**:              none=n, one=o, two=t\n",
    "19. **ring-type**:                cobwebby=c, evanescent=e, flaring=f, large=l, none=n, pendant=p, sheathing=s, zone=z\n",
    "20. **spore-print-color**:        black=k, brown=n, buff=b, chocolate=h, green=r, orange=o, purple=u, white=w, yellow=y\n",
    "21. **population**:               abundant=a, clustered=c, numerous=n, scattered=s, several=v, solitary=y\n",
    "22. **habitat**:                  grasses=g, leaves=l, meadows=m, paths=p, urban=u, waste=w, woods=d\n",
    "\n"
   ]
  },
  {
   "cell_type": "code",
   "execution_count": 32,
   "metadata": {
    "collapsed": true
   },
   "outputs": [],
   "source": [
    "import pandas as pd\n",
    "import numpy as np\n",
    "from sklearn.linear_model import LogisticRegression\n",
    "from sklearn.model_selection import train_test_split\n",
    "from sklearn import metrics\n",
    "from sklearn.tree import DecisionTreeClassifier\n",
    "from sklearn import tree\n",
    "import graphviz\n",
    "from sklearn.preprocessing import StandardScaler"
   ]
  },
  {
   "cell_type": "markdown",
   "metadata": {},
   "source": [
    "### Load Data"
   ]
  },
  {
   "cell_type": "code",
   "execution_count": 33,
   "metadata": {},
   "outputs": [
    {
     "name": "stdout",
     "output_type": "stream",
     "text": [
      "Original Data Shape =  (8124, 23)\n",
      "Data Shape after dropping objects with missing values =  (5644, 23)\n"
     ]
    },
    {
     "data": {
      "text/html": [
       "<div>\n",
       "<style>\n",
       "    .dataframe thead tr:only-child th {\n",
       "        text-align: right;\n",
       "    }\n",
       "\n",
       "    .dataframe thead th {\n",
       "        text-align: left;\n",
       "    }\n",
       "\n",
       "    .dataframe tbody tr th {\n",
       "        vertical-align: top;\n",
       "    }\n",
       "</style>\n",
       "<table border=\"1\" class=\"dataframe\">\n",
       "  <thead>\n",
       "    <tr style=\"text-align: right;\">\n",
       "      <th></th>\n",
       "      <th>class</th>\n",
       "      <th>cap-shape</th>\n",
       "      <th>cap-surface</th>\n",
       "      <th>cap-color</th>\n",
       "      <th>bruises</th>\n",
       "      <th>odor</th>\n",
       "      <th>gill-attachment</th>\n",
       "      <th>gill-spacing</th>\n",
       "      <th>gill-size</th>\n",
       "      <th>gill-color</th>\n",
       "      <th>...</th>\n",
       "      <th>stalk-surface-below-ring</th>\n",
       "      <th>stalk-color-above-ring</th>\n",
       "      <th>stalk-color-below-ring</th>\n",
       "      <th>veil-type</th>\n",
       "      <th>veil-color</th>\n",
       "      <th>ring-number</th>\n",
       "      <th>ring-type</th>\n",
       "      <th>spore-print-color</th>\n",
       "      <th>population</th>\n",
       "      <th>habitat</th>\n",
       "    </tr>\n",
       "  </thead>\n",
       "  <tbody>\n",
       "    <tr>\n",
       "      <th>0</th>\n",
       "      <td>p</td>\n",
       "      <td>x</td>\n",
       "      <td>s</td>\n",
       "      <td>n</td>\n",
       "      <td>t</td>\n",
       "      <td>p</td>\n",
       "      <td>f</td>\n",
       "      <td>c</td>\n",
       "      <td>n</td>\n",
       "      <td>k</td>\n",
       "      <td>...</td>\n",
       "      <td>s</td>\n",
       "      <td>w</td>\n",
       "      <td>w</td>\n",
       "      <td>p</td>\n",
       "      <td>w</td>\n",
       "      <td>o</td>\n",
       "      <td>p</td>\n",
       "      <td>k</td>\n",
       "      <td>s</td>\n",
       "      <td>u</td>\n",
       "    </tr>\n",
       "    <tr>\n",
       "      <th>1</th>\n",
       "      <td>e</td>\n",
       "      <td>x</td>\n",
       "      <td>s</td>\n",
       "      <td>y</td>\n",
       "      <td>t</td>\n",
       "      <td>a</td>\n",
       "      <td>f</td>\n",
       "      <td>c</td>\n",
       "      <td>b</td>\n",
       "      <td>k</td>\n",
       "      <td>...</td>\n",
       "      <td>s</td>\n",
       "      <td>w</td>\n",
       "      <td>w</td>\n",
       "      <td>p</td>\n",
       "      <td>w</td>\n",
       "      <td>o</td>\n",
       "      <td>p</td>\n",
       "      <td>n</td>\n",
       "      <td>n</td>\n",
       "      <td>g</td>\n",
       "    </tr>\n",
       "  </tbody>\n",
       "</table>\n",
       "<p>2 rows × 23 columns</p>\n",
       "</div>"
      ],
      "text/plain": [
       "  class cap-shape cap-surface cap-color bruises odor gill-attachment  \\\n",
       "0     p         x           s         n       t    p               f   \n",
       "1     e         x           s         y       t    a               f   \n",
       "\n",
       "  gill-spacing gill-size gill-color   ...   stalk-surface-below-ring  \\\n",
       "0            c         n          k   ...                          s   \n",
       "1            c         b          k   ...                          s   \n",
       "\n",
       "  stalk-color-above-ring stalk-color-below-ring veil-type veil-color  \\\n",
       "0                      w                      w         p          w   \n",
       "1                      w                      w         p          w   \n",
       "\n",
       "  ring-number ring-type spore-print-color population habitat  \n",
       "0           o         p                 k          s       u  \n",
       "1           o         p                 n          n       g  \n",
       "\n",
       "[2 rows x 23 columns]"
      ]
     },
     "execution_count": 33,
     "metadata": {},
     "output_type": "execute_result"
    }
   ],
   "source": [
    "df = pd.read_csv(\"mushrooms.csv\")\n",
    "print(\"Original Data Shape = \",df.shape)\n",
    "df = df[df['stalk-root'] != '?']#Stalk root contains some rows with '?' values, so we remove them \n",
    "print(\"Data Shape after dropping objects with missing values = \",df.shape)\n",
    "df.head(2)"
   ]
  },
  {
   "cell_type": "markdown",
   "metadata": {},
   "source": [
    "### One-hot Encoding"
   ]
  },
  {
   "cell_type": "code",
   "execution_count": 34,
   "metadata": {},
   "outputs": [
    {
     "name": "stdout",
     "output_type": "stream",
     "text": [
      "Data Shape after One-hot encoding =  (5644, 99)\n",
      "\n",
      "Data after One-hot Encoding:\n"
     ]
    },
    {
     "data": {
      "text/html": [
       "<div>\n",
       "<style>\n",
       "    .dataframe thead tr:only-child th {\n",
       "        text-align: right;\n",
       "    }\n",
       "\n",
       "    .dataframe thead th {\n",
       "        text-align: left;\n",
       "    }\n",
       "\n",
       "    .dataframe tbody tr th {\n",
       "        vertical-align: top;\n",
       "    }\n",
       "</style>\n",
       "<table border=\"1\" class=\"dataframe\">\n",
       "  <thead>\n",
       "    <tr style=\"text-align: right;\">\n",
       "      <th></th>\n",
       "      <th>class</th>\n",
       "      <th>cap-shape_b</th>\n",
       "      <th>cap-shape_c</th>\n",
       "      <th>cap-shape_f</th>\n",
       "      <th>cap-shape_k</th>\n",
       "      <th>cap-shape_s</th>\n",
       "      <th>cap-shape_x</th>\n",
       "      <th>cap-surface_f</th>\n",
       "      <th>cap-surface_g</th>\n",
       "      <th>cap-surface_s</th>\n",
       "      <th>...</th>\n",
       "      <th>population_n</th>\n",
       "      <th>population_s</th>\n",
       "      <th>population_v</th>\n",
       "      <th>population_y</th>\n",
       "      <th>habitat_d</th>\n",
       "      <th>habitat_g</th>\n",
       "      <th>habitat_l</th>\n",
       "      <th>habitat_m</th>\n",
       "      <th>habitat_p</th>\n",
       "      <th>habitat_u</th>\n",
       "    </tr>\n",
       "  </thead>\n",
       "  <tbody>\n",
       "    <tr>\n",
       "      <th>0</th>\n",
       "      <td>0</td>\n",
       "      <td>0</td>\n",
       "      <td>0</td>\n",
       "      <td>0</td>\n",
       "      <td>0</td>\n",
       "      <td>0</td>\n",
       "      <td>1</td>\n",
       "      <td>0</td>\n",
       "      <td>0</td>\n",
       "      <td>1</td>\n",
       "      <td>...</td>\n",
       "      <td>0</td>\n",
       "      <td>1</td>\n",
       "      <td>0</td>\n",
       "      <td>0</td>\n",
       "      <td>0</td>\n",
       "      <td>0</td>\n",
       "      <td>0</td>\n",
       "      <td>0</td>\n",
       "      <td>0</td>\n",
       "      <td>1</td>\n",
       "    </tr>\n",
       "    <tr>\n",
       "      <th>1</th>\n",
       "      <td>1</td>\n",
       "      <td>0</td>\n",
       "      <td>0</td>\n",
       "      <td>0</td>\n",
       "      <td>0</td>\n",
       "      <td>0</td>\n",
       "      <td>1</td>\n",
       "      <td>0</td>\n",
       "      <td>0</td>\n",
       "      <td>1</td>\n",
       "      <td>...</td>\n",
       "      <td>1</td>\n",
       "      <td>0</td>\n",
       "      <td>0</td>\n",
       "      <td>0</td>\n",
       "      <td>0</td>\n",
       "      <td>1</td>\n",
       "      <td>0</td>\n",
       "      <td>0</td>\n",
       "      <td>0</td>\n",
       "      <td>0</td>\n",
       "    </tr>\n",
       "  </tbody>\n",
       "</table>\n",
       "<p>2 rows × 99 columns</p>\n",
       "</div>"
      ],
      "text/plain": [
       "   class  cap-shape_b  cap-shape_c  cap-shape_f  cap-shape_k  cap-shape_s  \\\n",
       "0      0            0            0            0            0            0   \n",
       "1      1            0            0            0            0            0   \n",
       "\n",
       "   cap-shape_x  cap-surface_f  cap-surface_g  cap-surface_s    ...      \\\n",
       "0            1              0              0              1    ...       \n",
       "1            1              0              0              1    ...       \n",
       "\n",
       "   population_n  population_s  population_v  population_y  habitat_d  \\\n",
       "0             0             1             0             0          0   \n",
       "1             1             0             0             0          0   \n",
       "\n",
       "   habitat_g  habitat_l  habitat_m  habitat_p  habitat_u  \n",
       "0          0          0          0          0          1  \n",
       "1          1          0          0          0          0  \n",
       "\n",
       "[2 rows x 99 columns]"
      ]
     },
     "execution_count": 34,
     "metadata": {},
     "output_type": "execute_result"
    }
   ],
   "source": [
    "# Since the features are categorical, I do one-hot encoding for the 22 features \n",
    "# The get_dummies pandas function automatically does one-hot encoding \n",
    "\n",
    "for col in df.drop('class',axis=1).columns:\n",
    "    one_hot = pd.get_dummies(df[col],prefix=col) # prefix is set to orginal col name + feature value so the column name is understandable \n",
    "    df.drop(col,axis=1,inplace=True) #drop the column that has been one-hot encoded\n",
    "    df = df.join(one_hot) # add the new columns to the original frame \n",
    "    \n",
    "# Mapping the values of target class from {p,e} to {0,1}\n",
    "df['class'] = df['class'].map(lambda x:0 if x == 'p' else 1)\n",
    "print(\"Data Shape after One-hot encoding = \",df.shape)\n",
    "print(\"\\nData after One-hot Encoding:\")\n",
    "df.head(2)"
   ]
  },
  {
   "cell_type": "code",
   "execution_count": 35,
   "metadata": {
    "collapsed": true
   },
   "outputs": [],
   "source": [
    "#Creating Train-Test split with a 2/3 train and 1/3 test split \n",
    "X_train, X_test, y_train, y_test = train_test_split(df.drop('class',axis=1), df['class'], test_size=0.33, random_state=43)"
   ]
  },
  {
   "cell_type": "code",
   "execution_count": 36,
   "metadata": {},
   "outputs": [
    {
     "data": {
      "text/plain": [
       "LogisticRegression(C=1.0, class_weight=None, dual=False, fit_intercept=True,\n",
       "          intercept_scaling=1, max_iter=100, multi_class='ovr', n_jobs=1,\n",
       "          penalty='l2', random_state=None, solver='liblinear', tol=0.0001,\n",
       "          verbose=0, warm_start=False)"
      ]
     },
     "execution_count": 36,
     "metadata": {},
     "output_type": "execute_result"
    }
   ],
   "source": [
    "#Training Logistic Regresiion classifiers with penalty= 'l2'\n",
    "LRL2 = LogisticRegression(penalty='l2')\n",
    "LRL2.fit(X_train, y_train)"
   ]
  },
  {
   "cell_type": "code",
   "execution_count": 37,
   "metadata": {},
   "outputs": [
    {
     "data": {
      "text/plain": [
       "LogisticRegression(C=1.0, class_weight=None, dual=False, fit_intercept=True,\n",
       "          intercept_scaling=1, max_iter=100, multi_class='ovr', n_jobs=1,\n",
       "          penalty='l1', random_state=None, solver='liblinear', tol=0.0001,\n",
       "          verbose=0, warm_start=False)"
      ]
     },
     "execution_count": 37,
     "metadata": {},
     "output_type": "execute_result"
    }
   ],
   "source": [
    "#Training Logistic Regresiion classifiers with penalty= 'l1'\n",
    "LRL1 = LogisticRegression(penalty='l1')\n",
    "LRL1.fit(X_train, y_train)"
   ]
  },
  {
   "cell_type": "markdown",
   "metadata": {},
   "source": [
    "### Top 10 Features for Logistic Regression with L2 penalty with original data"
   ]
  },
  {
   "cell_type": "code",
   "execution_count": 45,
   "metadata": {},
   "outputs": [
    {
     "name": "stdout",
     "output_type": "stream",
     "text": [
      "Logistic Regression L2 penalty Top 10 Features \n",
      "\n",
      " 1) odor_m \t\t weight: 2.725319\n",
      " 2) odor_n \t\t weight: -2.674960\n",
      " 3) bruises_t \t\t weight: 2.389109\n",
      " 4) odor_c \t\t weight: -2.374905\n",
      " 5) ring-type_p \t\t weight: -2.374905\n",
      " 6) odor_f \t\t weight: 2.349241\n",
      " 7) odor_a \t\t weight: -2.214459\n",
      " 8) spore-print-color_n \t\t weight: -2.086056\n",
      " 9) stalk-shape_t \t\t weight: -1.891698\n",
      " 10) population_a \t\t weight: -1.870867\n"
     ]
    }
   ],
   "source": [
    "top10L2 = np.argsort(np.absolute(LRL2.coef_[0]))[::-1]\n",
    "print(\"Logistic Regression L2 penalty Top 10 Features \\n\")\n",
    "for x in range(0,10):\n",
    "    print(\" %i) %s \\t\\t weight: %f\"%(x+1,df.columns[top10L2[x]],LRL2.coef_[0][top10L2[x]]))"
   ]
  },
  {
   "cell_type": "markdown",
   "metadata": {},
   "source": [
    "### Top 10 Features for Logistic Regression with L1 penalty with original data"
   ]
  },
  {
   "cell_type": "code",
   "execution_count": 46,
   "metadata": {},
   "outputs": [
    {
     "name": "stdout",
     "output_type": "stream",
     "text": [
      "Logistic Regression L1 penalty Top 10 Features \n",
      "\n",
      " 1) spore-print-color_n \t\t weight: -8.963071\n",
      " 2) population_a \t\t weight: -6.297406\n",
      " 3) odor_c \t\t weight: -5.596767\n",
      " 4) odor_m \t\t weight: 5.128317\n",
      " 5) odor_f \t\t weight: 4.960885\n",
      " 6) bruises_t \t\t weight: 4.935378\n",
      " 7) odor_n \t\t weight: -4.211597\n",
      " 8) odor_a \t\t weight: -3.533556\n",
      " 9) ring-type_p \t\t weight: -2.148732\n",
      " 10) stalk-shape_e \t\t weight: 1.716035\n"
     ]
    }
   ],
   "source": [
    "top10L1 = np.argsort(np.absolute(LRL1.coef_[0]))[::-1]\n",
    "print(\"Logistic Regression L1 penalty Top 10 Features \\n\")\n",
    "for x in range(0,10):\n",
    "    print(\" %i) %s \\t\\t weight: %f\"%(x+1,df.columns[top10L1[x]],LRL1.coef_[0][top10L1[x]]))"
   ]
  },
  {
   "cell_type": "markdown",
   "metadata": {},
   "source": [
    "### Decision Tree with original data"
   ]
  },
  {
   "cell_type": "code",
   "execution_count": 47,
   "metadata": {},
   "outputs": [
    {
     "data": {
      "image/svg+xml": [
       "<?xml version=\"1.0\" encoding=\"UTF-8\" standalone=\"no\"?>\n",
       "<!DOCTYPE svg PUBLIC \"-//W3C//DTD SVG 1.1//EN\"\n",
       " \"http://www.w3.org/Graphics/SVG/1.1/DTD/svg11.dtd\">\n",
       "<!-- Generated by graphviz version 2.38.0 (20140413.2041)\n",
       " -->\n",
       "<!-- Title: Tree Pages: 1 -->\n",
       "<svg width=\"756pt\" height=\"458pt\"\n",
       " viewBox=\"0.00 0.00 756.23 458.00\" xmlns=\"http://www.w3.org/2000/svg\" xmlns:xlink=\"http://www.w3.org/1999/xlink\">\n",
       "<g id=\"graph0\" class=\"graph\" transform=\"scale(1 1) rotate(0) translate(4 454)\">\n",
       "<title>Tree</title>\n",
       "<polygon fill=\"white\" stroke=\"none\" points=\"-4,4 -4,-454 752.234,-454 752.234,4 -4,4\"/>\n",
       "<!-- 0 -->\n",
       "<g id=\"node1\" class=\"node\"><title>0</title>\n",
       "<path fill=\"#399de5\" fill-opacity=\"0.368627\" stroke=\"black\" d=\"M592.835,-450C592.835,-450 473.292,-450 473.292,-450 467.292,-450 461.292,-444 461.292,-438 461.292,-438 461.292,-398 461.292,-398 461.292,-392 467.292,-386 473.292,-386 473.292,-386 592.835,-386 592.835,-386 598.835,-386 604.835,-392 604.835,-398 604.835,-398 604.835,-438 604.835,-438 604.835,-444 598.835,-450 592.835,-450\"/>\n",
       "<text text-anchor=\"middle\" x=\"533.063\" y=\"-434.8\" font-family=\"Helvetica,sans-Serif\" font-size=\"14.00\">odor_f &lt;= 0.5</text>\n",
       "<text text-anchor=\"middle\" x=\"533.063\" y=\"-420.8\" font-family=\"Helvetica,sans-Serif\" font-size=\"14.00\">gini = 0.475</text>\n",
       "<text text-anchor=\"middle\" x=\"533.063\" y=\"-406.8\" font-family=\"Helvetica,sans-Serif\" font-size=\"14.00\">samples = 3781</text>\n",
       "<text text-anchor=\"middle\" x=\"533.063\" y=\"-392.8\" font-family=\"Helvetica,sans-Serif\" font-size=\"14.00\">value = [1465, 2316]</text>\n",
       "</g>\n",
       "<!-- 1 -->\n",
       "<g id=\"node2\" class=\"node\"><title>1</title>\n",
       "<path fill=\"#399de5\" fill-opacity=\"0.831373\" stroke=\"black\" d=\"M516.05,-350C516.05,-350 404.077,-350 404.077,-350 398.077,-350 392.077,-344 392.077,-338 392.077,-338 392.077,-298 392.077,-298 392.077,-292 398.077,-286 404.077,-286 404.077,-286 516.05,-286 516.05,-286 522.05,-286 528.05,-292 528.05,-298 528.05,-298 528.05,-338 528.05,-338 528.05,-344 522.05,-350 516.05,-350\"/>\n",
       "<text text-anchor=\"middle\" x=\"460.063\" y=\"-334.8\" font-family=\"Helvetica,sans-Serif\" font-size=\"14.00\">gill&#45;size_b &lt;= 0.5</text>\n",
       "<text text-anchor=\"middle\" x=\"460.063\" y=\"-320.8\" font-family=\"Helvetica,sans-Serif\" font-size=\"14.00\">gini = 0.247</text>\n",
       "<text text-anchor=\"middle\" x=\"460.063\" y=\"-306.8\" font-family=\"Helvetica,sans-Serif\" font-size=\"14.00\">samples = 2706</text>\n",
       "<text text-anchor=\"middle\" x=\"460.063\" y=\"-292.8\" font-family=\"Helvetica,sans-Serif\" font-size=\"14.00\">value = [390, 2316]</text>\n",
       "</g>\n",
       "<!-- 0&#45;&gt;1 -->\n",
       "<g id=\"edge1\" class=\"edge\"><title>0&#45;&gt;1</title>\n",
       "<path fill=\"none\" stroke=\"black\" d=\"M509.966,-385.992C503.442,-377.234 496.254,-367.585 489.415,-358.404\"/>\n",
       "<polygon fill=\"black\" stroke=\"black\" points=\"492.042,-356.071 483.261,-350.142 486.428,-360.253 492.042,-356.071\"/>\n",
       "<text text-anchor=\"middle\" x=\"479.645\" y=\"-370.679\" font-family=\"Helvetica,sans-Serif\" font-size=\"14.00\">True</text>\n",
       "</g>\n",
       "<!-- 14 -->\n",
       "<g id=\"node15\" class=\"node\"><title>14</title>\n",
       "<path fill=\"#e58139\" stroke=\"black\" d=\"M653.977,-343C653.977,-343 558.15,-343 558.15,-343 552.15,-343 546.15,-337 546.15,-331 546.15,-331 546.15,-305 546.15,-305 546.15,-299 552.15,-293 558.15,-293 558.15,-293 653.977,-293 653.977,-293 659.977,-293 665.977,-299 665.977,-305 665.977,-305 665.977,-331 665.977,-331 665.977,-337 659.977,-343 653.977,-343\"/>\n",
       "<text text-anchor=\"middle\" x=\"606.063\" y=\"-327.8\" font-family=\"Helvetica,sans-Serif\" font-size=\"14.00\">gini = 0.0</text>\n",
       "<text text-anchor=\"middle\" x=\"606.063\" y=\"-313.8\" font-family=\"Helvetica,sans-Serif\" font-size=\"14.00\">samples = 1075</text>\n",
       "<text text-anchor=\"middle\" x=\"606.063\" y=\"-299.8\" font-family=\"Helvetica,sans-Serif\" font-size=\"14.00\">value = [1075, 0]</text>\n",
       "</g>\n",
       "<!-- 0&#45;&gt;14 -->\n",
       "<g id=\"edge14\" class=\"edge\"><title>0&#45;&gt;14</title>\n",
       "<path fill=\"none\" stroke=\"black\" d=\"M556.161,-385.992C564.35,-375 573.583,-362.604 581.861,-351.491\"/>\n",
       "<polygon fill=\"black\" stroke=\"black\" points=\"584.805,-353.398 587.972,-343.288 579.191,-349.216 584.805,-353.398\"/>\n",
       "<text text-anchor=\"middle\" x=\"591.588\" y=\"-363.825\" font-family=\"Helvetica,sans-Serif\" font-size=\"14.00\">False</text>\n",
       "</g>\n",
       "<!-- 2 -->\n",
       "<g id=\"node3\" class=\"node\"><title>2</title>\n",
       "<path fill=\"#e58139\" fill-opacity=\"0.513725\" stroke=\"black\" d=\"M415.763,-250C415.763,-250 312.364,-250 312.364,-250 306.364,-250 300.364,-244 300.364,-238 300.364,-238 300.364,-198 300.364,-198 300.364,-192 306.364,-186 312.364,-186 312.364,-186 415.763,-186 415.763,-186 421.763,-186 427.763,-192 427.763,-198 427.763,-198 427.763,-238 427.763,-238 427.763,-244 421.763,-250 415.763,-250\"/>\n",
       "<text text-anchor=\"middle\" x=\"364.063\" y=\"-234.8\" font-family=\"Helvetica,sans-Serif\" font-size=\"14.00\">odor_n &lt;= 0.5</text>\n",
       "<text text-anchor=\"middle\" x=\"364.063\" y=\"-220.8\" font-family=\"Helvetica,sans-Serif\" font-size=\"14.00\">gini = 0.44</text>\n",
       "<text text-anchor=\"middle\" x=\"364.063\" y=\"-206.8\" font-family=\"Helvetica,sans-Serif\" font-size=\"14.00\">samples = 481</text>\n",
       "<text text-anchor=\"middle\" x=\"364.063\" y=\"-192.8\" font-family=\"Helvetica,sans-Serif\" font-size=\"14.00\">value = [324, 157]</text>\n",
       "</g>\n",
       "<!-- 1&#45;&gt;2 -->\n",
       "<g id=\"edge2\" class=\"edge\"><title>1&#45;&gt;2</title>\n",
       "<path fill=\"none\" stroke=\"black\" d=\"M429.688,-285.992C420.846,-276.966 411.077,-266.993 401.838,-257.562\"/>\n",
       "<polygon fill=\"black\" stroke=\"black\" points=\"404.068,-254.837 394.57,-250.142 399.068,-259.735 404.068,-254.837\"/>\n",
       "</g>\n",
       "<!-- 9 -->\n",
       "<g id=\"node10\" class=\"node\"><title>9</title>\n",
       "<path fill=\"#399de5\" fill-opacity=\"0.968627\" stroke=\"black\" d=\"M631.028,-250C631.028,-250 481.099,-250 481.099,-250 475.099,-250 469.099,-244 469.099,-238 469.099,-238 469.099,-198 469.099,-198 469.099,-192 475.099,-186 481.099,-186 481.099,-186 631.028,-186 631.028,-186 637.028,-186 643.028,-192 643.028,-198 643.028,-198 643.028,-238 643.028,-238 643.028,-244 637.028,-250 631.028,-250\"/>\n",
       "<text text-anchor=\"middle\" x=\"556.063\" y=\"-234.8\" font-family=\"Helvetica,sans-Serif\" font-size=\"14.00\">spore&#45;print&#45;color_r &lt;= 0.5</text>\n",
       "<text text-anchor=\"middle\" x=\"556.063\" y=\"-220.8\" font-family=\"Helvetica,sans-Serif\" font-size=\"14.00\">gini = 0.058</text>\n",
       "<text text-anchor=\"middle\" x=\"556.063\" y=\"-206.8\" font-family=\"Helvetica,sans-Serif\" font-size=\"14.00\">samples = 2225</text>\n",
       "<text text-anchor=\"middle\" x=\"556.063\" y=\"-192.8\" font-family=\"Helvetica,sans-Serif\" font-size=\"14.00\">value = [66, 2159]</text>\n",
       "</g>\n",
       "<!-- 1&#45;&gt;9 -->\n",
       "<g id=\"edge9\" class=\"edge\"><title>1&#45;&gt;9</title>\n",
       "<path fill=\"none\" stroke=\"black\" d=\"M490.438,-285.992C499.281,-276.966 509.05,-266.993 518.289,-257.562\"/>\n",
       "<polygon fill=\"black\" stroke=\"black\" points=\"521.059,-259.735 525.557,-250.142 516.058,-254.837 521.059,-259.735\"/>\n",
       "</g>\n",
       "<!-- 3 -->\n",
       "<g id=\"node4\" class=\"node\"><title>3</title>\n",
       "<path fill=\"#e58139\" fill-opacity=\"0.803922\" stroke=\"black\" d=\"M241.425,-150C241.425,-150 122.702,-150 122.702,-150 116.702,-150 110.702,-144 110.702,-138 110.702,-138 110.702,-98 110.702,-98 110.702,-92 116.702,-86 122.702,-86 122.702,-86 241.425,-86 241.425,-86 247.425,-86 253.425,-92 253.425,-98 253.425,-98 253.425,-138 253.425,-138 253.425,-144 247.425,-150 241.425,-150\"/>\n",
       "<text text-anchor=\"middle\" x=\"182.063\" y=\"-134.8\" font-family=\"Helvetica,sans-Serif\" font-size=\"14.00\">stalk&#45;shape_t &lt;= 0.5</text>\n",
       "<text text-anchor=\"middle\" x=\"182.063\" y=\"-120.8\" font-family=\"Helvetica,sans-Serif\" font-size=\"14.00\">gini = 0.273</text>\n",
       "<text text-anchor=\"middle\" x=\"182.063\" y=\"-106.8\" font-family=\"Helvetica,sans-Serif\" font-size=\"14.00\">samples = 374</text>\n",
       "<text text-anchor=\"middle\" x=\"182.063\" y=\"-92.8\" font-family=\"Helvetica,sans-Serif\" font-size=\"14.00\">value = [313, 61]</text>\n",
       "</g>\n",
       "<!-- 2&#45;&gt;3 -->\n",
       "<g id=\"edge3\" class=\"edge\"><title>2&#45;&gt;3</title>\n",
       "<path fill=\"none\" stroke=\"black\" d=\"M306.478,-185.992C288.137,-176.117 267.694,-165.109 248.765,-154.916\"/>\n",
       "<polygon fill=\"black\" stroke=\"black\" points=\"250.364,-151.802 239.899,-150.142 247.045,-157.965 250.364,-151.802\"/>\n",
       "</g>\n",
       "<!-- 6 -->\n",
       "<g id=\"node7\" class=\"node\"><title>6</title>\n",
       "<path fill=\"#399de5\" fill-opacity=\"0.886275\" stroke=\"black\" d=\"M421.556,-150C421.556,-150 306.571,-150 306.571,-150 300.571,-150 294.571,-144 294.571,-138 294.571,-138 294.571,-98 294.571,-98 294.571,-92 300.571,-86 306.571,-86 306.571,-86 421.556,-86 421.556,-86 427.556,-86 433.556,-92 433.556,-98 433.556,-98 433.556,-138 433.556,-138 433.556,-144 427.556,-150 421.556,-150\"/>\n",
       "<text text-anchor=\"middle\" x=\"364.063\" y=\"-134.8\" font-family=\"Helvetica,sans-Serif\" font-size=\"14.00\">population_c &lt;= 0.5</text>\n",
       "<text text-anchor=\"middle\" x=\"364.063\" y=\"-120.8\" font-family=\"Helvetica,sans-Serif\" font-size=\"14.00\">gini = 0.184</text>\n",
       "<text text-anchor=\"middle\" x=\"364.063\" y=\"-106.8\" font-family=\"Helvetica,sans-Serif\" font-size=\"14.00\">samples = 107</text>\n",
       "<text text-anchor=\"middle\" x=\"364.063\" y=\"-92.8\" font-family=\"Helvetica,sans-Serif\" font-size=\"14.00\">value = [11, 96]</text>\n",
       "</g>\n",
       "<!-- 2&#45;&gt;6 -->\n",
       "<g id=\"edge6\" class=\"edge\"><title>2&#45;&gt;6</title>\n",
       "<path fill=\"none\" stroke=\"black\" d=\"M364.063,-185.992C364.063,-177.859 364.063,-168.959 364.063,-160.378\"/>\n",
       "<polygon fill=\"black\" stroke=\"black\" points=\"367.564,-160.142 364.063,-150.142 360.564,-160.142 367.564,-160.142\"/>\n",
       "</g>\n",
       "<!-- 4 -->\n",
       "<g id=\"node5\" class=\"node\"><title>4</title>\n",
       "<path fill=\"#e58139\" stroke=\"black\" d=\"M100.191,-50C100.191,-50 11.9365,-50 11.9365,-50 5.93645,-50 -0.0635485,-44 -0.0635485,-38 -0.0635485,-38 -0.0635485,-12 -0.0635485,-12 -0.0635485,-6 5.93645,-0 11.9365,-0 11.9365,-0 100.191,-0 100.191,-0 106.191,-0 112.191,-6 112.191,-12 112.191,-12 112.191,-38 112.191,-38 112.191,-44 106.191,-50 100.191,-50\"/>\n",
       "<text text-anchor=\"middle\" x=\"56.0635\" y=\"-34.8\" font-family=\"Helvetica,sans-Serif\" font-size=\"14.00\">gini = 0.0</text>\n",
       "<text text-anchor=\"middle\" x=\"56.0635\" y=\"-20.8\" font-family=\"Helvetica,sans-Serif\" font-size=\"14.00\">samples = 313</text>\n",
       "<text text-anchor=\"middle\" x=\"56.0635\" y=\"-6.8\" font-family=\"Helvetica,sans-Serif\" font-size=\"14.00\">value = [313, 0]</text>\n",
       "</g>\n",
       "<!-- 3&#45;&gt;4 -->\n",
       "<g id=\"edge4\" class=\"edge\"><title>3&#45;&gt;4</title>\n",
       "<path fill=\"none\" stroke=\"black\" d=\"M139.054,-85.9375C125.72,-76.3076 111.054,-65.7151 97.8073,-56.1483\"/>\n",
       "<polygon fill=\"black\" stroke=\"black\" points=\"99.4919,-53.0476 89.3359,-50.0301 95.3935,-58.7224 99.4919,-53.0476\"/>\n",
       "</g>\n",
       "<!-- 5 -->\n",
       "<g id=\"node6\" class=\"node\"><title>5</title>\n",
       "<path fill=\"#399de5\" stroke=\"black\" d=\"M222.405,-50C222.405,-50 141.722,-50 141.722,-50 135.722,-50 129.722,-44 129.722,-38 129.722,-38 129.722,-12 129.722,-12 129.722,-6 135.722,-0 141.722,-0 141.722,-0 222.405,-0 222.405,-0 228.405,-0 234.405,-6 234.405,-12 234.405,-12 234.405,-38 234.405,-38 234.405,-44 228.405,-50 222.405,-50\"/>\n",
       "<text text-anchor=\"middle\" x=\"182.063\" y=\"-34.8\" font-family=\"Helvetica,sans-Serif\" font-size=\"14.00\">gini = 0.0</text>\n",
       "<text text-anchor=\"middle\" x=\"182.063\" y=\"-20.8\" font-family=\"Helvetica,sans-Serif\" font-size=\"14.00\">samples = 61</text>\n",
       "<text text-anchor=\"middle\" x=\"182.063\" y=\"-6.8\" font-family=\"Helvetica,sans-Serif\" font-size=\"14.00\">value = [0, 61]</text>\n",
       "</g>\n",
       "<!-- 3&#45;&gt;5 -->\n",
       "<g id=\"edge5\" class=\"edge\"><title>3&#45;&gt;5</title>\n",
       "<path fill=\"none\" stroke=\"black\" d=\"M182.063,-85.9375C182.063,-77.6833 182.063,-68.7219 182.063,-60.3053\"/>\n",
       "<polygon fill=\"black\" stroke=\"black\" points=\"185.564,-60.03 182.063,-50.0301 178.564,-60.0301 185.564,-60.03\"/>\n",
       "</g>\n",
       "<!-- 7 -->\n",
       "<g id=\"node8\" class=\"node\"><title>7</title>\n",
       "<path fill=\"#399de5\" stroke=\"black\" d=\"M344.405,-50C344.405,-50 263.722,-50 263.722,-50 257.722,-50 251.722,-44 251.722,-38 251.722,-38 251.722,-12 251.722,-12 251.722,-6 257.722,-0 263.722,-0 263.722,-0 344.405,-0 344.405,-0 350.405,-0 356.405,-6 356.405,-12 356.405,-12 356.405,-38 356.405,-38 356.405,-44 350.405,-50 344.405,-50\"/>\n",
       "<text text-anchor=\"middle\" x=\"304.063\" y=\"-34.8\" font-family=\"Helvetica,sans-Serif\" font-size=\"14.00\">gini = 0.0</text>\n",
       "<text text-anchor=\"middle\" x=\"304.063\" y=\"-20.8\" font-family=\"Helvetica,sans-Serif\" font-size=\"14.00\">samples = 96</text>\n",
       "<text text-anchor=\"middle\" x=\"304.063\" y=\"-6.8\" font-family=\"Helvetica,sans-Serif\" font-size=\"14.00\">value = [0, 96]</text>\n",
       "</g>\n",
       "<!-- 6&#45;&gt;7 -->\n",
       "<g id=\"edge7\" class=\"edge\"><title>6&#45;&gt;7</title>\n",
       "<path fill=\"none\" stroke=\"black\" d=\"M343.583,-85.9375C337.778,-77.133 331.442,-67.5239 325.578,-58.6297\"/>\n",
       "<polygon fill=\"black\" stroke=\"black\" points=\"328.334,-56.4521 319.907,-50.0301 322.49,-60.3053 328.334,-56.4521\"/>\n",
       "</g>\n",
       "<!-- 8 -->\n",
       "<g id=\"node9\" class=\"node\"><title>8</title>\n",
       "<path fill=\"#e58139\" stroke=\"black\" d=\"M465.873,-50C465.873,-50 386.254,-50 386.254,-50 380.254,-50 374.254,-44 374.254,-38 374.254,-38 374.254,-12 374.254,-12 374.254,-6 380.254,-0 386.254,-0 386.254,-0 465.873,-0 465.873,-0 471.873,-0 477.873,-6 477.873,-12 477.873,-12 477.873,-38 477.873,-38 477.873,-44 471.873,-50 465.873,-50\"/>\n",
       "<text text-anchor=\"middle\" x=\"426.063\" y=\"-34.8\" font-family=\"Helvetica,sans-Serif\" font-size=\"14.00\">gini = 0.0</text>\n",
       "<text text-anchor=\"middle\" x=\"426.063\" y=\"-20.8\" font-family=\"Helvetica,sans-Serif\" font-size=\"14.00\">samples = 11</text>\n",
       "<text text-anchor=\"middle\" x=\"426.063\" y=\"-6.8\" font-family=\"Helvetica,sans-Serif\" font-size=\"14.00\">value = [11, 0]</text>\n",
       "</g>\n",
       "<!-- 6&#45;&gt;8 -->\n",
       "<g id=\"edge8\" class=\"edge\"><title>6&#45;&gt;8</title>\n",
       "<path fill=\"none\" stroke=\"black\" d=\"M385.227,-85.9375C391.288,-77.0413 397.909,-67.3236 404.021,-58.352\"/>\n",
       "<polygon fill=\"black\" stroke=\"black\" points=\"406.953,-60.265 409.691,-50.0301 401.168,-56.3236 406.953,-60.265\"/>\n",
       "</g>\n",
       "<!-- 10 -->\n",
       "<g id=\"node11\" class=\"node\"><title>10</title>\n",
       "<path fill=\"#399de5\" fill-opacity=\"0.988235\" stroke=\"black\" d=\"M613.556,-150C613.556,-150 498.571,-150 498.571,-150 492.571,-150 486.571,-144 486.571,-138 486.571,-138 486.571,-98 486.571,-98 486.571,-92 492.571,-86 498.571,-86 498.571,-86 613.556,-86 613.556,-86 619.556,-86 625.556,-92 625.556,-98 625.556,-98 625.556,-138 625.556,-138 625.556,-144 619.556,-150 613.556,-150\"/>\n",
       "<text text-anchor=\"middle\" x=\"556.063\" y=\"-134.8\" font-family=\"Helvetica,sans-Serif\" font-size=\"14.00\">population_c &lt;= 0.5</text>\n",
       "<text text-anchor=\"middle\" x=\"556.063\" y=\"-120.8\" font-family=\"Helvetica,sans-Serif\" font-size=\"14.00\">gini = 0.021</text>\n",
       "<text text-anchor=\"middle\" x=\"556.063\" y=\"-106.8\" font-family=\"Helvetica,sans-Serif\" font-size=\"14.00\">samples = 2182</text>\n",
       "<text text-anchor=\"middle\" x=\"556.063\" y=\"-92.8\" font-family=\"Helvetica,sans-Serif\" font-size=\"14.00\">value = [23, 2159]</text>\n",
       "</g>\n",
       "<!-- 9&#45;&gt;10 -->\n",
       "<g id=\"edge10\" class=\"edge\"><title>9&#45;&gt;10</title>\n",
       "<path fill=\"none\" stroke=\"black\" d=\"M556.063,-185.992C556.063,-177.859 556.063,-168.959 556.063,-160.378\"/>\n",
       "<polygon fill=\"black\" stroke=\"black\" points=\"559.564,-160.142 556.063,-150.142 552.564,-160.142 559.564,-160.142\"/>\n",
       "</g>\n",
       "<!-- 13 -->\n",
       "<g id=\"node14\" class=\"node\"><title>13</title>\n",
       "<path fill=\"#e58139\" stroke=\"black\" d=\"M736.405,-143C736.405,-143 655.722,-143 655.722,-143 649.722,-143 643.722,-137 643.722,-131 643.722,-131 643.722,-105 643.722,-105 643.722,-99 649.722,-93 655.722,-93 655.722,-93 736.405,-93 736.405,-93 742.405,-93 748.405,-99 748.405,-105 748.405,-105 748.405,-131 748.405,-131 748.405,-137 742.405,-143 736.405,-143\"/>\n",
       "<text text-anchor=\"middle\" x=\"696.063\" y=\"-127.8\" font-family=\"Helvetica,sans-Serif\" font-size=\"14.00\">gini = 0.0</text>\n",
       "<text text-anchor=\"middle\" x=\"696.063\" y=\"-113.8\" font-family=\"Helvetica,sans-Serif\" font-size=\"14.00\">samples = 43</text>\n",
       "<text text-anchor=\"middle\" x=\"696.063\" y=\"-99.8\" font-family=\"Helvetica,sans-Serif\" font-size=\"14.00\">value = [43, 0]</text>\n",
       "</g>\n",
       "<!-- 9&#45;&gt;13 -->\n",
       "<g id=\"edge13\" class=\"edge\"><title>9&#45;&gt;13</title>\n",
       "<path fill=\"none\" stroke=\"black\" d=\"M600.36,-185.992C617.142,-174.245 636.212,-160.896 652.889,-149.222\"/>\n",
       "<polygon fill=\"black\" stroke=\"black\" points=\"655.182,-151.89 661.367,-143.288 651.167,-146.155 655.182,-151.89\"/>\n",
       "</g>\n",
       "<!-- 11 -->\n",
       "<g id=\"node12\" class=\"node\"><title>11</title>\n",
       "<path fill=\"#399de5\" stroke=\"black\" d=\"M603.977,-50C603.977,-50 508.15,-50 508.15,-50 502.15,-50 496.15,-44 496.15,-38 496.15,-38 496.15,-12 496.15,-12 496.15,-6 502.15,-0 508.15,-0 508.15,-0 603.977,-0 603.977,-0 609.977,-0 615.977,-6 615.977,-12 615.977,-12 615.977,-38 615.977,-38 615.977,-44 609.977,-50 603.977,-50\"/>\n",
       "<text text-anchor=\"middle\" x=\"556.063\" y=\"-34.8\" font-family=\"Helvetica,sans-Serif\" font-size=\"14.00\">gini = 0.0</text>\n",
       "<text text-anchor=\"middle\" x=\"556.063\" y=\"-20.8\" font-family=\"Helvetica,sans-Serif\" font-size=\"14.00\">samples = 2159</text>\n",
       "<text text-anchor=\"middle\" x=\"556.063\" y=\"-6.8\" font-family=\"Helvetica,sans-Serif\" font-size=\"14.00\">value = [0, 2159]</text>\n",
       "</g>\n",
       "<!-- 10&#45;&gt;11 -->\n",
       "<g id=\"edge11\" class=\"edge\"><title>10&#45;&gt;11</title>\n",
       "<path fill=\"none\" stroke=\"black\" d=\"M556.063,-85.9375C556.063,-77.6833 556.063,-68.7219 556.063,-60.3053\"/>\n",
       "<polygon fill=\"black\" stroke=\"black\" points=\"559.564,-60.03 556.063,-50.0301 552.564,-60.0301 559.564,-60.03\"/>\n",
       "</g>\n",
       "<!-- 12 -->\n",
       "<g id=\"node13\" class=\"node\"><title>12</title>\n",
       "<path fill=\"#e58139\" stroke=\"black\" d=\"M726.405,-50C726.405,-50 645.722,-50 645.722,-50 639.722,-50 633.722,-44 633.722,-38 633.722,-38 633.722,-12 633.722,-12 633.722,-6 639.722,-0 645.722,-0 645.722,-0 726.405,-0 726.405,-0 732.405,-0 738.405,-6 738.405,-12 738.405,-12 738.405,-38 738.405,-38 738.405,-44 732.405,-50 726.405,-50\"/>\n",
       "<text text-anchor=\"middle\" x=\"686.063\" y=\"-34.8\" font-family=\"Helvetica,sans-Serif\" font-size=\"14.00\">gini = 0.0</text>\n",
       "<text text-anchor=\"middle\" x=\"686.063\" y=\"-20.8\" font-family=\"Helvetica,sans-Serif\" font-size=\"14.00\">samples = 23</text>\n",
       "<text text-anchor=\"middle\" x=\"686.063\" y=\"-6.8\" font-family=\"Helvetica,sans-Serif\" font-size=\"14.00\">value = [23, 0]</text>\n",
       "</g>\n",
       "<!-- 10&#45;&gt;12 -->\n",
       "<g id=\"edge12\" class=\"edge\"><title>10&#45;&gt;12</title>\n",
       "<path fill=\"none\" stroke=\"black\" d=\"M600.439,-85.9375C614.327,-76.2158 629.616,-65.5132 643.385,-55.8752\"/>\n",
       "<polygon fill=\"black\" stroke=\"black\" points=\"645.55,-58.6321 651.735,-50.0301 641.535,-52.8974 645.55,-58.6321\"/>\n",
       "</g>\n",
       "</g>\n",
       "</svg>\n"
      ],
      "text/plain": [
       "<graphviz.files.Source at 0x113844a58>"
      ]
     },
     "execution_count": 47,
     "metadata": {},
     "output_type": "execute_result"
    }
   ],
   "source": [
    "DT = DecisionTreeClassifier(max_depth=6, min_impurity_decrease=0.005)\n",
    "DT.fit(X_train,y_train)\n",
    "pred1 = DT.predict(X_test)\n",
    "\n",
    "dot_data = tree.export_graphviz(DT, out_file=None,feature_names = df.drop('class',axis=1).columns,rounded=True,filled=True) \n",
    "graph = graphviz.Source(dot_data) \n",
    "graph"
   ]
  },
  {
   "cell_type": "markdown",
   "metadata": {},
   "source": [
    "## Discussion\n",
    "\n",
    "With the original data, L2, L1 and DT behave very differently. According to L2, odor_m offers the most value , while according to L1,spore_print_color_n offers the most value. This is compeltely different from DT, where according to it, odor_f offers most information gain while odor_m and spore_print_color_n doesnt even appear in the tree. One aspect that is clear however is that odor_f does seem to be important as it appears in the top 10 features for both L2 and L1 as well as DT. \n"
   ]
  },
  {
   "cell_type": "markdown",
   "metadata": {},
   "source": [
    "### Z-Score the Data"
   ]
  },
  {
   "cell_type": "code",
   "execution_count": 48,
   "metadata": {},
   "outputs": [
    {
     "name": "stdout",
     "output_type": "stream",
     "text": [
      "Data is now Z-Scored\n"
     ]
    }
   ],
   "source": [
    "scaler = StandardScaler(copy=False)\n",
    "X_trainZ = scaler.fit_transform(X_train)\n",
    "X_testZ = scaler.transform(X_test)\n",
    "print(\"Data is now Z-Scored\")"
   ]
  },
  {
   "cell_type": "code",
   "execution_count": 49,
   "metadata": {},
   "outputs": [
    {
     "data": {
      "text/plain": [
       "LogisticRegression(C=1.0, class_weight=None, dual=False, fit_intercept=True,\n",
       "          intercept_scaling=1, max_iter=100, multi_class='ovr', n_jobs=1,\n",
       "          penalty='l2', random_state=None, solver='liblinear', tol=0.0001,\n",
       "          verbose=0, warm_start=False)"
      ]
     },
     "execution_count": 49,
     "metadata": {},
     "output_type": "execute_result"
    }
   ],
   "source": [
    "#Training BernoulliNB classifiers with default parameters\n",
    "LRL2Z = LogisticRegression(penalty='l2')\n",
    "LRL2Z.fit(X_trainZ, y_train)"
   ]
  },
  {
   "cell_type": "code",
   "execution_count": 50,
   "metadata": {},
   "outputs": [
    {
     "data": {
      "text/plain": [
       "LogisticRegression(C=1.0, class_weight=None, dual=False, fit_intercept=True,\n",
       "          intercept_scaling=1, max_iter=100, multi_class='ovr', n_jobs=1,\n",
       "          penalty='l1', random_state=None, solver='liblinear', tol=0.0001,\n",
       "          verbose=0, warm_start=False)"
      ]
     },
     "execution_count": 50,
     "metadata": {},
     "output_type": "execute_result"
    }
   ],
   "source": [
    "#Training Logistic Regresiion classifiers with penalty= 'l1'\n",
    "LRL1Z = LogisticRegression(penalty='l1')\n",
    "LRL1Z.fit(X_trainZ, y_train)"
   ]
  },
  {
   "cell_type": "markdown",
   "metadata": {},
   "source": [
    "### Top 10 Features for Logistic Regression with L2 penalty with Z-Scored data"
   ]
  },
  {
   "cell_type": "code",
   "execution_count": 53,
   "metadata": {},
   "outputs": [
    {
     "name": "stdout",
     "output_type": "stream",
     "text": [
      "Logistic Regression L2 penalty Top 10 Features \n",
      "\n",
      " 1) odor_n \t\t weight: -1.470291\n",
      " 2) odor_m \t\t weight: 1.424020\n",
      " 3) odor_a \t\t weight: -1.261175\n",
      " 4) ring-type_p \t\t weight: -1.229458\n",
      " 5) odor_c \t\t weight: -1.229458\n",
      " 6) spore-print-color_n \t\t weight: -0.793938\n",
      " 7) bruises_t \t\t weight: 0.767152\n",
      " 8) odor_f \t\t weight: 0.764700\n",
      " 9) population_a \t\t weight: -0.756365\n",
      " 10) stalk-shape_t \t\t weight: -0.696828\n"
     ]
    }
   ],
   "source": [
    "top10L2Z = np.argsort(np.absolute(LRL2Z.coef_[0]))[::-1]\n",
    "print(\"Logistic Regression L2 penalty Top 10 Features \\n\")\n",
    "for x in range(0,10):\n",
    "    print(\" %i) %s \\t\\t weight: %f\"%(x+1,df.columns[top10L2Z[x]],LRL2Z.coef_[0][top10L2Z[x]]))"
   ]
  },
  {
   "cell_type": "markdown",
   "metadata": {},
   "source": [
    "### Top 10 Features for Logistic Regression with L1 penalty with Z-Scored data"
   ]
  },
  {
   "cell_type": "code",
   "execution_count": 54,
   "metadata": {},
   "outputs": [
    {
     "name": "stdout",
     "output_type": "stream",
     "text": [
      "Logistic Regression L1 penalty Top 10 Features \n",
      "\n",
      " 1) ring-type_p \t\t weight: -3.857108\n",
      " 2) odor_n \t\t weight: -1.961747\n",
      " 3) odor_m \t\t weight: 1.948516\n",
      " 4) odor_a \t\t weight: -1.776491\n",
      " 5) odor_c \t\t weight: -1.578265\n",
      " 6) spore-print-color_n \t\t weight: -1.411833\n",
      " 7) population_a \t\t weight: -1.057470\n",
      " 8) bruises_t \t\t weight: 0.918950\n",
      " 9) odor_f \t\t weight: 0.900039\n",
      " 10) gill-spacing_w \t\t weight: 0.244152\n"
     ]
    }
   ],
   "source": [
    "top10L1Z = np.argsort(np.absolute(LRL1Z.coef_[0]))[::-1]\n",
    "print(\"Logistic Regression L1 penalty Top 10 Features \\n\")\n",
    "for x in range(0,10):\n",
    "    print(\" %i) %s \\t\\t weight: %f\"%(x+1,df.columns[top10L1Z[x]],LRL1Z.coef_[0][top10L1Z[x]]))"
   ]
  },
  {
   "cell_type": "markdown",
   "metadata": {},
   "source": [
    "### Decision Tree with Z-Scored data"
   ]
  },
  {
   "cell_type": "code",
   "execution_count": 55,
   "metadata": {},
   "outputs": [
    {
     "data": {
      "image/svg+xml": [
       "<?xml version=\"1.0\" encoding=\"UTF-8\" standalone=\"no\"?>\n",
       "<!DOCTYPE svg PUBLIC \"-//W3C//DTD SVG 1.1//EN\"\n",
       " \"http://www.w3.org/Graphics/SVG/1.1/DTD/svg11.dtd\">\n",
       "<!-- Generated by graphviz version 2.38.0 (20140413.2041)\n",
       " -->\n",
       "<!-- Title: Tree Pages: 1 -->\n",
       "<svg width=\"802pt\" height=\"458pt\"\n",
       " viewBox=\"0.00 0.00 802.34 458.00\" xmlns=\"http://www.w3.org/2000/svg\" xmlns:xlink=\"http://www.w3.org/1999/xlink\">\n",
       "<g id=\"graph0\" class=\"graph\" transform=\"scale(1 1) rotate(0) translate(4 454)\">\n",
       "<title>Tree</title>\n",
       "<polygon fill=\"white\" stroke=\"none\" points=\"-4,4 -4,-454 798.341,-454 798.341,4 -4,4\"/>\n",
       "<!-- 0 -->\n",
       "<g id=\"node1\" class=\"node\"><title>0</title>\n",
       "<path fill=\"#399de5\" fill-opacity=\"0.368627\" stroke=\"black\" d=\"M614.332,-450C614.332,-450 446.009,-450 446.009,-450 440.009,-450 434.009,-444 434.009,-438 434.009,-438 434.009,-398 434.009,-398 434.009,-392 440.009,-386 446.009,-386 446.009,-386 614.332,-386 614.332,-386 620.332,-386 626.332,-392 626.332,-398 626.332,-398 626.332,-438 626.332,-438 626.332,-444 620.332,-450 614.332,-450\"/>\n",
       "<text text-anchor=\"middle\" x=\"530.17\" y=\"-434.8\" font-family=\"Helvetica,sans-Serif\" font-size=\"14.00\">spore&#45;print&#45;color_h &lt;= 0.478</text>\n",
       "<text text-anchor=\"middle\" x=\"530.17\" y=\"-420.8\" font-family=\"Helvetica,sans-Serif\" font-size=\"14.00\">gini = 0.475</text>\n",
       "<text text-anchor=\"middle\" x=\"530.17\" y=\"-406.8\" font-family=\"Helvetica,sans-Serif\" font-size=\"14.00\">samples = 3781</text>\n",
       "<text text-anchor=\"middle\" x=\"530.17\" y=\"-392.8\" font-family=\"Helvetica,sans-Serif\" font-size=\"14.00\">value = [1465, 2316]</text>\n",
       "</g>\n",
       "<!-- 1 -->\n",
       "<g id=\"node2\" class=\"node\"><title>1</title>\n",
       "<path fill=\"#399de5\" fill-opacity=\"0.831373\" stroke=\"black\" d=\"M514.713,-350C514.713,-350 397.627,-350 397.627,-350 391.627,-350 385.627,-344 385.627,-338 385.627,-338 385.627,-298 385.627,-298 385.627,-292 391.627,-286 397.627,-286 397.627,-286 514.713,-286 514.713,-286 520.713,-286 526.713,-292 526.713,-298 526.713,-298 526.713,-338 526.713,-338 526.713,-344 520.713,-350 514.713,-350\"/>\n",
       "<text text-anchor=\"middle\" x=\"456.17\" y=\"-334.8\" font-family=\"Helvetica,sans-Serif\" font-size=\"14.00\">gill&#45;size_b &lt;= &#45;1.119</text>\n",
       "<text text-anchor=\"middle\" x=\"456.17\" y=\"-320.8\" font-family=\"Helvetica,sans-Serif\" font-size=\"14.00\">gini = 0.247</text>\n",
       "<text text-anchor=\"middle\" x=\"456.17\" y=\"-306.8\" font-family=\"Helvetica,sans-Serif\" font-size=\"14.00\">samples = 2706</text>\n",
       "<text text-anchor=\"middle\" x=\"456.17\" y=\"-292.8\" font-family=\"Helvetica,sans-Serif\" font-size=\"14.00\">value = [390, 2316]</text>\n",
       "</g>\n",
       "<!-- 0&#45;&gt;1 -->\n",
       "<g id=\"edge1\" class=\"edge\"><title>0&#45;&gt;1</title>\n",
       "<path fill=\"none\" stroke=\"black\" d=\"M506.756,-385.992C500.143,-377.234 492.857,-367.585 485.924,-358.404\"/>\n",
       "<polygon fill=\"black\" stroke=\"black\" points=\"488.505,-356.014 479.686,-350.142 482.919,-360.232 488.505,-356.014\"/>\n",
       "<text text-anchor=\"middle\" x=\"476.231\" y=\"-370.703\" font-family=\"Helvetica,sans-Serif\" font-size=\"14.00\">True</text>\n",
       "</g>\n",
       "<!-- 14 -->\n",
       "<g id=\"node15\" class=\"node\"><title>14</title>\n",
       "<path fill=\"#e58139\" stroke=\"black\" d=\"M652.084,-343C652.084,-343 556.257,-343 556.257,-343 550.257,-343 544.257,-337 544.257,-331 544.257,-331 544.257,-305 544.257,-305 544.257,-299 550.257,-293 556.257,-293 556.257,-293 652.084,-293 652.084,-293 658.084,-293 664.084,-299 664.084,-305 664.084,-305 664.084,-331 664.084,-331 664.084,-337 658.084,-343 652.084,-343\"/>\n",
       "<text text-anchor=\"middle\" x=\"604.17\" y=\"-327.8\" font-family=\"Helvetica,sans-Serif\" font-size=\"14.00\">gini = 0.0</text>\n",
       "<text text-anchor=\"middle\" x=\"604.17\" y=\"-313.8\" font-family=\"Helvetica,sans-Serif\" font-size=\"14.00\">samples = 1075</text>\n",
       "<text text-anchor=\"middle\" x=\"604.17\" y=\"-299.8\" font-family=\"Helvetica,sans-Serif\" font-size=\"14.00\">value = [1075, 0]</text>\n",
       "</g>\n",
       "<!-- 0&#45;&gt;14 -->\n",
       "<g id=\"edge14\" class=\"edge\"><title>0&#45;&gt;14</title>\n",
       "<path fill=\"none\" stroke=\"black\" d=\"M553.584,-385.992C561.885,-375 571.245,-362.604 579.636,-351.491\"/>\n",
       "<polygon fill=\"black\" stroke=\"black\" points=\"582.598,-353.377 585.831,-343.288 577.012,-349.159 582.598,-353.377\"/>\n",
       "<text text-anchor=\"middle\" x=\"589.286\" y=\"-363.848\" font-family=\"Helvetica,sans-Serif\" font-size=\"14.00\">False</text>\n",
       "</g>\n",
       "<!-- 2 -->\n",
       "<g id=\"node3\" class=\"node\"><title>2</title>\n",
       "<path fill=\"#e58139\" fill-opacity=\"0.513725\" stroke=\"black\" d=\"M404.87,-250C404.87,-250 301.471,-250 301.471,-250 295.471,-250 289.471,-244 289.471,-238 289.471,-238 289.471,-198 289.471,-198 289.471,-192 295.471,-186 301.471,-186 301.471,-186 404.87,-186 404.87,-186 410.87,-186 416.87,-192 416.87,-198 416.87,-198 416.87,-238 416.87,-238 416.87,-244 410.87,-250 404.87,-250\"/>\n",
       "<text text-anchor=\"middle\" x=\"353.17\" y=\"-234.8\" font-family=\"Helvetica,sans-Serif\" font-size=\"14.00\">odor_n &lt;= 0.034</text>\n",
       "<text text-anchor=\"middle\" x=\"353.17\" y=\"-220.8\" font-family=\"Helvetica,sans-Serif\" font-size=\"14.00\">gini = 0.44</text>\n",
       "<text text-anchor=\"middle\" x=\"353.17\" y=\"-206.8\" font-family=\"Helvetica,sans-Serif\" font-size=\"14.00\">samples = 481</text>\n",
       "<text text-anchor=\"middle\" x=\"353.17\" y=\"-192.8\" font-family=\"Helvetica,sans-Serif\" font-size=\"14.00\">value = [324, 157]</text>\n",
       "</g>\n",
       "<!-- 1&#45;&gt;2 -->\n",
       "<g id=\"edge2\" class=\"edge\"><title>1&#45;&gt;2</title>\n",
       "<path fill=\"none\" stroke=\"black\" d=\"M423.581,-285.992C414,-276.876 403.405,-266.796 393.405,-257.282\"/>\n",
       "<polygon fill=\"black\" stroke=\"black\" points=\"395.559,-254.5 385.902,-250.142 390.734,-259.571 395.559,-254.5\"/>\n",
       "</g>\n",
       "<!-- 9 -->\n",
       "<g id=\"node10\" class=\"node\"><title>9</title>\n",
       "<path fill=\"#399de5\" fill-opacity=\"0.968627\" stroke=\"black\" d=\"M642.708,-250C642.708,-250 477.633,-250 477.633,-250 471.633,-250 465.633,-244 465.633,-238 465.633,-238 465.633,-198 465.633,-198 465.633,-192 471.633,-186 477.633,-186 477.633,-186 642.708,-186 642.708,-186 648.708,-186 654.708,-192 654.708,-198 654.708,-198 654.708,-238 654.708,-238 654.708,-244 648.708,-250 642.708,-250\"/>\n",
       "<text text-anchor=\"middle\" x=\"560.17\" y=\"-234.8\" font-family=\"Helvetica,sans-Serif\" font-size=\"14.00\">spore&#45;print&#45;color_r &lt;= 4.608</text>\n",
       "<text text-anchor=\"middle\" x=\"560.17\" y=\"-220.8\" font-family=\"Helvetica,sans-Serif\" font-size=\"14.00\">gini = 0.058</text>\n",
       "<text text-anchor=\"middle\" x=\"560.17\" y=\"-206.8\" font-family=\"Helvetica,sans-Serif\" font-size=\"14.00\">samples = 2225</text>\n",
       "<text text-anchor=\"middle\" x=\"560.17\" y=\"-192.8\" font-family=\"Helvetica,sans-Serif\" font-size=\"14.00\">value = [66, 2159]</text>\n",
       "</g>\n",
       "<!-- 1&#45;&gt;9 -->\n",
       "<g id=\"edge9\" class=\"edge\"><title>1&#45;&gt;9</title>\n",
       "<path fill=\"none\" stroke=\"black\" d=\"M489.077,-285.992C498.845,-276.787 509.658,-266.598 519.842,-257.002\"/>\n",
       "<polygon fill=\"black\" stroke=\"black\" points=\"522.244,-259.548 527.121,-250.142 517.443,-254.453 522.244,-259.548\"/>\n",
       "</g>\n",
       "<!-- 3 -->\n",
       "<g id=\"node4\" class=\"node\"><title>3</title>\n",
       "<path fill=\"#e58139\" fill-opacity=\"0.803922\" stroke=\"black\" d=\"M246.501,-150C246.501,-150 107.84,-150 107.84,-150 101.84,-150 95.84,-144 95.84,-138 95.84,-138 95.84,-98 95.84,-98 95.84,-92 101.84,-86 107.84,-86 107.84,-86 246.501,-86 246.501,-86 252.501,-86 258.501,-92 258.501,-98 258.501,-98 258.501,-138 258.501,-138 258.501,-144 252.501,-150 246.501,-150\"/>\n",
       "<text text-anchor=\"middle\" x=\"177.17\" y=\"-134.8\" font-family=\"Helvetica,sans-Serif\" font-size=\"14.00\">stalk&#45;shape_e &lt;= 0.007</text>\n",
       "<text text-anchor=\"middle\" x=\"177.17\" y=\"-120.8\" font-family=\"Helvetica,sans-Serif\" font-size=\"14.00\">gini = 0.273</text>\n",
       "<text text-anchor=\"middle\" x=\"177.17\" y=\"-106.8\" font-family=\"Helvetica,sans-Serif\" font-size=\"14.00\">samples = 374</text>\n",
       "<text text-anchor=\"middle\" x=\"177.17\" y=\"-92.8\" font-family=\"Helvetica,sans-Serif\" font-size=\"14.00\">value = [313, 61]</text>\n",
       "</g>\n",
       "<!-- 2&#45;&gt;3 -->\n",
       "<g id=\"edge3\" class=\"edge\"><title>2&#45;&gt;3</title>\n",
       "<path fill=\"none\" stroke=\"black\" d=\"M297.483,-185.992C279.828,-176.161 260.157,-165.208 241.921,-155.055\"/>\n",
       "<polygon fill=\"black\" stroke=\"black\" points=\"243.539,-151.949 233.1,-150.142 240.134,-158.065 243.539,-151.949\"/>\n",
       "</g>\n",
       "<!-- 6 -->\n",
       "<g id=\"node7\" class=\"node\"><title>6</title>\n",
       "<path fill=\"#399de5\" fill-opacity=\"0.886275\" stroke=\"black\" d=\"M418.235,-150C418.235,-150 288.105,-150 288.105,-150 282.105,-150 276.105,-144 276.105,-138 276.105,-138 276.105,-98 276.105,-98 276.105,-92 282.105,-86 288.105,-86 288.105,-86 418.235,-86 418.235,-86 424.235,-86 430.235,-92 430.235,-98 430.235,-98 430.235,-138 430.235,-138 430.235,-144 424.235,-150 418.235,-150\"/>\n",
       "<text text-anchor=\"middle\" x=\"353.17\" y=\"-134.8\" font-family=\"Helvetica,sans-Serif\" font-size=\"14.00\">population_c &lt;= 5.201</text>\n",
       "<text text-anchor=\"middle\" x=\"353.17\" y=\"-120.8\" font-family=\"Helvetica,sans-Serif\" font-size=\"14.00\">gini = 0.184</text>\n",
       "<text text-anchor=\"middle\" x=\"353.17\" y=\"-106.8\" font-family=\"Helvetica,sans-Serif\" font-size=\"14.00\">samples = 107</text>\n",
       "<text text-anchor=\"middle\" x=\"353.17\" y=\"-92.8\" font-family=\"Helvetica,sans-Serif\" font-size=\"14.00\">value = [11, 96]</text>\n",
       "</g>\n",
       "<!-- 2&#45;&gt;6 -->\n",
       "<g id=\"edge6\" class=\"edge\"><title>2&#45;&gt;6</title>\n",
       "<path fill=\"none\" stroke=\"black\" d=\"M353.17,-185.992C353.17,-177.859 353.17,-168.959 353.17,-160.378\"/>\n",
       "<polygon fill=\"black\" stroke=\"black\" points=\"356.671,-160.142 353.17,-150.142 349.671,-160.142 356.671,-160.142\"/>\n",
       "</g>\n",
       "<!-- 4 -->\n",
       "<g id=\"node5\" class=\"node\"><title>4</title>\n",
       "<path fill=\"#399de5\" stroke=\"black\" d=\"M92.5118,-50C92.5118,-50 11.829,-50 11.829,-50 5.82903,-50 -0.170969,-44 -0.170969,-38 -0.170969,-38 -0.170969,-12 -0.170969,-12 -0.170969,-6 5.82903,-0 11.829,-0 11.829,-0 92.5118,-0 92.5118,-0 98.5118,-0 104.512,-6 104.512,-12 104.512,-12 104.512,-38 104.512,-38 104.512,-44 98.5118,-50 92.5118,-50\"/>\n",
       "<text text-anchor=\"middle\" x=\"52.1704\" y=\"-34.8\" font-family=\"Helvetica,sans-Serif\" font-size=\"14.00\">gini = 0.0</text>\n",
       "<text text-anchor=\"middle\" x=\"52.1704\" y=\"-20.8\" font-family=\"Helvetica,sans-Serif\" font-size=\"14.00\">samples = 61</text>\n",
       "<text text-anchor=\"middle\" x=\"52.1704\" y=\"-6.8\" font-family=\"Helvetica,sans-Serif\" font-size=\"14.00\">value = [0, 61]</text>\n",
       "</g>\n",
       "<!-- 3&#45;&gt;4 -->\n",
       "<g id=\"edge4\" class=\"edge\"><title>3&#45;&gt;4</title>\n",
       "<path fill=\"none\" stroke=\"black\" d=\"M134.502,-85.9375C121.274,-76.3076 106.724,-65.7151 93.5829,-56.1483\"/>\n",
       "<polygon fill=\"black\" stroke=\"black\" points=\"95.3233,-53.0861 85.1788,-50.0301 91.2034,-58.7453 95.3233,-53.0861\"/>\n",
       "</g>\n",
       "<!-- 5 -->\n",
       "<g id=\"node6\" class=\"node\"><title>5</title>\n",
       "<path fill=\"#e58139\" stroke=\"black\" d=\"M222.297,-50C222.297,-50 134.043,-50 134.043,-50 128.043,-50 122.043,-44 122.043,-38 122.043,-38 122.043,-12 122.043,-12 122.043,-6 128.043,-0 134.043,-0 134.043,-0 222.297,-0 222.297,-0 228.297,-0 234.297,-6 234.297,-12 234.297,-12 234.297,-38 234.297,-38 234.297,-44 228.297,-50 222.297,-50\"/>\n",
       "<text text-anchor=\"middle\" x=\"178.17\" y=\"-34.8\" font-family=\"Helvetica,sans-Serif\" font-size=\"14.00\">gini = 0.0</text>\n",
       "<text text-anchor=\"middle\" x=\"178.17\" y=\"-20.8\" font-family=\"Helvetica,sans-Serif\" font-size=\"14.00\">samples = 313</text>\n",
       "<text text-anchor=\"middle\" x=\"178.17\" y=\"-6.8\" font-family=\"Helvetica,sans-Serif\" font-size=\"14.00\">value = [313, 0]</text>\n",
       "</g>\n",
       "<!-- 3&#45;&gt;5 -->\n",
       "<g id=\"edge5\" class=\"edge\"><title>3&#45;&gt;5</title>\n",
       "<path fill=\"none\" stroke=\"black\" d=\"M177.512,-85.9375C177.602,-77.6833 177.701,-68.7219 177.793,-60.3053\"/>\n",
       "<polygon fill=\"black\" stroke=\"black\" points=\"181.296,-60.068 177.906,-50.0301 174.297,-59.991 181.296,-60.068\"/>\n",
       "</g>\n",
       "<!-- 7 -->\n",
       "<g id=\"node8\" class=\"node\"><title>7</title>\n",
       "<path fill=\"#399de5\" stroke=\"black\" d=\"M346.512,-50C346.512,-50 265.829,-50 265.829,-50 259.829,-50 253.829,-44 253.829,-38 253.829,-38 253.829,-12 253.829,-12 253.829,-6 259.829,-0 265.829,-0 265.829,-0 346.512,-0 346.512,-0 352.512,-0 358.512,-6 358.512,-12 358.512,-12 358.512,-38 358.512,-38 358.512,-44 352.512,-50 346.512,-50\"/>\n",
       "<text text-anchor=\"middle\" x=\"306.17\" y=\"-34.8\" font-family=\"Helvetica,sans-Serif\" font-size=\"14.00\">gini = 0.0</text>\n",
       "<text text-anchor=\"middle\" x=\"306.17\" y=\"-20.8\" font-family=\"Helvetica,sans-Serif\" font-size=\"14.00\">samples = 96</text>\n",
       "<text text-anchor=\"middle\" x=\"306.17\" y=\"-6.8\" font-family=\"Helvetica,sans-Serif\" font-size=\"14.00\">value = [0, 96]</text>\n",
       "</g>\n",
       "<!-- 6&#45;&gt;7 -->\n",
       "<g id=\"edge7\" class=\"edge\"><title>6&#45;&gt;7</title>\n",
       "<path fill=\"none\" stroke=\"black\" d=\"M337.127,-85.9375C332.674,-77.3164 327.823,-67.9239 323.311,-59.1865\"/>\n",
       "<polygon fill=\"black\" stroke=\"black\" points=\"326.28,-57.3089 318.582,-50.0301 320.061,-60.5211 326.28,-57.3089\"/>\n",
       "</g>\n",
       "<!-- 8 -->\n",
       "<g id=\"node9\" class=\"node\"><title>8</title>\n",
       "<path fill=\"#e58139\" stroke=\"black\" d=\"M467.979,-50C467.979,-50 388.361,-50 388.361,-50 382.361,-50 376.361,-44 376.361,-38 376.361,-38 376.361,-12 376.361,-12 376.361,-6 382.361,-0 388.361,-0 388.361,-0 467.979,-0 467.979,-0 473.979,-0 479.979,-6 479.979,-12 479.979,-12 479.979,-38 479.979,-38 479.979,-44 473.979,-50 467.979,-50\"/>\n",
       "<text text-anchor=\"middle\" x=\"428.17\" y=\"-34.8\" font-family=\"Helvetica,sans-Serif\" font-size=\"14.00\">gini = 0.0</text>\n",
       "<text text-anchor=\"middle\" x=\"428.17\" y=\"-20.8\" font-family=\"Helvetica,sans-Serif\" font-size=\"14.00\">samples = 11</text>\n",
       "<text text-anchor=\"middle\" x=\"428.17\" y=\"-6.8\" font-family=\"Helvetica,sans-Serif\" font-size=\"14.00\">value = [11, 0]</text>\n",
       "</g>\n",
       "<!-- 6&#45;&gt;8 -->\n",
       "<g id=\"edge8\" class=\"edge\"><title>6&#45;&gt;8</title>\n",
       "<path fill=\"none\" stroke=\"black\" d=\"M378.771,-85.9375C386.255,-76.8578 394.443,-66.9225 401.963,-57.798\"/>\n",
       "<polygon fill=\"black\" stroke=\"black\" points=\"404.706,-59.973 408.365,-50.0301 399.304,-55.5209 404.706,-59.973\"/>\n",
       "</g>\n",
       "<!-- 10 -->\n",
       "<g id=\"node11\" class=\"node\"><title>10</title>\n",
       "<path fill=\"#399de5\" fill-opacity=\"0.988235\" stroke=\"black\" d=\"M659.663,-150C659.663,-150 460.678,-150 460.678,-150 454.678,-150 448.678,-144 448.678,-138 448.678,-138 448.678,-98 448.678,-98 448.678,-92 454.678,-86 460.678,-86 460.678,-86 659.663,-86 659.663,-86 665.663,-86 671.663,-92 671.663,-98 671.663,-98 671.663,-138 671.663,-138 671.663,-144 665.663,-150 659.663,-150\"/>\n",
       "<text text-anchor=\"middle\" x=\"560.17\" y=\"-134.8\" font-family=\"Helvetica,sans-Serif\" font-size=\"14.00\">stalk&#45;color&#45;below&#45;ring_c &lt;= 6.352</text>\n",
       "<text text-anchor=\"middle\" x=\"560.17\" y=\"-120.8\" font-family=\"Helvetica,sans-Serif\" font-size=\"14.00\">gini = 0.021</text>\n",
       "<text text-anchor=\"middle\" x=\"560.17\" y=\"-106.8\" font-family=\"Helvetica,sans-Serif\" font-size=\"14.00\">samples = 2182</text>\n",
       "<text text-anchor=\"middle\" x=\"560.17\" y=\"-92.8\" font-family=\"Helvetica,sans-Serif\" font-size=\"14.00\">value = [23, 2159]</text>\n",
       "</g>\n",
       "<!-- 9&#45;&gt;10 -->\n",
       "<g id=\"edge10\" class=\"edge\"><title>9&#45;&gt;10</title>\n",
       "<path fill=\"none\" stroke=\"black\" d=\"M560.17,-185.992C560.17,-177.859 560.17,-168.959 560.17,-160.378\"/>\n",
       "<polygon fill=\"black\" stroke=\"black\" points=\"563.671,-160.142 560.17,-150.142 556.671,-160.142 563.671,-160.142\"/>\n",
       "</g>\n",
       "<!-- 13 -->\n",
       "<g id=\"node14\" class=\"node\"><title>13</title>\n",
       "<path fill=\"#e58139\" stroke=\"black\" d=\"M782.512,-143C782.512,-143 701.829,-143 701.829,-143 695.829,-143 689.829,-137 689.829,-131 689.829,-131 689.829,-105 689.829,-105 689.829,-99 695.829,-93 701.829,-93 701.829,-93 782.512,-93 782.512,-93 788.512,-93 794.512,-99 794.512,-105 794.512,-105 794.512,-131 794.512,-131 794.512,-137 788.512,-143 782.512,-143\"/>\n",
       "<text text-anchor=\"middle\" x=\"742.17\" y=\"-127.8\" font-family=\"Helvetica,sans-Serif\" font-size=\"14.00\">gini = 0.0</text>\n",
       "<text text-anchor=\"middle\" x=\"742.17\" y=\"-113.8\" font-family=\"Helvetica,sans-Serif\" font-size=\"14.00\">samples = 43</text>\n",
       "<text text-anchor=\"middle\" x=\"742.17\" y=\"-99.8\" font-family=\"Helvetica,sans-Serif\" font-size=\"14.00\">value = [43, 0]</text>\n",
       "</g>\n",
       "<!-- 9&#45;&gt;13 -->\n",
       "<g id=\"edge13\" class=\"edge\"><title>9&#45;&gt;13</title>\n",
       "<path fill=\"none\" stroke=\"black\" d=\"M617.756,-185.992C640.364,-173.819 666.168,-159.925 688.392,-147.958\"/>\n",
       "<polygon fill=\"black\" stroke=\"black\" points=\"690.211,-150.953 697.357,-143.13 686.893,-144.79 690.211,-150.953\"/>\n",
       "</g>\n",
       "<!-- 11 -->\n",
       "<g id=\"node12\" class=\"node\"><title>11</title>\n",
       "<path fill=\"#399de5\" stroke=\"black\" d=\"M607.084,-50C607.084,-50 511.257,-50 511.257,-50 505.257,-50 499.257,-44 499.257,-38 499.257,-38 499.257,-12 499.257,-12 499.257,-6 505.257,-0 511.257,-0 511.257,-0 607.084,-0 607.084,-0 613.084,-0 619.084,-6 619.084,-12 619.084,-12 619.084,-38 619.084,-38 619.084,-44 613.084,-50 607.084,-50\"/>\n",
       "<text text-anchor=\"middle\" x=\"559.17\" y=\"-34.8\" font-family=\"Helvetica,sans-Serif\" font-size=\"14.00\">gini = 0.0</text>\n",
       "<text text-anchor=\"middle\" x=\"559.17\" y=\"-20.8\" font-family=\"Helvetica,sans-Serif\" font-size=\"14.00\">samples = 2159</text>\n",
       "<text text-anchor=\"middle\" x=\"559.17\" y=\"-6.8\" font-family=\"Helvetica,sans-Serif\" font-size=\"14.00\">value = [0, 2159]</text>\n",
       "</g>\n",
       "<!-- 10&#45;&gt;11 -->\n",
       "<g id=\"edge11\" class=\"edge\"><title>10&#45;&gt;11</title>\n",
       "<path fill=\"none\" stroke=\"black\" d=\"M559.829,-85.9375C559.738,-77.6833 559.64,-68.7219 559.547,-60.3053\"/>\n",
       "<polygon fill=\"black\" stroke=\"black\" points=\"563.044,-59.991 559.434,-50.0301 556.045,-60.068 563.044,-59.991\"/>\n",
       "</g>\n",
       "<!-- 12 -->\n",
       "<g id=\"node13\" class=\"node\"><title>12</title>\n",
       "<path fill=\"#e58139\" stroke=\"black\" d=\"M729.512,-50C729.512,-50 648.829,-50 648.829,-50 642.829,-50 636.829,-44 636.829,-38 636.829,-38 636.829,-12 636.829,-12 636.829,-6 642.829,-0 648.829,-0 648.829,-0 729.512,-0 729.512,-0 735.512,-0 741.512,-6 741.512,-12 741.512,-12 741.512,-38 741.512,-38 741.512,-44 735.512,-50 729.512,-50\"/>\n",
       "<text text-anchor=\"middle\" x=\"689.17\" y=\"-34.8\" font-family=\"Helvetica,sans-Serif\" font-size=\"14.00\">gini = 0.0</text>\n",
       "<text text-anchor=\"middle\" x=\"689.17\" y=\"-20.8\" font-family=\"Helvetica,sans-Serif\" font-size=\"14.00\">samples = 23</text>\n",
       "<text text-anchor=\"middle\" x=\"689.17\" y=\"-6.8\" font-family=\"Helvetica,sans-Serif\" font-size=\"14.00\">value = [23, 0]</text>\n",
       "</g>\n",
       "<!-- 10&#45;&gt;12 -->\n",
       "<g id=\"edge12\" class=\"edge\"><title>10&#45;&gt;12</title>\n",
       "<path fill=\"none\" stroke=\"black\" d=\"M604.204,-85.9375C617.985,-76.2158 633.157,-65.5132 646.82,-55.8752\"/>\n",
       "<polygon fill=\"black\" stroke=\"black\" points=\"648.952,-58.6545 655.106,-50.0301 644.917,-52.9345 648.952,-58.6545\"/>\n",
       "</g>\n",
       "</g>\n",
       "</svg>\n"
      ],
      "text/plain": [
       "<graphviz.files.Source at 0x113831908>"
      ]
     },
     "execution_count": 55,
     "metadata": {},
     "output_type": "execute_result"
    }
   ],
   "source": [
    "DTZ = DecisionTreeClassifier(max_depth=6, min_impurity_decrease=0.005)\n",
    "DTZ.fit(X_trainZ,y_train)\n",
    "pred1 = DT.predict(X_testZ)\n",
    "\n",
    "dot_data = tree.export_graphviz(DTZ, out_file=None,feature_names = df.drop('class',axis=1).columns,rounded=True,filled=True) \n",
    "graph = graphviz.Source(dot_data) \n",
    "graph"
   ]
  },
  {
   "cell_type": "markdown",
   "metadata": {},
   "source": [
    "## Discussion\n",
    "\n",
    "After Z-Scoring the data L2 and L1 seem to be a lot closer in terms of feature weights. The weights themselves have dropped significantly which improves transparency and prevents Logistic Regression from giving high weights to features that do not really make sense. DT however is still very different from L2 and L1. "
   ]
  },
  {
   "cell_type": "code",
   "execution_count": 56,
   "metadata": {
    "collapsed": true
   },
   "outputs": [],
   "source": [
    "probabilities = LRL2Z.predict_proba(X_testZ)"
   ]
  },
  {
   "cell_type": "code",
   "execution_count": 57,
   "metadata": {
    "collapsed": true
   },
   "outputs": [],
   "source": [
    "wi_xi =np.multiply(X_testZ,LRL2Z.coef_[0])\n",
    "\n",
    "total_pos_evi = []\n",
    "total_neg_evi = []\n",
    "\n",
    "for r in range(0,X_test.shape[0]):\n",
    "    \n",
    "    total_pos_evi.append(np.add(LRL2Z.intercept_[0],np.sum(x for x in wi_xi[r] if x >0)))\n",
    "    total_neg_evi.append(np.add(LRL2Z.intercept_[0],np.sum(x for x in wi_xi[r] if x <0)))\n"
   ]
  },
  {
   "cell_type": "code",
   "execution_count": 58,
   "metadata": {
    "collapsed": true
   },
   "outputs": [],
   "source": [
    "def get_top_features(row, LRL2Z, row_id):\n",
    "    wi_xi_row=np.multiply(row,LRL2Z.coef_[0])\n",
    "     \n",
    "    top3_pos_ft_ids = np.argsort(wi_xi_row)[::-1][:3] # top 3 positive feature IDs \n",
    "    top3_neg_ft_ids = np.argsort(wi_xi_row)[:3]\n",
    "    \n",
    "    print(\"\\nd) Top 3 feature values that contribute to postive evidence: \")\n",
    "    \n",
    "    for index in top3_pos_ft_ids:\n",
    "        print(\"Feature: %s = %f                Feature Evidence: %f\"%(X_test.columns[index],row[index],wi_xi_row[index]))\n",
    "        \n",
    "    print(\"\\ne) Top 3 feature values that contribute to negative evidence: \")\n",
    "    \n",
    "    for index in top3_neg_ft_ids:\n",
    "        print(\"Feature: %s = %f                Feature Evidence: %f\"%(X_test.columns[index],row[index],wi_xi_row[index]))"
   ]
  },
  {
   "cell_type": "markdown",
   "metadata": {},
   "source": [
    "### 1. Most Positive object in terms of probablity"
   ]
  },
  {
   "cell_type": "code",
   "execution_count": 59,
   "metadata": {},
   "outputs": [
    {
     "name": "stdout",
     "output_type": "stream",
     "text": [
      "a) Total Positive Evidence =  13.6222019341\n",
      "b) Total Negative Evidence =  -1.83438754611\n",
      "c) Probability Distribution =  [  1.90935898e-05   9.99980906e-01]\n",
      "\n",
      "d) Top 3 feature values that contribute to postive evidence: \n",
      "Feature: odor_n = 1.034173                Feature Evidence: 1.472683\n",
      "Feature: ring-type_e = 2.441960                Feature Evidence: 1.083279\n",
      "Feature: stalk-root_b = -1.429784                Feature Evidence: 0.996314\n",
      "\n",
      "e) Top 3 feature values that contribute to negative evidence: \n",
      "Feature: habitat_g = 1.437534                Feature Evidence: -0.397002\n",
      "Feature: spore-print-color_k = -0.703183                Feature Evidence: -0.379689\n",
      "Feature: habitat_d = -0.888958                Feature Evidence: -0.252881\n"
     ]
    }
   ],
   "source": [
    "id_most_pos = np.argmax(probabilities[:,1])\n",
    "print(\"a) Total Positive Evidence = \",total_pos_evi[id_most_pos])\n",
    "print(\"b) Total Negative Evidence = \", total_neg_evi[id_most_pos])\n",
    "print(\"c) Probability Distribution = \", probabilities[id_most_pos])\n",
    "get_top_features(X_testZ[id_most_pos],LRL2Z,id_most_pos)"
   ]
  },
  {
   "cell_type": "markdown",
   "metadata": {},
   "source": [
    "### 2. Most Negative object in terms of probablity"
   ]
  },
  {
   "cell_type": "code",
   "execution_count": 60,
   "metadata": {},
   "outputs": [
    {
     "name": "stdout",
     "output_type": "stream",
     "text": [
      "a) Total Positive log Evidence =  2.52053787247\n",
      "b) Total Negative log Evidence =  -16.0179763962\n",
      "c) Probability Distribution =  [  9.99999453e-01   5.46837222e-07]\n",
      "\n",
      "d) Top 3 feature values that contribute to postive evidence: \n",
      "Feature: odor_p = -0.216976                Feature Evidence: 0.319017\n",
      "Feature: odor_c = -0.198261                Feature Evidence: 0.250041\n",
      "Feature: cap-surface_s = -0.538928                Feature Evidence: 0.142782\n",
      "\n",
      "e) Top 3 feature values that contribute to negative evidence: \n",
      "Feature: odor_f = 1.586572                Feature Evidence: -1.950623\n",
      "Feature: spore-print-color_h = 1.586572                Feature Evidence: -1.950623\n",
      "Feature: odor_n = -0.966957                Feature Evidence: -1.376966\n"
     ]
    }
   ],
   "source": [
    "id_most_neg = np.argmax(probabilities[:,0])\n",
    "print(\"a) Total Positive log Evidence = \",total_pos_evi[id_most_neg])\n",
    "print(\"b) Total Negative log Evidence = \", total_neg_evi[id_most_neg])\n",
    "print(\"c) Probability Distribution = \", probabilities[id_most_neg])\n",
    "get_top_features(X_testZ[id_most_neg],LRL2Z,id_most_neg)"
   ]
  },
  {
   "cell_type": "markdown",
   "metadata": {},
   "source": [
    "### 3. Object that has highest Postive evidence "
   ]
  },
  {
   "cell_type": "code",
   "execution_count": 61,
   "metadata": {},
   "outputs": [
    {
     "name": "stdout",
     "output_type": "stream",
     "text": [
      "a) Total Positive Evidence =  17.7439058013\n",
      "b) Total Negative Evidence =  -22.921984544\n",
      "c) Probability Distribution =  [ 0.9977616  0.0022384]\n",
      "\n",
      "d) Top 3 feature values that contribute to postive evidence: \n",
      "Feature: spore-print-color_w = 5.859731                Feature Evidence: 2.793550\n",
      "Feature: stalk-root_c = 2.996040                Feature Evidence: 1.897184\n",
      "Feature: odor_n = 1.034173                Feature Evidence: 1.472683\n",
      "\n",
      "e) Top 3 feature values that contribute to negative evidence: \n",
      "Feature: population_c = 10.497899                Feature Evidence: -7.940240\n",
      "Feature: stalk-color-below-ring_y = 27.480902                Feature Evidence: -2.340539\n",
      "Feature: veil-color_y = 27.480902                Feature Evidence: -2.340539\n"
     ]
    }
   ],
   "source": [
    "id_most_pos_evi = np.argmax(total_pos_evi)\n",
    "print(\"a) Total Positive Evidence = \",total_pos_evi[id_most_pos_evi])\n",
    "print(\"b) Total Negative Evidence = \", total_neg_evi[id_most_pos_evi])\n",
    "print(\"c) Probability Distribution = \", probabilities[id_most_pos_evi])\n",
    "get_top_features(X_testZ[id_most_pos_evi],LRL2Z,id_most_pos_evi)"
   ]
  },
  {
   "cell_type": "markdown",
   "metadata": {},
   "source": [
    "### 4. Object that has highest Negative evidence"
   ]
  },
  {
   "cell_type": "code",
   "execution_count": 62,
   "metadata": {},
   "outputs": [
    {
     "name": "stdout",
     "output_type": "stream",
     "text": [
      "a) Total Positive Evidence =  17.6130086186\n",
      "b) Total Negative Evidence =  -24.1734364979\n",
      "c) Probability Distribution =  [  9.99437245e-01   5.62754892e-04]\n",
      "\n",
      "d) Top 3 feature values that contribute to postive evidence: \n",
      "Feature: spore-print-color_w = 5.859731                Feature Evidence: 2.793550\n",
      "Feature: stalk-root_c = 2.996040                Feature Evidence: 1.897184\n",
      "Feature: odor_n = 1.034173                Feature Evidence: 1.472683\n",
      "\n",
      "e) Top 3 feature values that contribute to negative evidence: \n",
      "Feature: population_c = 10.497899                Feature Evidence: -7.940240\n",
      "Feature: stalk-color-above-ring_y = 27.480902                Feature Evidence: -2.340539\n",
      "Feature: stalk-color-below-ring_y = 27.480902                Feature Evidence: -2.340539\n"
     ]
    }
   ],
   "source": [
    "id_most_neg_evi = np.argmin(total_neg_evi)\n",
    "print(\"a) Total Positive Evidence = \",total_pos_evi[id_most_neg_evi])\n",
    "print(\"b) Total Negative Evidence = \", total_neg_evi[id_most_neg_evi])\n",
    "print(\"c) Probability Distribution = \", probabilities[id_most_neg_evi])\n",
    "get_top_features(X_testZ[id_most_neg_evi],LRL2Z,id_most_neg_evi)"
   ]
  },
  {
   "cell_type": "markdown",
   "metadata": {},
   "source": [
    "### 5. Most Uncertain object"
   ]
  },
  {
   "cell_type": "code",
   "execution_count": 63,
   "metadata": {},
   "outputs": [
    {
     "name": "stdout",
     "output_type": "stream",
     "text": [
      "a) Total Positive Evidence =  11.8432497436\n",
      "b) Total Negative Evidence =  -13.7276576557\n",
      "c) Probability Distribution =  [ 0.94300368  0.05699632]\n",
      "\n",
      "d) Top 3 feature values that contribute to postive evidence: \n",
      "Feature: spore-print-color_w = 5.859731                Feature Evidence: 2.793550\n",
      "Feature: odor_n = 1.034173                Feature Evidence: 1.472683\n",
      "Feature: cap-shape_k = 12.782461                Feature Evidence: 0.836658\n",
      "\n",
      "e) Top 3 feature values that contribute to negative evidence: \n",
      "Feature: population_c = 10.497899                Feature Evidence: -7.940240\n",
      "Feature: gill-size_b = -2.619295                Feature Evidence: -0.785069\n",
      "Feature: gill-size_n = 2.619295                Feature Evidence: -0.785069\n"
     ]
    }
   ],
   "source": [
    "id_most_neutral = np.argmin(np.absolute(np.subtract(probabilities[:,0], probabilities[:,1])))\n",
    "print(\"a) Total Positive Evidence = \",total_pos_evi[id_most_neutral])\n",
    "print(\"b) Total Negative Evidence = \", total_neg_evi[id_most_neutral])\n",
    "print(\"c) Probability Distribution = \", probabilities[id_most_neutral])\n",
    "get_top_features(X_testZ[id_most_neutral],LRL2Z,id_most_neutral)"
   ]
  },
  {
   "cell_type": "code",
   "execution_count": null,
   "metadata": {
    "collapsed": true
   },
   "outputs": [],
   "source": []
  },
  {
   "cell_type": "code",
   "execution_count": null,
   "metadata": {
    "collapsed": true
   },
   "outputs": [],
   "source": []
  }
 ],
 "metadata": {
  "kernelspec": {
   "display_name": "Python [Root]",
   "language": "python",
   "name": "Python [Root]"
  },
  "language_info": {
   "codemirror_mode": {
    "name": "ipython",
    "version": 3
   },
   "file_extension": ".py",
   "mimetype": "text/x-python",
   "name": "python",
   "nbconvert_exporter": "python",
   "pygments_lexer": "ipython3",
   "version": "3.5.3"
  }
 },
 "nbformat": 4,
 "nbformat_minor": 2
}
